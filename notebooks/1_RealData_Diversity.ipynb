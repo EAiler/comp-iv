{
 "cells": [
  {
   "cell_type": "markdown",
   "metadata": {},
   "source": [
    "# Causal effect estimation of diversity on weight\n",
    "\n",
    "The notebook reproduces the real data diversity analysis in the paper [__A causal view on compositional data__](https://arxiv.org/abs/2106.11234) by E. Ailer, C. L. Müller and N. Kilbertus.\n",
    "\n",
    "In this section we explain the figure on the one-dimensional causal effect estimation of diversity on the weight. We apply the different methods on the Shannon diversity and the Simpson diversity to show that diversity might produce misleading results. This mostly serves as our motivation to then look deeper into the higher dimensional approach of using the whole compositional vector for the microbiome.\n",
    "\n",
    "\n",
    "<div class=\"alert alert-block alert-info\">\n",
    "<b>Note:</b>    \n",
    "    \n",
    "We perform the analysis for __Shannon diversity__ in full length. For __Simpson diversity__, the analysis can be performed in the exact same way, except that $X$ has to exchanged by the Simpson diversity estimate instead of the Shannon diversity estimate.\n",
    "</div>"
   ]
  },
  {
   "cell_type": "code",
   "execution_count": 1,
   "metadata": {},
   "outputs": [],
   "source": [
    "# standard libraries\n",
    "import sys\n",
    "import os\n",
    "sys.path.append(os.path.join(os.getcwd(), \"../src\"))\n",
    "import pandas as pd\n",
    "import statsmodels.api as sm\n",
    "from statsmodels.sandbox.regression.gmm import IV2SLS\n",
    "import plotly.graph_objects as go\n",
    "\n",
    "\n",
    "# paper relevant function files\n",
    "from helper_fct import *\n",
    "import boundiv\n",
    "import kiv\n",
    "from plot_fct import colours, update_layout, plot_diversity_methods"
   ]
  },
  {
   "cell_type": "markdown",
   "metadata": {},
   "source": [
    "# Shannon Diversity"
   ]
  },
  {
   "cell_type": "markdown",
   "metadata": {},
   "source": [
    "##  Read in data\n",
    "\n",
    "<div class=\"alert alert-block alert-info\">\n",
    "<b>Note:</b>    \n",
    "    \n",
    "Unfortunately, we personally cannot share the data. We refer to the paper for further references. However, the methods are implemented and work in any one-dimensional instrumental variable setting.\n",
    "</div>\n",
    "\n",
    "\n",
    "Both the Shannon as well as the Simpson Diversity have been estimated in R via the package [DivNet](https://github.com/adw96/DivNet) and [breakaway](https://github.com/adw96/breakaway) by Amy Willis.\n",
    "\n"
   ]
  },
  {
   "cell_type": "code",
   "execution_count": 4,
   "metadata": {},
   "outputs": [
    {
     "name": "stderr",
     "output_type": "stream",
     "text": [
      "WARNING:absl:No GPU/TPU found, falling back to CPU. (Set TF_CPP_MIN_LOG_LEVEL=0 and rerun for more info.)\n"
     ]
    }
   ],
   "source": [
    "data = pd.read_csv(\"data_shannon.csv\")\n",
    "\n",
    "X = data[\"estimate\"]\n",
    "n = X.shape[0]\n",
    "Y = data[\"weight\"]\n",
    "Z = np.array([data[\"Treatment_x\"][i].find(\"control\") for i in range(n)])*(-1)"
   ]
  },
  {
   "cell_type": "markdown",
   "metadata": {},
   "source": [
    "We whiten the data. Please make sure, to also whiten $Z$, if this is not a binary indicator."
   ]
  },
  {
   "cell_type": "code",
   "execution_count": 5,
   "metadata": {},
   "outputs": [],
   "source": [
    "Z = Z  # whiten_data(Z)\n",
    "X = whiten_data(X)\n",
    "Y = whiten_data(Y)"
   ]
  },
  {
   "cell_type": "code",
   "execution_count": 36,
   "metadata": {},
   "outputs": [],
   "source": [
    "z = Z.squeeze()\n",
    "y = Y.values.squeeze()\n",
    "x = X.values.squeeze()\n",
    "\n",
    "# Add constants to the feature matrices\n",
    "zz = sm.add_constant(z)\n",
    "xx = sm.add_constant(x)\n",
    "\n",
    "# xstar for evaluation purpose\n",
    "xstar = np.linspace(x.min(), x.max(), 30)"
   ]
  },
  {
   "cell_type": "markdown",
   "metadata": {},
   "source": [
    "## First Stage Regression for F Test\n",
    "\n",
    "\n",
    "<div class=\"alert alert-block alert-info\">\n",
    "<b>Note:</b> \n",
    "The first stage F Test is used for evaluating the strength of the instrument. In general a F-value over 10 is considered to be a strong enough instrument. However, note that this is only applicable in the one-dimensional setting.\n",
    "</div>"
   ]
  },
  {
   "cell_type": "code",
   "execution_count": 10,
   "metadata": {},
   "outputs": [
    {
     "name": "stdout",
     "output_type": "stream",
     "text": [
      "                            OLS Regression Results                            \n",
      "==============================================================================\n",
      "Dep. Variable:                      y   R-squared:                       0.129\n",
      "Model:                            OLS   Adj. R-squared:                  0.113\n",
      "Method:                 Least Squares   F-statistic:                     8.147\n",
      "Date:                 Mo, 12 Jul 2021   Prob (F-statistic):            0.00607\n",
      "Time:                        11:12:51   Log-Likelihood:                -76.438\n",
      "No. Observations:                  57   AIC:                             156.9\n",
      "Df Residuals:                      55   BIC:                             161.0\n",
      "Df Model:                           1                                         \n",
      "Covariance Type:            nonrobust                                         \n",
      "==============================================================================\n",
      "                 coef    std err          t      P>|t|      [0.025      0.975]\n",
      "------------------------------------------------------------------------------\n",
      "const         -0.4490      0.201     -2.237      0.029      -0.851      -0.047\n",
      "x1             0.7313      0.256      2.854      0.006       0.218       1.245\n",
      "==============================================================================\n",
      "Omnibus:                       12.884   Durbin-Watson:                   1.898\n",
      "Prob(Omnibus):                  0.002   Jarque-Bera (JB):                3.292\n",
      "Skew:                          -0.054   Prob(JB):                        0.193\n",
      "Kurtosis:                       1.828   Cond. No.                         2.98\n",
      "==============================================================================\n",
      "\n",
      "Warnings:\n",
      "[1] Standard Errors assume that the covariance matrix of the errors is correctly specified.\n"
     ]
    }
   ],
   "source": [
    "ols1 = sm.OLS(x, zz).fit()\n",
    "xhat = ols1.predict(zz)\n",
    "print(ols1.summary())"
   ]
  },
  {
   "cell_type": "markdown",
   "metadata": {},
   "source": [
    "## Run Methods on Real Microbiome Dataset\n",
    "\n",
    "In the following we try different methods for the dataset. We use __OLS__, __2SLS__, __KIV__ and the __Bounding Method__ to get a whole picture for the causal effect of the diversity on the weight. All three methods have different assumptions on the underlying data."
   ]
  },
  {
   "cell_type": "markdown",
   "metadata": {},
   "source": [
    "### Ordinary Least Squares\n",
    "\n",
    "\n",
    "__OLS__ is used as a benchmark. This is the regression not making use of the instrument but just predicting $Y$ entirely from $X$."
   ]
  },
  {
   "cell_type": "code",
   "execution_count": 22,
   "metadata": {},
   "outputs": [],
   "source": [
    "ols = sm.OLS(y, xx).fit()\n",
    "coeff_ols = ols.params\n",
    "ystar_ols = coeff_ols[0] + coeff_ols[1]*xstar"
   ]
  },
  {
   "cell_type": "markdown",
   "metadata": {},
   "source": [
    "### Two Stage Least Squares\n",
    "\n",
    "__TSLS__ assumes linearity and additive noise between $Z$, $X$, $Y$ and the confounding term."
   ]
  },
  {
   "cell_type": "code",
   "execution_count": 23,
   "metadata": {},
   "outputs": [],
   "source": [
    "iv2sls = IV2SLS(y, xx, zz).fit()\n",
    "coeff_2sls = iv2sls.params\n",
    "ystar_2sls = coeff_2sls[0] + coeff_2sls[1]*xstar"
   ]
  },
  {
   "cell_type": "markdown",
   "metadata": {},
   "source": [
    "### KIV\n",
    "\n",
    "__KIV__ allows for non-linear modelling of the relationships between $Z$, $X$ and $Y$ while still assuming additive noise."
   ]
  },
  {
   "cell_type": "code",
   "execution_count": 24,
   "metadata": {},
   "outputs": [],
   "source": [
    "xstar, ystar_kiv = kiv.fit_kiv(z, x, y, xstar=xstar)"
   ]
  },
  {
   "cell_type": "markdown",
   "metadata": {},
   "source": [
    "### Bounding Method\n",
    "\n",
    "For the __Bounding Method__ we have a large function class for the relationships between $Z$, $X$ and $Y$ and do no longer need to assume additive noise. This, however, means that we can estimate only upper and lower bounds for the causal effect."
   ]
  },
  {
   "cell_type": "code",
   "execution_count": 12,
   "metadata": {},
   "outputs": [],
   "source": [
    "xstar_bound = np.linspace(np.quantile(x, 0.1), np.quantile(x, 0.9), 10)"
   ]
  },
  {
   "cell_type": "code",
   "execution_count": 13,
   "metadata": {
    "scrolled": true
   },
   "outputs": [
    {
     "name": "stdout",
     "output_type": "stream",
     "text": [
      "2\n",
      "<function api_boundary.<locals>.reraise_with_filtered_traceback at 0x7fbb3d15d400>\n",
      "0\n",
      "1\n",
      "0\n",
      "1\n"
     ]
    },
    {
     "name": "stderr",
     "output_type": "stream",
     "text": [
      "100%|██████████| 150/150 [00:13<00:00, 10.73it/s]\n",
      "  1%|▏         | 2/150 [00:00<00:10, 14.71it/s]"
     ]
    },
    {
     "name": "stdout",
     "output_type": "stream",
     "text": [
      "{'indices': DeviceArray([[150,   0],\n",
      "             [  0,   0],\n",
      "             [  0,   0],\n",
      "             [  0,   0],\n",
      "             [  0,   0],\n",
      "             [  0,   0],\n",
      "             [  0,   0],\n",
      "             [  0,   0],\n",
      "             [  0,   0],\n",
      "             [  0,   0]], dtype=int32), 'objective': DeviceArray([[-2.3275762,  0.       ],\n",
      "             [ 0.       ,  0.       ],\n",
      "             [ 0.       ,  0.       ],\n",
      "             [ 0.       ,  0.       ],\n",
      "             [ 0.       ,  0.       ],\n",
      "             [ 0.       ,  0.       ],\n",
      "             [ 0.       ,  0.       ],\n",
      "             [ 0.       ,  0.       ],\n",
      "             [ 0.       ,  0.       ],\n",
      "             [ 0.       ,  0.       ]], dtype=float32), 'maxabsdiff': DeviceArray([[0.42314655, 0.        ],\n",
      "             [0.        , 0.        ],\n",
      "             [0.        , 0.        ],\n",
      "             [0.        , 0.        ],\n",
      "             [0.        , 0.        ],\n",
      "             [0.        , 0.        ],\n",
      "             [0.        , 0.        ],\n",
      "             [0.        , 0.        ],\n",
      "             [0.        , 0.        ],\n",
      "             [0.        , 0.        ]], dtype=float32)}\n",
      "{'indices': DeviceArray([[119,   0],\n",
      "             [  0,   0],\n",
      "             [  0,   0],\n",
      "             [  0,   0],\n",
      "             [  0,   0],\n",
      "             [  0,   0],\n",
      "             [  0,   0],\n",
      "             [  0,   0],\n",
      "             [  0,   0],\n",
      "             [  0,   0]], dtype=int32), 'objective': DeviceArray([[-2.2005098,  0.       ],\n",
      "             [ 0.       ,  0.       ],\n",
      "             [ 0.       ,  0.       ],\n",
      "             [ 0.       ,  0.       ],\n",
      "             [ 0.       ,  0.       ],\n",
      "             [ 0.       ,  0.       ],\n",
      "             [ 0.       ,  0.       ],\n",
      "             [ 0.       ,  0.       ],\n",
      "             [ 0.       ,  0.       ],\n",
      "             [ 0.       ,  0.       ]], dtype=float32), 'maxabsdiff': DeviceArray([[0.39224702, 0.        ],\n",
      "             [0.        , 0.        ],\n",
      "             [0.        , 0.        ],\n",
      "             [0.        , 0.        ],\n",
      "             [0.        , 0.        ],\n",
      "             [0.        , 0.        ],\n",
      "             [0.        , 0.        ],\n",
      "             [0.        , 0.        ],\n",
      "             [0.        , 0.        ],\n",
      "             [0.        , 0.        ]], dtype=float32)}\n"
     ]
    },
    {
     "name": "stderr",
     "output_type": "stream",
     "text": [
      "100%|██████████| 150/150 [00:09<00:00, 15.34it/s]\n",
      "  1%|▏         | 2/150 [00:00<00:12, 11.46it/s]"
     ]
    },
    {
     "name": "stdout",
     "output_type": "stream",
     "text": [
      "{'indices': DeviceArray([[150, 150],\n",
      "             [  0,   0],\n",
      "             [  0,   0],\n",
      "             [  0,   0],\n",
      "             [  0,   0],\n",
      "             [  0,   0],\n",
      "             [  0,   0],\n",
      "             [  0,   0],\n",
      "             [  0,   0],\n",
      "             [  0,   0]], dtype=int32), 'objective': DeviceArray([[-2.3275762 , -0.13899913],\n",
      "             [ 0.        ,  0.        ],\n",
      "             [ 0.        ,  0.        ],\n",
      "             [ 0.        ,  0.        ],\n",
      "             [ 0.        ,  0.        ],\n",
      "             [ 0.        ,  0.        ],\n",
      "             [ 0.        ,  0.        ],\n",
      "             [ 0.        ,  0.        ],\n",
      "             [ 0.        ,  0.        ],\n",
      "             [ 0.        ,  0.        ]], dtype=float32), 'maxabsdiff': DeviceArray([[0.42314655, 0.2819839 ],\n",
      "             [0.        , 0.        ],\n",
      "             [0.        , 0.        ],\n",
      "             [0.        , 0.        ],\n",
      "             [0.        , 0.        ],\n",
      "             [0.        , 0.        ],\n",
      "             [0.        , 0.        ],\n",
      "             [0.        , 0.        ],\n",
      "             [0.        , 0.        ],\n",
      "             [0.        , 0.        ]], dtype=float32)}\n",
      "{'indices': DeviceArray([[119, 146],\n",
      "             [  0,   0],\n",
      "             [  0,   0],\n",
      "             [  0,   0],\n",
      "             [  0,   0],\n",
      "             [  0,   0],\n",
      "             [  0,   0],\n",
      "             [  0,   0],\n",
      "             [  0,   0],\n",
      "             [  0,   0]], dtype=int32), 'objective': DeviceArray([[-2.2005098 , -0.15877895],\n",
      "             [ 0.        ,  0.        ],\n",
      "             [ 0.        ,  0.        ],\n",
      "             [ 0.        ,  0.        ],\n",
      "             [ 0.        ,  0.        ],\n",
      "             [ 0.        ,  0.        ],\n",
      "             [ 0.        ,  0.        ],\n",
      "             [ 0.        ,  0.        ],\n",
      "             [ 0.        ,  0.        ],\n",
      "             [ 0.        ,  0.        ]], dtype=float32), 'maxabsdiff': DeviceArray([[0.39224702, 0.28338444],\n",
      "             [0.        , 0.        ],\n",
      "             [0.        , 0.        ],\n",
      "             [0.        , 0.        ],\n",
      "             [0.        , 0.        ],\n",
      "             [0.        , 0.        ],\n",
      "             [0.        , 0.        ],\n",
      "             [0.        , 0.        ],\n",
      "             [0.        , 0.        ],\n",
      "             [0.        , 0.        ]], dtype=float32)}\n"
     ]
    },
    {
     "name": "stderr",
     "output_type": "stream",
     "text": [
      "100%|██████████| 150/150 [00:09<00:00, 15.05it/s]\n",
      "  1%|▏         | 2/150 [00:00<00:09, 15.90it/s]"
     ]
    },
    {
     "name": "stdout",
     "output_type": "stream",
     "text": [
      "{'indices': DeviceArray([[150, 150],\n",
      "             [150,   0],\n",
      "             [  0,   0],\n",
      "             [  0,   0],\n",
      "             [  0,   0],\n",
      "             [  0,   0],\n",
      "             [  0,   0],\n",
      "             [  0,   0],\n",
      "             [  0,   0],\n",
      "             [  0,   0]], dtype=int32), 'objective': DeviceArray([[-2.3275762 , -0.13899913],\n",
      "             [-1.7910798 ,  0.        ],\n",
      "             [ 0.        ,  0.        ],\n",
      "             [ 0.        ,  0.        ],\n",
      "             [ 0.        ,  0.        ],\n",
      "             [ 0.        ,  0.        ],\n",
      "             [ 0.        ,  0.        ],\n",
      "             [ 0.        ,  0.        ],\n",
      "             [ 0.        ,  0.        ],\n",
      "             [ 0.        ,  0.        ]], dtype=float32), 'maxabsdiff': DeviceArray([[0.42314655, 0.2819839 ],\n",
      "             [0.42729062, 0.        ],\n",
      "             [0.        , 0.        ],\n",
      "             [0.        , 0.        ],\n",
      "             [0.        , 0.        ],\n",
      "             [0.        , 0.        ],\n",
      "             [0.        , 0.        ],\n",
      "             [0.        , 0.        ],\n",
      "             [0.        , 0.        ],\n",
      "             [0.        , 0.        ]], dtype=float32)}\n",
      "{'indices': DeviceArray([[119, 146],\n",
      "             [111,   0],\n",
      "             [  0,   0],\n",
      "             [  0,   0],\n",
      "             [  0,   0],\n",
      "             [  0,   0],\n",
      "             [  0,   0],\n",
      "             [  0,   0],\n",
      "             [  0,   0],\n",
      "             [  0,   0]], dtype=int32), 'objective': DeviceArray([[-2.2005098 , -0.15877895],\n",
      "             [-1.6371617 ,  0.        ],\n",
      "             [ 0.        ,  0.        ],\n",
      "             [ 0.        ,  0.        ],\n",
      "             [ 0.        ,  0.        ],\n",
      "             [ 0.        ,  0.        ],\n",
      "             [ 0.        ,  0.        ],\n",
      "             [ 0.        ,  0.        ],\n",
      "             [ 0.        ,  0.        ],\n",
      "             [ 0.        ,  0.        ]], dtype=float32), 'maxabsdiff': DeviceArray([[0.39224702, 0.28338444],\n",
      "             [0.39091104, 0.        ],\n",
      "             [0.        , 0.        ],\n",
      "             [0.        , 0.        ],\n",
      "             [0.        , 0.        ],\n",
      "             [0.        , 0.        ],\n",
      "             [0.        , 0.        ],\n",
      "             [0.        , 0.        ],\n",
      "             [0.        , 0.        ],\n",
      "             [0.        , 0.        ]], dtype=float32)}\n"
     ]
    },
    {
     "name": "stderr",
     "output_type": "stream",
     "text": [
      "100%|██████████| 150/150 [00:18<00:00,  8.08it/s]\n",
      "  1%|▏         | 2/150 [00:00<00:10, 14.16it/s]"
     ]
    },
    {
     "name": "stdout",
     "output_type": "stream",
     "text": [
      "{'indices': DeviceArray([[150, 150],\n",
      "             [150, 150],\n",
      "             [  0,   0],\n",
      "             [  0,   0],\n",
      "             [  0,   0],\n",
      "             [  0,   0],\n",
      "             [  0,   0],\n",
      "             [  0,   0],\n",
      "             [  0,   0],\n",
      "             [  0,   0]], dtype=int32), 'objective': DeviceArray([[-2.3275762 , -0.13899913],\n",
      "             [-1.7910798 , -0.0131385 ],\n",
      "             [ 0.        ,  0.        ],\n",
      "             [ 0.        ,  0.        ],\n",
      "             [ 0.        ,  0.        ],\n",
      "             [ 0.        ,  0.        ],\n",
      "             [ 0.        ,  0.        ],\n",
      "             [ 0.        ,  0.        ],\n",
      "             [ 0.        ,  0.        ],\n",
      "             [ 0.        ,  0.        ]], dtype=float32), 'maxabsdiff': DeviceArray([[0.42314655, 0.2819839 ],\n",
      "             [0.42729062, 0.3739583 ],\n",
      "             [0.        , 0.        ],\n",
      "             [0.        , 0.        ],\n",
      "             [0.        , 0.        ],\n",
      "             [0.        , 0.        ],\n",
      "             [0.        , 0.        ],\n",
      "             [0.        , 0.        ],\n",
      "             [0.        , 0.        ],\n",
      "             [0.        , 0.        ]], dtype=float32)}\n",
      "{'indices': DeviceArray([[119, 146],\n",
      "             [111, 147],\n",
      "             [  0,   0],\n",
      "             [  0,   0],\n",
      "             [  0,   0],\n",
      "             [  0,   0],\n",
      "             [  0,   0],\n",
      "             [  0,   0],\n",
      "             [  0,   0],\n",
      "             [  0,   0]], dtype=int32), 'objective': DeviceArray([[-2.2005098 , -0.15877895],\n",
      "             [-1.6371617 , -0.02830505],\n",
      "             [ 0.        ,  0.        ],\n",
      "             [ 0.        ,  0.        ],\n",
      "             [ 0.        ,  0.        ],\n",
      "             [ 0.        ,  0.        ],\n",
      "             [ 0.        ,  0.        ],\n",
      "             [ 0.        ,  0.        ],\n",
      "             [ 0.        ,  0.        ],\n",
      "             [ 0.        ,  0.        ]], dtype=float32), 'maxabsdiff': DeviceArray([[0.39224702, 0.28338444],\n",
      "             [0.39091104, 0.36656684],\n",
      "             [0.        , 0.        ],\n",
      "             [0.        , 0.        ],\n",
      "             [0.        , 0.        ],\n",
      "             [0.        , 0.        ],\n",
      "             [0.        , 0.        ],\n",
      "             [0.        , 0.        ],\n",
      "             [0.        , 0.        ],\n",
      "             [0.        , 0.        ]], dtype=float32)}\n"
     ]
    },
    {
     "name": "stderr",
     "output_type": "stream",
     "text": [
      "100%|██████████| 150/150 [00:09<00:00, 15.24it/s]\n",
      "  1%|▏         | 2/150 [00:00<00:10, 14.18it/s]"
     ]
    },
    {
     "name": "stdout",
     "output_type": "stream",
     "text": [
      "{'indices': DeviceArray([[150, 150],\n",
      "             [150, 150],\n",
      "             [150,   0],\n",
      "             [  0,   0],\n",
      "             [  0,   0],\n",
      "             [  0,   0],\n",
      "             [  0,   0],\n",
      "             [  0,   0],\n",
      "             [  0,   0],\n",
      "             [  0,   0]], dtype=int32), 'objective': DeviceArray([[-2.3275762 , -0.13899913],\n",
      "             [-1.7910798 , -0.0131385 ],\n",
      "             [-1.3313822 ,  0.        ],\n",
      "             [ 0.        ,  0.        ],\n",
      "             [ 0.        ,  0.        ],\n",
      "             [ 0.        ,  0.        ],\n",
      "             [ 0.        ,  0.        ],\n",
      "             [ 0.        ,  0.        ],\n",
      "             [ 0.        ,  0.        ],\n",
      "             [ 0.        ,  0.        ]], dtype=float32), 'maxabsdiff': DeviceArray([[0.42314655, 0.2819839 ],\n",
      "             [0.42729062, 0.3739583 ],\n",
      "             [0.43405968, 0.        ],\n",
      "             [0.        , 0.        ],\n",
      "             [0.        , 0.        ],\n",
      "             [0.        , 0.        ],\n",
      "             [0.        , 0.        ],\n",
      "             [0.        , 0.        ],\n",
      "             [0.        , 0.        ],\n",
      "             [0.        , 0.        ]], dtype=float32)}\n",
      "{'indices': DeviceArray([[119, 146],\n",
      "             [111, 147],\n",
      "             [111,   0],\n",
      "             [  0,   0],\n",
      "             [  0,   0],\n",
      "             [  0,   0],\n",
      "             [  0,   0],\n",
      "             [  0,   0],\n",
      "             [  0,   0],\n",
      "             [  0,   0]], dtype=int32), 'objective': DeviceArray([[-2.2005098 , -0.15877895],\n",
      "             [-1.6371617 , -0.02830505],\n",
      "             [-1.215109  ,  0.        ],\n",
      "             [ 0.        ,  0.        ],\n",
      "             [ 0.        ,  0.        ],\n",
      "             [ 0.        ,  0.        ],\n",
      "             [ 0.        ,  0.        ],\n",
      "             [ 0.        ,  0.        ],\n",
      "             [ 0.        ,  0.        ],\n",
      "             [ 0.        ,  0.        ]], dtype=float32), 'maxabsdiff': DeviceArray([[0.39224702, 0.28338444],\n",
      "             [0.39091104, 0.36656684],\n",
      "             [0.38962466, 0.        ],\n",
      "             [0.        , 0.        ],\n",
      "             [0.        , 0.        ],\n",
      "             [0.        , 0.        ],\n",
      "             [0.        , 0.        ],\n",
      "             [0.        , 0.        ],\n",
      "             [0.        , 0.        ],\n",
      "             [0.        , 0.        ]], dtype=float32)}\n"
     ]
    },
    {
     "name": "stderr",
     "output_type": "stream",
     "text": [
      "100%|██████████| 150/150 [00:09<00:00, 16.01it/s]\n",
      "  1%|▏         | 2/150 [00:00<00:09, 15.54it/s]"
     ]
    },
    {
     "name": "stdout",
     "output_type": "stream",
     "text": [
      "{'indices': DeviceArray([[150, 150],\n",
      "             [150, 150],\n",
      "             [150, 150],\n",
      "             [  0,   0],\n",
      "             [  0,   0],\n",
      "             [  0,   0],\n",
      "             [  0,   0],\n",
      "             [  0,   0],\n",
      "             [  0,   0],\n",
      "             [  0,   0]], dtype=int32), 'objective': DeviceArray([[-2.3275762 , -0.13899913],\n",
      "             [-1.7910798 , -0.0131385 ],\n",
      "             [-1.3313822 ,  0.1547686 ],\n",
      "             [ 0.        ,  0.        ],\n",
      "             [ 0.        ,  0.        ],\n",
      "             [ 0.        ,  0.        ],\n",
      "             [ 0.        ,  0.        ],\n",
      "             [ 0.        ,  0.        ],\n",
      "             [ 0.        ,  0.        ],\n",
      "             [ 0.        ,  0.        ]], dtype=float32), 'maxabsdiff': DeviceArray([[0.42314655, 0.2819839 ],\n",
      "             [0.42729062, 0.3739583 ],\n",
      "             [0.43405968, 0.3785016 ],\n",
      "             [0.        , 0.        ],\n",
      "             [0.        , 0.        ],\n",
      "             [0.        , 0.        ],\n",
      "             [0.        , 0.        ],\n",
      "             [0.        , 0.        ],\n",
      "             [0.        , 0.        ],\n",
      "             [0.        , 0.        ]], dtype=float32)}\n",
      "{'indices': DeviceArray([[119, 146],\n",
      "             [111, 147],\n",
      "             [111, 150],\n",
      "             [  0,   0],\n",
      "             [  0,   0],\n",
      "             [  0,   0],\n",
      "             [  0,   0],\n",
      "             [  0,   0],\n",
      "             [  0,   0],\n",
      "             [  0,   0]], dtype=int32), 'objective': DeviceArray([[-2.2005098 , -0.15877895],\n",
      "             [-1.6371617 , -0.02830505],\n",
      "             [-1.215109  ,  0.1547686 ],\n",
      "             [ 0.        ,  0.        ],\n",
      "             [ 0.        ,  0.        ],\n",
      "             [ 0.        ,  0.        ],\n",
      "             [ 0.        ,  0.        ],\n",
      "             [ 0.        ,  0.        ],\n",
      "             [ 0.        ,  0.        ],\n",
      "             [ 0.        ,  0.        ]], dtype=float32), 'maxabsdiff': DeviceArray([[0.39224702, 0.28338444],\n",
      "             [0.39091104, 0.36656684],\n",
      "             [0.38962466, 0.3785016 ],\n",
      "             [0.        , 0.        ],\n",
      "             [0.        , 0.        ],\n",
      "             [0.        , 0.        ],\n",
      "             [0.        , 0.        ],\n",
      "             [0.        , 0.        ],\n",
      "             [0.        , 0.        ],\n",
      "             [0.        , 0.        ]], dtype=float32)}\n"
     ]
    },
    {
     "name": "stderr",
     "output_type": "stream",
     "text": [
      "100%|██████████| 150/150 [00:09<00:00, 15.81it/s]\n",
      "  1%|▏         | 2/150 [00:00<00:10, 14.43it/s]"
     ]
    },
    {
     "name": "stdout",
     "output_type": "stream",
     "text": [
      "{'indices': DeviceArray([[150, 150],\n",
      "             [150, 150],\n",
      "             [150, 150],\n",
      "             [150,   0],\n",
      "             [  0,   0],\n",
      "             [  0,   0],\n",
      "             [  0,   0],\n",
      "             [  0,   0],\n",
      "             [  0,   0],\n",
      "             [  0,   0]], dtype=int32), 'objective': DeviceArray([[-2.3275762 , -0.13899913],\n",
      "             [-1.7910798 , -0.0131385 ],\n",
      "             [-1.3313822 ,  0.1547686 ],\n",
      "             [-0.9799459 ,  0.        ],\n",
      "             [ 0.        ,  0.        ],\n",
      "             [ 0.        ,  0.        ],\n",
      "             [ 0.        ,  0.        ],\n",
      "             [ 0.        ,  0.        ],\n",
      "             [ 0.        ,  0.        ],\n",
      "             [ 0.        ,  0.        ]], dtype=float32), 'maxabsdiff': DeviceArray([[0.42314655, 0.2819839 ],\n",
      "             [0.42729062, 0.3739583 ],\n",
      "             [0.43405968, 0.3785016 ],\n",
      "             [0.45560998, 0.        ],\n",
      "             [0.        , 0.        ],\n",
      "             [0.        , 0.        ],\n",
      "             [0.        , 0.        ],\n",
      "             [0.        , 0.        ],\n",
      "             [0.        , 0.        ],\n",
      "             [0.        , 0.        ]], dtype=float32)}\n",
      "{'indices': DeviceArray([[119, 146],\n",
      "             [111, 147],\n",
      "             [111, 150],\n",
      "             [130,   0],\n",
      "             [  0,   0],\n",
      "             [  0,   0],\n",
      "             [  0,   0],\n",
      "             [  0,   0],\n",
      "             [  0,   0],\n",
      "             [  0,   0]], dtype=int32), 'objective': DeviceArray([[-2.2005098 , -0.15877895],\n",
      "             [-1.6371617 , -0.02830505],\n",
      "             [-1.215109  ,  0.1547686 ],\n",
      "             [-0.9159702 ,  0.        ],\n",
      "             [ 0.        ,  0.        ],\n",
      "             [ 0.        ,  0.        ],\n",
      "             [ 0.        ,  0.        ],\n",
      "             [ 0.        ,  0.        ],\n",
      "             [ 0.        ,  0.        ],\n",
      "             [ 0.        ,  0.        ]], dtype=float32), 'maxabsdiff': DeviceArray([[0.39224702, 0.28338444],\n",
      "             [0.39091104, 0.36656684],\n",
      "             [0.38962466, 0.3785016 ],\n",
      "             [0.35496038, 0.        ],\n",
      "             [0.        , 0.        ],\n",
      "             [0.        , 0.        ],\n",
      "             [0.        , 0.        ],\n",
      "             [0.        , 0.        ],\n",
      "             [0.        , 0.        ],\n",
      "             [0.        , 0.        ]], dtype=float32)}\n"
     ]
    },
    {
     "name": "stderr",
     "output_type": "stream",
     "text": [
      "100%|██████████| 150/150 [00:09<00:00, 15.54it/s]\n",
      "  1%|▏         | 2/150 [00:00<00:09, 15.22it/s]"
     ]
    },
    {
     "name": "stdout",
     "output_type": "stream",
     "text": [
      "{'indices': DeviceArray([[150, 150],\n",
      "             [150, 150],\n",
      "             [150, 150],\n",
      "             [150, 150],\n",
      "             [  0,   0],\n",
      "             [  0,   0],\n",
      "             [  0,   0],\n",
      "             [  0,   0],\n",
      "             [  0,   0],\n",
      "             [  0,   0]], dtype=int32), 'objective': DeviceArray([[-2.3275762 , -0.13899913],\n",
      "             [-1.7910798 , -0.0131385 ],\n",
      "             [-1.3313822 ,  0.1547686 ],\n",
      "             [-0.9799459 ,  0.30470592],\n",
      "             [ 0.        ,  0.        ],\n",
      "             [ 0.        ,  0.        ],\n",
      "             [ 0.        ,  0.        ],\n",
      "             [ 0.        ,  0.        ],\n",
      "             [ 0.        ,  0.        ],\n",
      "             [ 0.        ,  0.        ]], dtype=float32), 'maxabsdiff': DeviceArray([[0.42314655, 0.2819839 ],\n",
      "             [0.42729062, 0.3739583 ],\n",
      "             [0.43405968, 0.3785016 ],\n",
      "             [0.45560998, 0.3506425 ],\n",
      "             [0.        , 0.        ],\n",
      "             [0.        , 0.        ],\n",
      "             [0.        , 0.        ],\n",
      "             [0.        , 0.        ],\n",
      "             [0.        , 0.        ],\n",
      "             [0.        , 0.        ]], dtype=float32)}\n",
      "{'indices': DeviceArray([[119, 146],\n",
      "             [111, 147],\n",
      "             [111, 150],\n",
      "             [130, 150],\n",
      "             [  0,   0],\n",
      "             [  0,   0],\n",
      "             [  0,   0],\n",
      "             [  0,   0],\n",
      "             [  0,   0],\n",
      "             [  0,   0]], dtype=int32), 'objective': DeviceArray([[-2.2005098 , -0.15877895],\n",
      "             [-1.6371617 , -0.02830505],\n",
      "             [-1.215109  ,  0.1547686 ],\n",
      "             [-0.9159702 ,  0.30470592],\n",
      "             [ 0.        ,  0.        ],\n",
      "             [ 0.        ,  0.        ],\n",
      "             [ 0.        ,  0.        ],\n",
      "             [ 0.        ,  0.        ],\n",
      "             [ 0.        ,  0.        ],\n",
      "             [ 0.        ,  0.        ]], dtype=float32), 'maxabsdiff': DeviceArray([[0.39224702, 0.28338444],\n",
      "             [0.39091104, 0.36656684],\n",
      "             [0.38962466, 0.3785016 ],\n",
      "             [0.35496038, 0.3506425 ],\n",
      "             [0.        , 0.        ],\n",
      "             [0.        , 0.        ],\n",
      "             [0.        , 0.        ],\n",
      "             [0.        , 0.        ],\n",
      "             [0.        , 0.        ],\n",
      "             [0.        , 0.        ]], dtype=float32)}\n"
     ]
    },
    {
     "name": "stderr",
     "output_type": "stream",
     "text": [
      "100%|██████████| 150/150 [00:09<00:00, 15.95it/s]\n",
      "  1%|▏         | 2/150 [00:00<00:09, 15.66it/s]"
     ]
    },
    {
     "name": "stdout",
     "output_type": "stream",
     "text": [
      "{'indices': DeviceArray([[150, 150],\n",
      "             [150, 150],\n",
      "             [150, 150],\n",
      "             [150, 150],\n",
      "             [150,   0],\n",
      "             [  0,   0],\n",
      "             [  0,   0],\n",
      "             [  0,   0],\n",
      "             [  0,   0],\n",
      "             [  0,   0]], dtype=int32), 'objective': DeviceArray([[-2.3275762 , -0.13899913],\n",
      "             [-1.7910798 , -0.0131385 ],\n",
      "             [-1.3313822 ,  0.1547686 ],\n",
      "             [-0.9799459 ,  0.30470592],\n",
      "             [-0.6756184 ,  0.        ],\n",
      "             [ 0.        ,  0.        ],\n",
      "             [ 0.        ,  0.        ],\n",
      "             [ 0.        ,  0.        ],\n",
      "             [ 0.        ,  0.        ],\n",
      "             [ 0.        ,  0.        ]], dtype=float32), 'maxabsdiff': DeviceArray([[0.42314655, 0.2819839 ],\n",
      "             [0.42729062, 0.3739583 ],\n",
      "             [0.43405968, 0.3785016 ],\n",
      "             [0.45560998, 0.3506425 ],\n",
      "             [0.43326217, 0.        ],\n",
      "             [0.        , 0.        ],\n",
      "             [0.        , 0.        ],\n",
      "             [0.        , 0.        ],\n",
      "             [0.        , 0.        ],\n",
      "             [0.        , 0.        ]], dtype=float32)}\n",
      "{'indices': DeviceArray([[119, 146],\n",
      "             [111, 147],\n",
      "             [111, 150],\n",
      "             [130, 150],\n",
      "             [149,   0],\n",
      "             [  0,   0],\n",
      "             [  0,   0],\n",
      "             [  0,   0],\n",
      "             [  0,   0],\n",
      "             [  0,   0]], dtype=int32), 'objective': DeviceArray([[-2.2005098 , -0.15877895],\n",
      "             [-1.6371617 , -0.02830505],\n",
      "             [-1.215109  ,  0.1547686 ],\n",
      "             [-0.9159702 ,  0.30470592],\n",
      "             [-0.6691524 ,  0.        ],\n",
      "             [ 0.        ,  0.        ],\n",
      "             [ 0.        ,  0.        ],\n",
      "             [ 0.        ,  0.        ],\n",
      "             [ 0.        ,  0.        ],\n",
      "             [ 0.        ,  0.        ]], dtype=float32), 'maxabsdiff': DeviceArray([[0.39224702, 0.28338444],\n",
      "             [0.39091104, 0.36656684],\n",
      "             [0.38962466, 0.3785016 ],\n",
      "             [0.35496038, 0.3506425 ],\n",
      "             [0.39163786, 0.        ],\n",
      "             [0.        , 0.        ],\n",
      "             [0.        , 0.        ],\n",
      "             [0.        , 0.        ],\n",
      "             [0.        , 0.        ],\n",
      "             [0.        , 0.        ]], dtype=float32)}\n"
     ]
    },
    {
     "name": "stderr",
     "output_type": "stream",
     "text": [
      "100%|██████████| 150/150 [00:09<00:00, 15.77it/s]\n",
      "  1%|▏         | 2/150 [00:00<00:09, 15.54it/s]"
     ]
    },
    {
     "name": "stdout",
     "output_type": "stream",
     "text": [
      "{'indices': DeviceArray([[150, 150],\n",
      "             [150, 150],\n",
      "             [150, 150],\n",
      "             [150, 150],\n",
      "             [150, 150],\n",
      "             [  0,   0],\n",
      "             [  0,   0],\n",
      "             [  0,   0],\n",
      "             [  0,   0],\n",
      "             [  0,   0]], dtype=int32), 'objective': DeviceArray([[-2.3275762 , -0.13899913],\n",
      "             [-1.7910798 , -0.0131385 ],\n",
      "             [-1.3313822 ,  0.1547686 ],\n",
      "             [-0.9799459 ,  0.30470592],\n",
      "             [-0.6756184 ,  0.45809567],\n",
      "             [ 0.        ,  0.        ],\n",
      "             [ 0.        ,  0.        ],\n",
      "             [ 0.        ,  0.        ],\n",
      "             [ 0.        ,  0.        ],\n",
      "             [ 0.        ,  0.        ]], dtype=float32), 'maxabsdiff': DeviceArray([[0.42314655, 0.2819839 ],\n",
      "             [0.42729062, 0.3739583 ],\n",
      "             [0.43405968, 0.3785016 ],\n",
      "             [0.45560998, 0.3506425 ],\n",
      "             [0.43326217, 0.38278085],\n",
      "             [0.        , 0.        ],\n",
      "             [0.        , 0.        ],\n",
      "             [0.        , 0.        ],\n",
      "             [0.        , 0.        ],\n",
      "             [0.        , 0.        ]], dtype=float32)}\n",
      "{'indices': DeviceArray([[119, 146],\n",
      "             [111, 147],\n",
      "             [111, 150],\n",
      "             [130, 150],\n",
      "             [149, 150],\n",
      "             [  0,   0],\n",
      "             [  0,   0],\n",
      "             [  0,   0],\n",
      "             [  0,   0],\n",
      "             [  0,   0]], dtype=int32), 'objective': DeviceArray([[-2.2005098 , -0.15877895],\n",
      "             [-1.6371617 , -0.02830505],\n",
      "             [-1.215109  ,  0.1547686 ],\n",
      "             [-0.9159702 ,  0.30470592],\n",
      "             [-0.6691524 ,  0.45809567],\n",
      "             [ 0.        ,  0.        ],\n",
      "             [ 0.        ,  0.        ],\n",
      "             [ 0.        ,  0.        ],\n",
      "             [ 0.        ,  0.        ],\n",
      "             [ 0.        ,  0.        ]], dtype=float32), 'maxabsdiff': DeviceArray([[0.39224702, 0.28338444],\n",
      "             [0.39091104, 0.36656684],\n",
      "             [0.38962466, 0.3785016 ],\n",
      "             [0.35496038, 0.3506425 ],\n",
      "             [0.39163786, 0.38278085],\n",
      "             [0.        , 0.        ],\n",
      "             [0.        , 0.        ],\n",
      "             [0.        , 0.        ],\n",
      "             [0.        , 0.        ],\n",
      "             [0.        , 0.        ]], dtype=float32)}\n"
     ]
    },
    {
     "name": "stderr",
     "output_type": "stream",
     "text": [
      "100%|██████████| 150/150 [00:10<00:00, 14.64it/s]\n",
      "  1%|▏         | 2/150 [00:00<00:10, 14.29it/s]"
     ]
    },
    {
     "name": "stdout",
     "output_type": "stream",
     "text": [
      "{'indices': DeviceArray([[150, 150],\n",
      "             [150, 150],\n",
      "             [150, 150],\n",
      "             [150, 150],\n",
      "             [150, 150],\n",
      "             [150,   0],\n",
      "             [  0,   0],\n",
      "             [  0,   0],\n",
      "             [  0,   0],\n",
      "             [  0,   0]], dtype=int32), 'objective': DeviceArray([[-2.3275762 , -0.13899913],\n",
      "             [-1.7910798 , -0.0131385 ],\n",
      "             [-1.3313822 ,  0.1547686 ],\n",
      "             [-0.9799459 ,  0.30470592],\n",
      "             [-0.6756184 ,  0.45809567],\n",
      "             [-0.4607192 ,  0.        ],\n",
      "             [ 0.        ,  0.        ],\n",
      "             [ 0.        ,  0.        ],\n",
      "             [ 0.        ,  0.        ],\n",
      "             [ 0.        ,  0.        ]], dtype=float32), 'maxabsdiff': DeviceArray([[0.42314655, 0.2819839 ],\n",
      "             [0.42729062, 0.3739583 ],\n",
      "             [0.43405968, 0.3785016 ],\n",
      "             [0.45560998, 0.3506425 ],\n",
      "             [0.43326217, 0.38278085],\n",
      "             [0.41741925, 0.        ],\n",
      "             [0.        , 0.        ],\n",
      "             [0.        , 0.        ],\n",
      "             [0.        , 0.        ],\n",
      "             [0.        , 0.        ]], dtype=float32)}\n",
      "{'indices': DeviceArray([[119, 146],\n",
      "             [111, 147],\n",
      "             [111, 150],\n",
      "             [130, 150],\n",
      "             [149, 150],\n",
      "             [149,   0],\n",
      "             [  0,   0],\n",
      "             [  0,   0],\n",
      "             [  0,   0],\n",
      "             [  0,   0]], dtype=int32), 'objective': DeviceArray([[-2.2005098 , -0.15877895],\n",
      "             [-1.6371617 , -0.02830505],\n",
      "             [-1.215109  ,  0.1547686 ],\n",
      "             [-0.9159702 ,  0.30470592],\n",
      "             [-0.6691524 ,  0.45809567],\n",
      "             [-0.45956922,  0.        ],\n",
      "             [ 0.        ,  0.        ],\n",
      "             [ 0.        ,  0.        ],\n",
      "             [ 0.        ,  0.        ],\n",
      "             [ 0.        ,  0.        ]], dtype=float32), 'maxabsdiff': DeviceArray([[0.39224702, 0.28338444],\n",
      "             [0.39091104, 0.36656684],\n",
      "             [0.38962466, 0.3785016 ],\n",
      "             [0.35496038, 0.3506425 ],\n",
      "             [0.39163786, 0.38278085],\n",
      "             [0.37428838, 0.        ],\n",
      "             [0.        , 0.        ],\n",
      "             [0.        , 0.        ],\n",
      "             [0.        , 0.        ],\n",
      "             [0.        , 0.        ]], dtype=float32)}\n"
     ]
    },
    {
     "name": "stderr",
     "output_type": "stream",
     "text": [
      "100%|██████████| 150/150 [00:09<00:00, 15.81it/s]\n",
      "  1%|▏         | 2/150 [00:00<00:10, 13.65it/s]"
     ]
    },
    {
     "name": "stdout",
     "output_type": "stream",
     "text": [
      "{'indices': DeviceArray([[150, 150],\n",
      "             [150, 150],\n",
      "             [150, 150],\n",
      "             [150, 150],\n",
      "             [150, 150],\n",
      "             [150, 150],\n",
      "             [  0,   0],\n",
      "             [  0,   0],\n",
      "             [  0,   0],\n",
      "             [  0,   0]], dtype=int32), 'objective': DeviceArray([[-2.3275762 , -0.13899913],\n",
      "             [-1.7910798 , -0.0131385 ],\n",
      "             [-1.3313822 ,  0.1547686 ],\n",
      "             [-0.9799459 ,  0.30470592],\n",
      "             [-0.6756184 ,  0.45809567],\n",
      "             [-0.4607192 ,  0.6803309 ],\n",
      "             [ 0.        ,  0.        ],\n",
      "             [ 0.        ,  0.        ],\n",
      "             [ 0.        ,  0.        ],\n",
      "             [ 0.        ,  0.        ]], dtype=float32), 'maxabsdiff': DeviceArray([[0.42314655, 0.2819839 ],\n",
      "             [0.42729062, 0.3739583 ],\n",
      "             [0.43405968, 0.3785016 ],\n",
      "             [0.45560998, 0.3506425 ],\n",
      "             [0.43326217, 0.38278085],\n",
      "             [0.41741925, 0.39086348],\n",
      "             [0.        , 0.        ],\n",
      "             [0.        , 0.        ],\n",
      "             [0.        , 0.        ],\n",
      "             [0.        , 0.        ]], dtype=float32)}\n",
      "{'indices': DeviceArray([[119, 146],\n",
      "             [111, 147],\n",
      "             [111, 150],\n",
      "             [130, 150],\n",
      "             [149, 150],\n",
      "             [149, 150],\n",
      "             [  0,   0],\n",
      "             [  0,   0],\n",
      "             [  0,   0],\n",
      "             [  0,   0]], dtype=int32), 'objective': DeviceArray([[-2.2005098 , -0.15877895],\n",
      "             [-1.6371617 , -0.02830505],\n",
      "             [-1.215109  ,  0.1547686 ],\n",
      "             [-0.9159702 ,  0.30470592],\n",
      "             [-0.6691524 ,  0.45809567],\n",
      "             [-0.45956922,  0.6803309 ],\n",
      "             [ 0.        ,  0.        ],\n",
      "             [ 0.        ,  0.        ],\n",
      "             [ 0.        ,  0.        ],\n",
      "             [ 0.        ,  0.        ]], dtype=float32), 'maxabsdiff': DeviceArray([[0.39224702, 0.28338444],\n",
      "             [0.39091104, 0.36656684],\n",
      "             [0.38962466, 0.3785016 ],\n",
      "             [0.35496038, 0.3506425 ],\n",
      "             [0.39163786, 0.38278085],\n",
      "             [0.37428838, 0.39086348],\n",
      "             [0.        , 0.        ],\n",
      "             [0.        , 0.        ],\n",
      "             [0.        , 0.        ],\n",
      "             [0.        , 0.        ]], dtype=float32)}\n"
     ]
    },
    {
     "name": "stderr",
     "output_type": "stream",
     "text": [
      "100%|██████████| 150/150 [00:11<00:00, 12.97it/s]\n",
      "  1%|▏         | 2/150 [00:00<00:09, 14.83it/s]"
     ]
    },
    {
     "name": "stdout",
     "output_type": "stream",
     "text": [
      "{'indices': DeviceArray([[150, 150],\n",
      "             [150, 150],\n",
      "             [150, 150],\n",
      "             [150, 150],\n",
      "             [150, 150],\n",
      "             [150, 150],\n",
      "             [150,   0],\n",
      "             [  0,   0],\n",
      "             [  0,   0],\n",
      "             [  0,   0]], dtype=int32), 'objective': DeviceArray([[-2.3275762 , -0.13899913],\n",
      "             [-1.7910798 , -0.0131385 ],\n",
      "             [-1.3313822 ,  0.1547686 ],\n",
      "             [-0.9799459 ,  0.30470592],\n",
      "             [-0.6756184 ,  0.45809567],\n",
      "             [-0.4607192 ,  0.6803309 ],\n",
      "             [-0.29215193,  0.        ],\n",
      "             [ 0.        ,  0.        ],\n",
      "             [ 0.        ,  0.        ],\n",
      "             [ 0.        ,  0.        ]], dtype=float32), 'maxabsdiff': DeviceArray([[0.42314655, 0.2819839 ],\n",
      "             [0.42729062, 0.3739583 ],\n",
      "             [0.43405968, 0.3785016 ],\n",
      "             [0.45560998, 0.3506425 ],\n",
      "             [0.43326217, 0.38278085],\n",
      "             [0.41741925, 0.39086348],\n",
      "             [0.4055093 , 0.        ],\n",
      "             [0.        , 0.        ],\n",
      "             [0.        , 0.        ],\n",
      "             [0.        , 0.        ]], dtype=float32)}\n",
      "{'indices': DeviceArray([[119, 146],\n",
      "             [111, 147],\n",
      "             [111, 150],\n",
      "             [130, 150],\n",
      "             [149, 150],\n",
      "             [149, 150],\n",
      "             [149,   0],\n",
      "             [  0,   0],\n",
      "             [  0,   0],\n",
      "             [  0,   0]], dtype=int32), 'objective': DeviceArray([[-2.2005098 , -0.15877895],\n",
      "             [-1.6371617 , -0.02830505],\n",
      "             [-1.215109  ,  0.1547686 ],\n",
      "             [-0.9159702 ,  0.30470592],\n",
      "             [-0.6691524 ,  0.45809567],\n",
      "             [-0.45956922,  0.6803309 ],\n",
      "             [-0.29193935,  0.        ],\n",
      "             [ 0.        ,  0.        ],\n",
      "             [ 0.        ,  0.        ],\n",
      "             [ 0.        ,  0.        ]], dtype=float32), 'maxabsdiff': DeviceArray([[0.39224702, 0.28338444],\n",
      "             [0.39091104, 0.36656684],\n",
      "             [0.38962466, 0.3785016 ],\n",
      "             [0.35496038, 0.3506425 ],\n",
      "             [0.39163786, 0.38278085],\n",
      "             [0.37428838, 0.39086348],\n",
      "             [0.37161368, 0.        ],\n",
      "             [0.        , 0.        ],\n",
      "             [0.        , 0.        ],\n",
      "             [0.        , 0.        ]], dtype=float32)}\n"
     ]
    },
    {
     "name": "stderr",
     "output_type": "stream",
     "text": [
      "100%|██████████| 150/150 [00:10<00:00, 14.88it/s]\n",
      "  1%|▏         | 2/150 [00:00<00:10, 14.39it/s]"
     ]
    },
    {
     "name": "stdout",
     "output_type": "stream",
     "text": [
      "{'indices': DeviceArray([[150, 150],\n",
      "             [150, 150],\n",
      "             [150, 150],\n",
      "             [150, 150],\n",
      "             [150, 150],\n",
      "             [150, 150],\n",
      "             [150, 150],\n",
      "             [  0,   0],\n",
      "             [  0,   0],\n",
      "             [  0,   0]], dtype=int32), 'objective': DeviceArray([[-2.3275762 , -0.13899913],\n",
      "             [-1.7910798 , -0.0131385 ],\n",
      "             [-1.3313822 ,  0.1547686 ],\n",
      "             [-0.9799459 ,  0.30470592],\n",
      "             [-0.6756184 ,  0.45809567],\n",
      "             [-0.4607192 ,  0.6803309 ],\n",
      "             [-0.29215193,  0.96470225],\n",
      "             [ 0.        ,  0.        ],\n",
      "             [ 0.        ,  0.        ],\n",
      "             [ 0.        ,  0.        ]], dtype=float32), 'maxabsdiff': DeviceArray([[0.42314655, 0.2819839 ],\n",
      "             [0.42729062, 0.3739583 ],\n",
      "             [0.43405968, 0.3785016 ],\n",
      "             [0.45560998, 0.3506425 ],\n",
      "             [0.43326217, 0.38278085],\n",
      "             [0.41741925, 0.39086348],\n",
      "             [0.4055093 , 0.41027826],\n",
      "             [0.        , 0.        ],\n",
      "             [0.        , 0.        ],\n",
      "             [0.        , 0.        ]], dtype=float32)}\n",
      "{'indices': DeviceArray([[119, 146],\n",
      "             [111, 147],\n",
      "             [111, 150],\n",
      "             [130, 150],\n",
      "             [149, 150],\n",
      "             [149, 150],\n",
      "             [149, 137],\n",
      "             [  0,   0],\n",
      "             [  0,   0],\n",
      "             [  0,   0]], dtype=int32), 'objective': DeviceArray([[-2.2005098 , -0.15877895],\n",
      "             [-1.6371617 , -0.02830505],\n",
      "             [-1.215109  ,  0.1547686 ],\n",
      "             [-0.9159702 ,  0.30470592],\n",
      "             [-0.6691524 ,  0.45809567],\n",
      "             [-0.45956922,  0.6803309 ],\n",
      "             [-0.29193935,  0.93290603],\n",
      "             [ 0.        ,  0.        ],\n",
      "             [ 0.        ,  0.        ],\n",
      "             [ 0.        ,  0.        ]], dtype=float32), 'maxabsdiff': DeviceArray([[0.39224702, 0.28338444],\n",
      "             [0.39091104, 0.36656684],\n",
      "             [0.38962466, 0.3785016 ],\n",
      "             [0.35496038, 0.3506425 ],\n",
      "             [0.39163786, 0.38278085],\n",
      "             [0.37428838, 0.39086348],\n",
      "             [0.37161368, 0.35590476],\n",
      "             [0.        , 0.        ],\n",
      "             [0.        , 0.        ],\n",
      "             [0.        , 0.        ]], dtype=float32)}\n"
     ]
    },
    {
     "name": "stderr",
     "output_type": "stream",
     "text": [
      "100%|██████████| 150/150 [00:10<00:00, 14.73it/s]\n",
      "  1%|▏         | 2/150 [00:00<00:09, 15.03it/s]"
     ]
    },
    {
     "name": "stdout",
     "output_type": "stream",
     "text": [
      "{'indices': DeviceArray([[150, 150],\n",
      "             [150, 150],\n",
      "             [150, 150],\n",
      "             [150, 150],\n",
      "             [150, 150],\n",
      "             [150, 150],\n",
      "             [150, 150],\n",
      "             [150,   0],\n",
      "             [  0,   0],\n",
      "             [  0,   0]], dtype=int32), 'objective': DeviceArray([[-2.3275762 , -0.13899913],\n",
      "             [-1.7910798 , -0.0131385 ],\n",
      "             [-1.3313822 ,  0.1547686 ],\n",
      "             [-0.9799459 ,  0.30470592],\n",
      "             [-0.6756184 ,  0.45809567],\n",
      "             [-0.4607192 ,  0.6803309 ],\n",
      "             [-0.29215193,  0.96470225],\n",
      "             [-0.08326203,  0.        ],\n",
      "             [ 0.        ,  0.        ],\n",
      "             [ 0.        ,  0.        ]], dtype=float32), 'maxabsdiff': DeviceArray([[0.42314655, 0.2819839 ],\n",
      "             [0.42729062, 0.3739583 ],\n",
      "             [0.43405968, 0.3785016 ],\n",
      "             [0.45560998, 0.3506425 ],\n",
      "             [0.43326217, 0.38278085],\n",
      "             [0.41741925, 0.39086348],\n",
      "             [0.4055093 , 0.41027826],\n",
      "             [0.41004807, 0.        ],\n",
      "             [0.        , 0.        ],\n",
      "             [0.        , 0.        ]], dtype=float32)}\n",
      "{'indices': DeviceArray([[119, 146],\n",
      "             [111, 147],\n",
      "             [111, 150],\n",
      "             [130, 150],\n",
      "             [149, 150],\n",
      "             [149, 150],\n",
      "             [149, 137],\n",
      "             [149,   0],\n",
      "             [  0,   0],\n",
      "             [  0,   0]], dtype=int32), 'objective': DeviceArray([[-2.2005098 , -0.15877895],\n",
      "             [-1.6371617 , -0.02830505],\n",
      "             [-1.215109  ,  0.1547686 ],\n",
      "             [-0.9159702 ,  0.30470592],\n",
      "             [-0.6691524 ,  0.45809567],\n",
      "             [-0.45956922,  0.6803309 ],\n",
      "             [-0.29193935,  0.93290603],\n",
      "             [-0.08616388,  0.        ],\n",
      "             [ 0.        ,  0.        ],\n",
      "             [ 0.        ,  0.        ]], dtype=float32), 'maxabsdiff': DeviceArray([[0.39224702, 0.28338444],\n",
      "             [0.39091104, 0.36656684],\n",
      "             [0.38962466, 0.3785016 ],\n",
      "             [0.35496038, 0.3506425 ],\n",
      "             [0.39163786, 0.38278085],\n",
      "             [0.37428838, 0.39086348],\n",
      "             [0.37161368, 0.35590476],\n",
      "             [0.36666483, 0.        ],\n",
      "             [0.        , 0.        ],\n",
      "             [0.        , 0.        ]], dtype=float32)}\n"
     ]
    },
    {
     "name": "stderr",
     "output_type": "stream",
     "text": [
      "100%|██████████| 150/150 [00:09<00:00, 15.98it/s]\n",
      "  1%|▏         | 2/150 [00:00<00:11, 13.10it/s]"
     ]
    },
    {
     "name": "stdout",
     "output_type": "stream",
     "text": [
      "{'indices': DeviceArray([[150, 150],\n",
      "             [150, 150],\n",
      "             [150, 150],\n",
      "             [150, 150],\n",
      "             [150, 150],\n",
      "             [150, 150],\n",
      "             [150, 150],\n",
      "             [150, 150],\n",
      "             [  0,   0],\n",
      "             [  0,   0]], dtype=int32), 'objective': DeviceArray([[-2.3275762 , -0.13899913],\n",
      "             [-1.7910798 , -0.0131385 ],\n",
      "             [-1.3313822 ,  0.1547686 ],\n",
      "             [-0.9799459 ,  0.30470592],\n",
      "             [-0.6756184 ,  0.45809567],\n",
      "             [-0.4607192 ,  0.6803309 ],\n",
      "             [-0.29215193,  0.96470225],\n",
      "             [-0.08326203,  1.2855396 ],\n",
      "             [ 0.        ,  0.        ],\n",
      "             [ 0.        ,  0.        ]], dtype=float32), 'maxabsdiff': DeviceArray([[0.42314655, 0.2819839 ],\n",
      "             [0.42729062, 0.3739583 ],\n",
      "             [0.43405968, 0.3785016 ],\n",
      "             [0.45560998, 0.3506425 ],\n",
      "             [0.43326217, 0.38278085],\n",
      "             [0.41741925, 0.39086348],\n",
      "             [0.4055093 , 0.41027826],\n",
      "             [0.41004807, 0.38842422],\n",
      "             [0.        , 0.        ],\n",
      "             [0.        , 0.        ]], dtype=float32)}\n",
      "{'indices': DeviceArray([[119, 146],\n",
      "             [111, 147],\n",
      "             [111, 150],\n",
      "             [130, 150],\n",
      "             [149, 150],\n",
      "             [149, 150],\n",
      "             [149, 137],\n",
      "             [149, 150],\n",
      "             [  0,   0],\n",
      "             [  0,   0]], dtype=int32), 'objective': DeviceArray([[-2.2005098 , -0.15877895],\n",
      "             [-1.6371617 , -0.02830505],\n",
      "             [-1.215109  ,  0.1547686 ],\n",
      "             [-0.9159702 ,  0.30470592],\n",
      "             [-0.6691524 ,  0.45809567],\n",
      "             [-0.45956922,  0.6803309 ],\n",
      "             [-0.29193935,  0.93290603],\n",
      "             [-0.08616388,  1.2855396 ],\n",
      "             [ 0.        ,  0.        ],\n",
      "             [ 0.        ,  0.        ]], dtype=float32), 'maxabsdiff': DeviceArray([[0.39224702, 0.28338444],\n",
      "             [0.39091104, 0.36656684],\n",
      "             [0.38962466, 0.3785016 ],\n",
      "             [0.35496038, 0.3506425 ],\n",
      "             [0.39163786, 0.38278085],\n",
      "             [0.37428838, 0.39086348],\n",
      "             [0.37161368, 0.35590476],\n",
      "             [0.36666483, 0.38842422],\n",
      "             [0.        , 0.        ],\n",
      "             [0.        , 0.        ]], dtype=float32)}\n"
     ]
    },
    {
     "name": "stderr",
     "output_type": "stream",
     "text": [
      "100%|██████████| 150/150 [00:09<00:00, 15.50it/s]\n",
      "  1%|▏         | 2/150 [00:00<00:12, 12.23it/s]"
     ]
    },
    {
     "name": "stdout",
     "output_type": "stream",
     "text": [
      "{'indices': DeviceArray([[150, 150],\n",
      "             [150, 150],\n",
      "             [150, 150],\n",
      "             [150, 150],\n",
      "             [150, 150],\n",
      "             [150, 150],\n",
      "             [150, 150],\n",
      "             [150, 150],\n",
      "             [150,   0],\n",
      "             [  0,   0]], dtype=int32), 'objective': DeviceArray([[-2.3275762 , -0.13899913],\n",
      "             [-1.7910798 , -0.0131385 ],\n",
      "             [-1.3313822 ,  0.1547686 ],\n",
      "             [-0.9799459 ,  0.30470592],\n",
      "             [-0.6756184 ,  0.45809567],\n",
      "             [-0.4607192 ,  0.6803309 ],\n",
      "             [-0.29215193,  0.96470225],\n",
      "             [-0.08326203,  1.2855396 ],\n",
      "             [ 0.07979719,  0.        ],\n",
      "             [ 0.        ,  0.        ]], dtype=float32), 'maxabsdiff': DeviceArray([[0.42314655, 0.2819839 ],\n",
      "             [0.42729062, 0.3739583 ],\n",
      "             [0.43405968, 0.3785016 ],\n",
      "             [0.45560998, 0.3506425 ],\n",
      "             [0.43326217, 0.38278085],\n",
      "             [0.41741925, 0.39086348],\n",
      "             [0.4055093 , 0.41027826],\n",
      "             [0.41004807, 0.38842422],\n",
      "             [0.2998709 , 0.        ],\n",
      "             [0.        , 0.        ]], dtype=float32)}\n",
      "{'indices': DeviceArray([[119, 146],\n",
      "             [111, 147],\n",
      "             [111, 150],\n",
      "             [130, 150],\n",
      "             [149, 150],\n",
      "             [149, 150],\n",
      "             [149, 137],\n",
      "             [149, 150],\n",
      "             [150,   0],\n",
      "             [  0,   0]], dtype=int32), 'objective': DeviceArray([[-2.2005098 , -0.15877895],\n",
      "             [-1.6371617 , -0.02830505],\n",
      "             [-1.215109  ,  0.1547686 ],\n",
      "             [-0.9159702 ,  0.30470592],\n",
      "             [-0.6691524 ,  0.45809567],\n",
      "             [-0.45956922,  0.6803309 ],\n",
      "             [-0.29193935,  0.93290603],\n",
      "             [-0.08616388,  1.2855396 ],\n",
      "             [ 0.07979719,  0.        ],\n",
      "             [ 0.        ,  0.        ]], dtype=float32), 'maxabsdiff': DeviceArray([[0.39224702, 0.28338444],\n",
      "             [0.39091104, 0.36656684],\n",
      "             [0.38962466, 0.3785016 ],\n",
      "             [0.35496038, 0.3506425 ],\n",
      "             [0.39163786, 0.38278085],\n",
      "             [0.37428838, 0.39086348],\n",
      "             [0.37161368, 0.35590476],\n",
      "             [0.36666483, 0.38842422],\n",
      "             [0.2998709 , 0.        ],\n",
      "             [0.        , 0.        ]], dtype=float32)}\n"
     ]
    },
    {
     "name": "stderr",
     "output_type": "stream",
     "text": [
      "100%|██████████| 150/150 [00:09<00:00, 15.15it/s]\n",
      "  1%|▏         | 2/150 [00:00<00:10, 14.48it/s]"
     ]
    },
    {
     "name": "stdout",
     "output_type": "stream",
     "text": [
      "{'indices': DeviceArray([[150, 150],\n",
      "             [150, 150],\n",
      "             [150, 150],\n",
      "             [150, 150],\n",
      "             [150, 150],\n",
      "             [150, 150],\n",
      "             [150, 150],\n",
      "             [150, 150],\n",
      "             [150, 150],\n",
      "             [  0,   0]], dtype=int32), 'objective': DeviceArray([[-2.3275762 , -0.13899913],\n",
      "             [-1.7910798 , -0.0131385 ],\n",
      "             [-1.3313822 ,  0.1547686 ],\n",
      "             [-0.9799459 ,  0.30470592],\n",
      "             [-0.6756184 ,  0.45809567],\n",
      "             [-0.4607192 ,  0.6803309 ],\n",
      "             [-0.29215193,  0.96470225],\n",
      "             [-0.08326203,  1.2855396 ],\n",
      "             [ 0.07979719,  1.6231467 ],\n",
      "             [ 0.        ,  0.        ]], dtype=float32), 'maxabsdiff': DeviceArray([[0.42314655, 0.2819839 ],\n",
      "             [0.42729062, 0.3739583 ],\n",
      "             [0.43405968, 0.3785016 ],\n",
      "             [0.45560998, 0.3506425 ],\n",
      "             [0.43326217, 0.38278085],\n",
      "             [0.41741925, 0.39086348],\n",
      "             [0.4055093 , 0.41027826],\n",
      "             [0.41004807, 0.38842422],\n",
      "             [0.2998709 , 0.4125082 ],\n",
      "             [0.        , 0.        ]], dtype=float32)}\n",
      "{'indices': DeviceArray([[119, 146],\n",
      "             [111, 147],\n",
      "             [111, 150],\n",
      "             [130, 150],\n",
      "             [149, 150],\n",
      "             [149, 150],\n",
      "             [149, 137],\n",
      "             [149, 150],\n",
      "             [150, 147],\n",
      "             [  0,   0]], dtype=int32), 'objective': DeviceArray([[-2.2005098 , -0.15877895],\n",
      "             [-1.6371617 , -0.02830505],\n",
      "             [-1.215109  ,  0.1547686 ],\n",
      "             [-0.9159702 ,  0.30470592],\n",
      "             [-0.6691524 ,  0.45809567],\n",
      "             [-0.45956922,  0.6803309 ],\n",
      "             [-0.29193935,  0.93290603],\n",
      "             [-0.08616388,  1.2855396 ],\n",
      "             [ 0.07979719,  1.622224  ],\n",
      "             [ 0.        ,  0.        ]], dtype=float32), 'maxabsdiff': DeviceArray([[0.39224702, 0.28338444],\n",
      "             [0.39091104, 0.36656684],\n",
      "             [0.38962466, 0.3785016 ],\n",
      "             [0.35496038, 0.3506425 ],\n",
      "             [0.39163786, 0.38278085],\n",
      "             [0.37428838, 0.39086348],\n",
      "             [0.37161368, 0.35590476],\n",
      "             [0.36666483, 0.38842422],\n",
      "             [0.2998709 , 0.38941997],\n",
      "             [0.        , 0.        ]], dtype=float32)}\n"
     ]
    },
    {
     "name": "stderr",
     "output_type": "stream",
     "text": [
      "100%|██████████| 150/150 [00:09<00:00, 15.53it/s]\n",
      "  1%|▏         | 2/150 [00:00<00:10, 13.85it/s]"
     ]
    },
    {
     "name": "stdout",
     "output_type": "stream",
     "text": [
      "{'indices': DeviceArray([[150, 150],\n",
      "             [150, 150],\n",
      "             [150, 150],\n",
      "             [150, 150],\n",
      "             [150, 150],\n",
      "             [150, 150],\n",
      "             [150, 150],\n",
      "             [150, 150],\n",
      "             [150, 150],\n",
      "             [150,   0]], dtype=int32), 'objective': DeviceArray([[-2.3275762 , -0.13899913],\n",
      "             [-1.7910798 , -0.0131385 ],\n",
      "             [-1.3313822 ,  0.1547686 ],\n",
      "             [-0.9799459 ,  0.30470592],\n",
      "             [-0.6756184 ,  0.45809567],\n",
      "             [-0.4607192 ,  0.6803309 ],\n",
      "             [-0.29215193,  0.96470225],\n",
      "             [-0.08326203,  1.2855396 ],\n",
      "             [ 0.07979719,  1.6231467 ],\n",
      "             [ 0.19556758,  0.        ]], dtype=float32), 'maxabsdiff': DeviceArray([[0.42314655, 0.2819839 ],\n",
      "             [0.42729062, 0.3739583 ],\n",
      "             [0.43405968, 0.3785016 ],\n",
      "             [0.45560998, 0.3506425 ],\n",
      "             [0.43326217, 0.38278085],\n",
      "             [0.41741925, 0.39086348],\n",
      "             [0.4055093 , 0.41027826],\n",
      "             [0.41004807, 0.38842422],\n",
      "             [0.2998709 , 0.4125082 ],\n",
      "             [0.29914254, 0.        ]], dtype=float32)}\n",
      "{'indices': DeviceArray([[119, 146],\n",
      "             [111, 147],\n",
      "             [111, 150],\n",
      "             [130, 150],\n",
      "             [149, 150],\n",
      "             [149, 150],\n",
      "             [149, 137],\n",
      "             [149, 150],\n",
      "             [150, 147],\n",
      "             [150,   0]], dtype=int32), 'objective': DeviceArray([[-2.2005098 , -0.15877895],\n",
      "             [-1.6371617 , -0.02830505],\n",
      "             [-1.215109  ,  0.1547686 ],\n",
      "             [-0.9159702 ,  0.30470592],\n",
      "             [-0.6691524 ,  0.45809567],\n",
      "             [-0.45956922,  0.6803309 ],\n",
      "             [-0.29193935,  0.93290603],\n",
      "             [-0.08616388,  1.2855396 ],\n",
      "             [ 0.07979719,  1.622224  ],\n",
      "             [ 0.19556758,  0.        ]], dtype=float32), 'maxabsdiff': DeviceArray([[0.39224702, 0.28338444],\n",
      "             [0.39091104, 0.36656684],\n",
      "             [0.38962466, 0.3785016 ],\n",
      "             [0.35496038, 0.3506425 ],\n",
      "             [0.39163786, 0.38278085],\n",
      "             [0.37428838, 0.39086348],\n",
      "             [0.37161368, 0.35590476],\n",
      "             [0.36666483, 0.38842422],\n",
      "             [0.2998709 , 0.38941997],\n",
      "             [0.29914254, 0.        ]], dtype=float32)}\n"
     ]
    },
    {
     "name": "stderr",
     "output_type": "stream",
     "text": [
      "100%|██████████| 150/150 [00:09<00:00, 15.28it/s]\n"
     ]
    },
    {
     "name": "stdout",
     "output_type": "stream",
     "text": [
      "{'indices': DeviceArray([[150, 150],\n",
      "             [150, 150],\n",
      "             [150, 150],\n",
      "             [150, 150],\n",
      "             [150, 150],\n",
      "             [150, 150],\n",
      "             [150, 150],\n",
      "             [150, 150],\n",
      "             [150, 150],\n",
      "             [150, 150]], dtype=int32), 'objective': DeviceArray([[-2.3275762 , -0.13899913],\n",
      "             [-1.7910798 , -0.0131385 ],\n",
      "             [-1.3313822 ,  0.1547686 ],\n",
      "             [-0.9799459 ,  0.30470592],\n",
      "             [-0.6756184 ,  0.45809567],\n",
      "             [-0.4607192 ,  0.6803309 ],\n",
      "             [-0.29215193,  0.96470225],\n",
      "             [-0.08326203,  1.2855396 ],\n",
      "             [ 0.07979719,  1.6231467 ],\n",
      "             [ 0.19556758,  2.017192  ]], dtype=float32), 'maxabsdiff': DeviceArray([[0.42314655, 0.2819839 ],\n",
      "             [0.42729062, 0.3739583 ],\n",
      "             [0.43405968, 0.3785016 ],\n",
      "             [0.45560998, 0.3506425 ],\n",
      "             [0.43326217, 0.38278085],\n",
      "             [0.41741925, 0.39086348],\n",
      "             [0.4055093 , 0.41027826],\n",
      "             [0.41004807, 0.38842422],\n",
      "             [0.2998709 , 0.4125082 ],\n",
      "             [0.29914254, 0.4095071 ]], dtype=float32)}\n",
      "{'indices': DeviceArray([[119, 146],\n",
      "             [111, 147],\n",
      "             [111, 150],\n",
      "             [130, 150],\n",
      "             [149, 150],\n",
      "             [149, 150],\n",
      "             [149, 137],\n",
      "             [149, 150],\n",
      "             [150, 147],\n",
      "             [150, 148]], dtype=int32), 'objective': DeviceArray([[-2.2005098 , -0.15877895],\n",
      "             [-1.6371617 , -0.02830505],\n",
      "             [-1.215109  ,  0.1547686 ],\n",
      "             [-0.9159702 ,  0.30470592],\n",
      "             [-0.6691524 ,  0.45809567],\n",
      "             [-0.45956922,  0.6803309 ],\n",
      "             [-0.29193935,  0.93290603],\n",
      "             [-0.08616388,  1.2855396 ],\n",
      "             [ 0.07979719,  1.622224  ],\n",
      "             [ 0.19556758,  2.0069325 ]], dtype=float32), 'maxabsdiff': DeviceArray([[0.39224702, 0.28338444],\n",
      "             [0.39091104, 0.36656684],\n",
      "             [0.38962466, 0.3785016 ],\n",
      "             [0.35496038, 0.3506425 ],\n",
      "             [0.39163786, 0.38278085],\n",
      "             [0.37428838, 0.39086348],\n",
      "             [0.37161368, 0.35590476],\n",
      "             [0.36666483, 0.38842422],\n",
      "             [0.2998709 , 0.38941997],\n",
      "             [0.29914254, 0.39336282]], dtype=float32)}\n"
     ]
    }
   ],
   "source": [
    "satis, results = boundiv.fit_bounds(z, x, y, xstar_bound, slack=0.6)"
   ]
  },
  {
   "cell_type": "markdown",
   "metadata": {},
   "source": [
    "## Plot approaches for Shannon Diversity"
   ]
  },
  {
   "cell_type": "code",
   "execution_count": 31,
   "metadata": {},
   "outputs": [],
   "source": [
    "# insert here the personal path to some temporary or fig folder\n",
    "path = os.getcwd()\n",
    "img_path = os.path.join(path, \"temp\")"
   ]
  },
  {
   "cell_type": "code",
   "execution_count": 29,
   "metadata": {
    "scrolled": false
   },
   "outputs": [
    {
     "data": {
      "application/vnd.plotly.v1+json": {
       "config": {
        "plotlyServerURL": "https://plot.ly"
       },
       "data": [
        {
         "line": {
          "width": 4
         },
         "marker": {
          "color": "black",
          "line": {
           "width": 2
          },
          "size": 5,
          "symbol": "x-thin"
         },
         "mode": "markers",
         "name": "Data",
         "type": "scatter",
         "x": [
          0.9029934766780764,
          0.8696798357434594,
          0.7370550806373203,
          1.4446983744457014,
          -1.2829988303277227,
          0.8364293007843003,
          -0.10093353256624504,
          0.6382443307315441,
          0.12063473979559394,
          0.3451599045863524,
          0.2807058255582007,
          -1.1657466279929303,
          -1.6294521376400284,
          1.239628648857867,
          -0.4739969905189363,
          0.31290234501215486,
          -1.6864289014444285,
          -1.4572141366631848,
          -1.5435790295993457,
          1.1717896259483582,
          -1.5148454992988647,
          -0.53535385252016,
          -1.4283161162514386,
          -0.5659451919263538,
          1.1379665646839414,
          -0.6269542164957781,
          0.5399937320051973,
          -0.19499586187233894,
          0.671118845243303,
          -0.6573721120392947,
          1.341871397854884,
          -1.2244841103381372,
          1.0033142963170747,
          1.5827160462045042,
          1.5135760417434068,
          0.5073674423827654,
          0.3774786220541394,
          -0.8386734156691918,
          1.617384764394494,
          1.0368816246231145,
          -1.1067856026016076,
          -1.3412915628702644,
          -1.1951432631171468,
          -0.7482805856657496,
          -0.06946047193001438,
          0.9363703494383678,
          -0.44323125513877815,
          -0.16370111616455113,
          -0.9881897706935497,
          -1.0179231991718827,
          -0.006335252908006238,
          -0.9583998622244636,
          0.47480290642599515,
          0.44230000405252173,
          1.3077257441566936,
          0.9698105803701649,
          0.605432054921927
         ],
         "y": [
          0.8434945544537916,
          0.8127533846303474,
          0.32089466745524714,
          1.1509062526882297,
          0.5360828562193536,
          0.9664592337475664,
          -0.14022287989640997,
          1.212388592335117,
          0.07496530886769646,
          0.6283063656896852,
          -0.41689340830740484,
          0.4131181769255777,
          -0.10948171007296681,
          -0.7243051065418429,
          -0.5705992574246239,
          -0.23244638936674158,
          -1.1546814840700557,
          0.7205298751600158,
          -0.07874054024952257,
          -0.4783757479542923,
          -0.878010955659062,
          -1.646540201245157,
          0.9357180639241233,
          -1.646540201245157,
          -1.7387637107154887,
          -1.9846930693030382,
          0.3823770071021345,
          -0.9702344651293936,
          1.3968356112757803,
          -1.8617283900092636,
          -0.14022287989640997,
          0.04422413904425222,
          0.5360828562193536,
          -0.6935639367183987,
          0.1671888183380281,
          0.6897887053365725,
          0.6283063656896852,
          1.3353532716288918,
          0.4438593467490219,
          1.058682743217898,
          0.5668240260427967,
          -0.10948171007296681,
          0.2286711579849155,
          0.9972004035710106,
          0.4438593467490219,
          0.7205298751600158,
          -2.5072929563015838,
          -1.9846930693030382,
          -0.10948171007296681,
          1.0279415733944537,
          -1.7080225408920444,
          0.25941232780835866,
          0.6283063656896852,
          0.9972004035710106,
          -1.2776461633638316,
          0.8742357242772347,
          1.1201650828647853
         ]
        },
        {
         "line": {
          "color": "#EF553B",
          "dash": "dot",
          "width": 4
         },
         "marker": {
          "line": {
           "width": 2
          },
          "size": 5
         },
         "mode": "lines",
         "name": "OLS",
         "type": "scatter",
         "x": [
          -1.6864289045333862,
          -1.5725042819976807,
          -1.4585797786712646,
          -1.3446550369262695,
          -1.230730414390564,
          -1.1168057918548584,
          -1.0028812885284424,
          -0.888956606388092,
          -0.7750320434570312,
          -0.6611074805259705,
          -0.5471827387809753,
          -0.4332581162452698,
          -0.319333553314209,
          -0.20540893077850342,
          -0.09148436784744263,
          0.022440195083618164,
          0.13636481761932373,
          0.2502894997596741,
          0.3642140030860901,
          0.47813868522644043,
          0.5920634269714355,
          0.7059877514839172,
          0.8199124336242676,
          0.9338371753692627,
          1.0477619171142578,
          1.1616863012313843,
          1.2756110429763794,
          1.389535665512085,
          1.5034600496292114,
          1.6173847913742065
         ],
         "y": [
          -0.2470032423734665,
          -0.23031724989414215,
          -0.2136312574148178,
          -0.19694525003433228,
          -0.18025924265384674,
          -0.1635732501745224,
          -0.14688727259635925,
          -0.13020125031471252,
          -0.11351526528596878,
          -0.09682928025722504,
          -0.08014325797557831,
          -0.06345725804567337,
          -0.04677126929163933,
          -0.03008527122437954,
          -0.013399281539022923,
          0.0032867088448256254,
          0.019972708076238632,
          0.03665871545672417,
          0.05334469676017761,
          0.07003070414066315,
          0.08671671897172928,
          0.10340267419815063,
          0.12008868157863617,
          0.1367747038602829,
          0.15346071124076843,
          0.17014668881893158,
          0.18683269619941711,
          0.20351870357990265,
          0.2202046662569046,
          0.23689067363739014
         ]
        },
        {
         "line": {
          "color": "#00CC96",
          "dash": "dash",
          "width": 4
         },
         "marker": {
          "line": {
           "width": 2
          },
          "size": 5
         },
         "mode": "lines",
         "name": "2SLS",
         "type": "scatter",
         "x": [
          -1.6864289045333862,
          -1.5725042819976807,
          -1.4585797786712646,
          -1.3446550369262695,
          -1.230730414390564,
          -1.1168057918548584,
          -1.0028812885284424,
          -0.888956606388092,
          -0.7750320434570312,
          -0.6611074805259705,
          -0.5471827387809753,
          -0.4332581162452698,
          -0.319333553314209,
          -0.20540893077850342,
          -0.09148436784744263,
          0.022440195083618164,
          0.13636481761932373,
          0.2502894997596741,
          0.3642140030860901,
          0.47813868522644043,
          0.5920634269714355,
          0.7059877514839172,
          0.8199124336242676,
          0.9338371753692627,
          1.0477619171142578,
          1.1616863012313843,
          1.2756110429763794,
          1.389535665512085,
          1.5034600496292114,
          1.6173847913742065
         ],
         "y": [
          -1.9959871768951416,
          -1.8611507415771484,
          -1.7263144254684448,
          -1.591477870941162,
          -1.456641435623169,
          -1.3218050003051758,
          -1.1869686841964722,
          -1.0521321296691895,
          -0.9172957539558411,
          -0.7824593782424927,
          -0.6476227641105652,
          -0.512786328792572,
          -0.37794992327690125,
          -0.2431134730577469,
          -0.1082770973443985,
          0.02655928209424019,
          0.16139572858810425,
          0.2962322533130646,
          0.4310685694217682,
          0.5659050941467285,
          0.700741708278656,
          0.8355777859687805,
          0.9704142808914185,
          1.1052508354187012,
          1.2400875091552734,
          1.3749237060546875,
          1.5097602605819702,
          1.6445966958999634,
          1.7794328927993774,
          1.9142694473266602
         ]
        },
        {
         "line": {
          "color": "#AB63FA",
          "dash": "dashdot",
          "width": 4
         },
         "marker": {
          "line": {
           "width": 2
          },
          "size": 5
         },
         "mode": "lines",
         "name": "KIV",
         "type": "scatter",
         "x": [
          -1.6864289045333862,
          -1.5725042819976807,
          -1.4585797786712646,
          -1.3446550369262695,
          -1.230730414390564,
          -1.1168057918548584,
          -1.0028812885284424,
          -0.888956606388092,
          -0.7750320434570312,
          -0.6611074805259705,
          -0.5471827387809753,
          -0.4332581162452698,
          -0.319333553314209,
          -0.20540893077850342,
          -0.09148436784744263,
          0.022440195083618164,
          0.13636481761932373,
          0.2502894997596741,
          0.3642140030860901,
          0.47813868522644043,
          0.5920634269714355,
          0.7059877514839172,
          0.8199124336242676,
          0.9338371753692627,
          1.0477619171142578,
          1.1616863012313843,
          1.2756110429763794,
          1.389535665512085,
          1.5034600496292114,
          1.6173847913742065
         ],
         "y": [
          -0.2685174788828459,
          -0.24471973282541534,
          -0.22052036164207495,
          -0.19595409553485932,
          -0.17105697927982713,
          -0.14586574710398528,
          -0.12041793839835237,
          -0.094751334909604,
          -0.0689052070285994,
          -0.042918308516620124,
          -0.01683025881323132,
          0.009318920179295236,
          0.03548948235929167,
          0.06164147015004253,
          0.08773471312936701,
          0.11372943709799622,
          0.13958627391713838,
          0.16526571181545882,
          0.1907287648342792,
          0.21593761219579266,
          0.24085461157894422,
          0.2654422645693662,
          0.2896652414849138,
          0.31348791689547906,
          0.3368765189531804,
          0.35979729280491407,
          0.382218941971044,
          0.404110423883146,
          0.42544240957682483,
          0.44618670762163
         ]
        },
        {
         "line": {
          "color": "#FFA15A",
          "width": 4
         },
         "marker": {
          "color": "#FFA15A",
          "line": {
           "color": "#FFA15A",
           "width": 2
          },
          "size": 5
         },
         "name": "GB lower",
         "type": "scatter",
         "x": [
          -1.3761013746261597,
          -1.0824382305145264,
          -0.7887749671936035,
          -0.49511170387268066,
          -0.20144861936569214,
          0.09221470355987549,
          0.3858778476715088,
          0.6795409917831421,
          0.9732041954994202,
          1.2668673992156982
         ],
         "y": [
          -2.327576160430908,
          -1.7910797595977783,
          -1.331382155418396,
          -0.9799458980560303,
          -0.6756184101104736,
          -0.46071919798851013,
          -0.29215192794799805,
          -0.08326202630996704,
          0.0797971859574318,
          0.19556757807731628
         ]
        },
        {
         "line": {
          "color": "#19D3F3",
          "width": 4
         },
         "marker": {
          "color": "#19D3F3",
          "line": {
           "color": "#19D3F3",
           "width": 2
          },
          "size": 5
         },
         "name": "GB upper",
         "type": "scatter",
         "x": [
          -1.3761013746261597,
          -1.0824382305145264,
          -0.7887749671936035,
          -0.49511170387268066,
          -0.20144861936569214,
          0.09221470355987549,
          0.3858778476715088,
          0.6795409917831421,
          0.9732041954994202,
          1.2668673992156982
         ],
         "y": [
          -0.13899913430213928,
          -0.013138502836227417,
          0.15476860105991364,
          0.3047059178352356,
          0.4580956697463989,
          0.6803308725357056,
          0.9647022485733032,
          1.2855396270751953,
          1.623146653175354,
          2.0171918869018555
         ]
        }
       ],
       "layout": {
        "font": {
         "family": "serif",
         "size": 32
        },
        "margin": {
         "b": 0,
         "l": 0,
         "r": 0,
         "t": 0
        },
        "plot_bgcolor": "rgba(0,0,0,0)",
        "template": {
         "data": {
          "bar": [
           {
            "error_x": {
             "color": "#2a3f5f"
            },
            "error_y": {
             "color": "#2a3f5f"
            },
            "marker": {
             "line": {
              "color": "#E5ECF6",
              "width": 0.5
             }
            },
            "type": "bar"
           }
          ],
          "barpolar": [
           {
            "marker": {
             "line": {
              "color": "#E5ECF6",
              "width": 0.5
             }
            },
            "type": "barpolar"
           }
          ],
          "carpet": [
           {
            "aaxis": {
             "endlinecolor": "#2a3f5f",
             "gridcolor": "white",
             "linecolor": "white",
             "minorgridcolor": "white",
             "startlinecolor": "#2a3f5f"
            },
            "baxis": {
             "endlinecolor": "#2a3f5f",
             "gridcolor": "white",
             "linecolor": "white",
             "minorgridcolor": "white",
             "startlinecolor": "#2a3f5f"
            },
            "type": "carpet"
           }
          ],
          "choropleth": [
           {
            "colorbar": {
             "outlinewidth": 0,
             "ticks": ""
            },
            "type": "choropleth"
           }
          ],
          "contour": [
           {
            "colorbar": {
             "outlinewidth": 0,
             "ticks": ""
            },
            "colorscale": [
             [
              0,
              "#0d0887"
             ],
             [
              0.1111111111111111,
              "#46039f"
             ],
             [
              0.2222222222222222,
              "#7201a8"
             ],
             [
              0.3333333333333333,
              "#9c179e"
             ],
             [
              0.4444444444444444,
              "#bd3786"
             ],
             [
              0.5555555555555556,
              "#d8576b"
             ],
             [
              0.6666666666666666,
              "#ed7953"
             ],
             [
              0.7777777777777778,
              "#fb9f3a"
             ],
             [
              0.8888888888888888,
              "#fdca26"
             ],
             [
              1,
              "#f0f921"
             ]
            ],
            "type": "contour"
           }
          ],
          "contourcarpet": [
           {
            "colorbar": {
             "outlinewidth": 0,
             "ticks": ""
            },
            "type": "contourcarpet"
           }
          ],
          "heatmap": [
           {
            "colorbar": {
             "outlinewidth": 0,
             "ticks": ""
            },
            "colorscale": [
             [
              0,
              "#0d0887"
             ],
             [
              0.1111111111111111,
              "#46039f"
             ],
             [
              0.2222222222222222,
              "#7201a8"
             ],
             [
              0.3333333333333333,
              "#9c179e"
             ],
             [
              0.4444444444444444,
              "#bd3786"
             ],
             [
              0.5555555555555556,
              "#d8576b"
             ],
             [
              0.6666666666666666,
              "#ed7953"
             ],
             [
              0.7777777777777778,
              "#fb9f3a"
             ],
             [
              0.8888888888888888,
              "#fdca26"
             ],
             [
              1,
              "#f0f921"
             ]
            ],
            "type": "heatmap"
           }
          ],
          "heatmapgl": [
           {
            "colorbar": {
             "outlinewidth": 0,
             "ticks": ""
            },
            "colorscale": [
             [
              0,
              "#0d0887"
             ],
             [
              0.1111111111111111,
              "#46039f"
             ],
             [
              0.2222222222222222,
              "#7201a8"
             ],
             [
              0.3333333333333333,
              "#9c179e"
             ],
             [
              0.4444444444444444,
              "#bd3786"
             ],
             [
              0.5555555555555556,
              "#d8576b"
             ],
             [
              0.6666666666666666,
              "#ed7953"
             ],
             [
              0.7777777777777778,
              "#fb9f3a"
             ],
             [
              0.8888888888888888,
              "#fdca26"
             ],
             [
              1,
              "#f0f921"
             ]
            ],
            "type": "heatmapgl"
           }
          ],
          "histogram": [
           {
            "marker": {
             "colorbar": {
              "outlinewidth": 0,
              "ticks": ""
             }
            },
            "type": "histogram"
           }
          ],
          "histogram2d": [
           {
            "colorbar": {
             "outlinewidth": 0,
             "ticks": ""
            },
            "colorscale": [
             [
              0,
              "#0d0887"
             ],
             [
              0.1111111111111111,
              "#46039f"
             ],
             [
              0.2222222222222222,
              "#7201a8"
             ],
             [
              0.3333333333333333,
              "#9c179e"
             ],
             [
              0.4444444444444444,
              "#bd3786"
             ],
             [
              0.5555555555555556,
              "#d8576b"
             ],
             [
              0.6666666666666666,
              "#ed7953"
             ],
             [
              0.7777777777777778,
              "#fb9f3a"
             ],
             [
              0.8888888888888888,
              "#fdca26"
             ],
             [
              1,
              "#f0f921"
             ]
            ],
            "type": "histogram2d"
           }
          ],
          "histogram2dcontour": [
           {
            "colorbar": {
             "outlinewidth": 0,
             "ticks": ""
            },
            "colorscale": [
             [
              0,
              "#0d0887"
             ],
             [
              0.1111111111111111,
              "#46039f"
             ],
             [
              0.2222222222222222,
              "#7201a8"
             ],
             [
              0.3333333333333333,
              "#9c179e"
             ],
             [
              0.4444444444444444,
              "#bd3786"
             ],
             [
              0.5555555555555556,
              "#d8576b"
             ],
             [
              0.6666666666666666,
              "#ed7953"
             ],
             [
              0.7777777777777778,
              "#fb9f3a"
             ],
             [
              0.8888888888888888,
              "#fdca26"
             ],
             [
              1,
              "#f0f921"
             ]
            ],
            "type": "histogram2dcontour"
           }
          ],
          "mesh3d": [
           {
            "colorbar": {
             "outlinewidth": 0,
             "ticks": ""
            },
            "type": "mesh3d"
           }
          ],
          "parcoords": [
           {
            "line": {
             "colorbar": {
              "outlinewidth": 0,
              "ticks": ""
             }
            },
            "type": "parcoords"
           }
          ],
          "pie": [
           {
            "automargin": true,
            "type": "pie"
           }
          ],
          "scatter": [
           {
            "marker": {
             "colorbar": {
              "outlinewidth": 0,
              "ticks": ""
             }
            },
            "type": "scatter"
           }
          ],
          "scatter3d": [
           {
            "line": {
             "colorbar": {
              "outlinewidth": 0,
              "ticks": ""
             }
            },
            "marker": {
             "colorbar": {
              "outlinewidth": 0,
              "ticks": ""
             }
            },
            "type": "scatter3d"
           }
          ],
          "scattercarpet": [
           {
            "marker": {
             "colorbar": {
              "outlinewidth": 0,
              "ticks": ""
             }
            },
            "type": "scattercarpet"
           }
          ],
          "scattergeo": [
           {
            "marker": {
             "colorbar": {
              "outlinewidth": 0,
              "ticks": ""
             }
            },
            "type": "scattergeo"
           }
          ],
          "scattergl": [
           {
            "marker": {
             "colorbar": {
              "outlinewidth": 0,
              "ticks": ""
             }
            },
            "type": "scattergl"
           }
          ],
          "scattermapbox": [
           {
            "marker": {
             "colorbar": {
              "outlinewidth": 0,
              "ticks": ""
             }
            },
            "type": "scattermapbox"
           }
          ],
          "scatterpolar": [
           {
            "marker": {
             "colorbar": {
              "outlinewidth": 0,
              "ticks": ""
             }
            },
            "type": "scatterpolar"
           }
          ],
          "scatterpolargl": [
           {
            "marker": {
             "colorbar": {
              "outlinewidth": 0,
              "ticks": ""
             }
            },
            "type": "scatterpolargl"
           }
          ],
          "scatterternary": [
           {
            "marker": {
             "colorbar": {
              "outlinewidth": 0,
              "ticks": ""
             }
            },
            "type": "scatterternary"
           }
          ],
          "surface": [
           {
            "colorbar": {
             "outlinewidth": 0,
             "ticks": ""
            },
            "colorscale": [
             [
              0,
              "#0d0887"
             ],
             [
              0.1111111111111111,
              "#46039f"
             ],
             [
              0.2222222222222222,
              "#7201a8"
             ],
             [
              0.3333333333333333,
              "#9c179e"
             ],
             [
              0.4444444444444444,
              "#bd3786"
             ],
             [
              0.5555555555555556,
              "#d8576b"
             ],
             [
              0.6666666666666666,
              "#ed7953"
             ],
             [
              0.7777777777777778,
              "#fb9f3a"
             ],
             [
              0.8888888888888888,
              "#fdca26"
             ],
             [
              1,
              "#f0f921"
             ]
            ],
            "type": "surface"
           }
          ],
          "table": [
           {
            "cells": {
             "fill": {
              "color": "#EBF0F8"
             },
             "line": {
              "color": "white"
             }
            },
            "header": {
             "fill": {
              "color": "#C8D4E3"
             },
             "line": {
              "color": "white"
             }
            },
            "type": "table"
           }
          ]
         },
         "layout": {
          "annotationdefaults": {
           "arrowcolor": "#2a3f5f",
           "arrowhead": 0,
           "arrowwidth": 1
          },
          "autotypenumbers": "strict",
          "coloraxis": {
           "colorbar": {
            "outlinewidth": 0,
            "ticks": ""
           }
          },
          "colorscale": {
           "diverging": [
            [
             0,
             "#8e0152"
            ],
            [
             0.1,
             "#c51b7d"
            ],
            [
             0.2,
             "#de77ae"
            ],
            [
             0.3,
             "#f1b6da"
            ],
            [
             0.4,
             "#fde0ef"
            ],
            [
             0.5,
             "#f7f7f7"
            ],
            [
             0.6,
             "#e6f5d0"
            ],
            [
             0.7,
             "#b8e186"
            ],
            [
             0.8,
             "#7fbc41"
            ],
            [
             0.9,
             "#4d9221"
            ],
            [
             1,
             "#276419"
            ]
           ],
           "sequential": [
            [
             0,
             "#0d0887"
            ],
            [
             0.1111111111111111,
             "#46039f"
            ],
            [
             0.2222222222222222,
             "#7201a8"
            ],
            [
             0.3333333333333333,
             "#9c179e"
            ],
            [
             0.4444444444444444,
             "#bd3786"
            ],
            [
             0.5555555555555556,
             "#d8576b"
            ],
            [
             0.6666666666666666,
             "#ed7953"
            ],
            [
             0.7777777777777778,
             "#fb9f3a"
            ],
            [
             0.8888888888888888,
             "#fdca26"
            ],
            [
             1,
             "#f0f921"
            ]
           ],
           "sequentialminus": [
            [
             0,
             "#0d0887"
            ],
            [
             0.1111111111111111,
             "#46039f"
            ],
            [
             0.2222222222222222,
             "#7201a8"
            ],
            [
             0.3333333333333333,
             "#9c179e"
            ],
            [
             0.4444444444444444,
             "#bd3786"
            ],
            [
             0.5555555555555556,
             "#d8576b"
            ],
            [
             0.6666666666666666,
             "#ed7953"
            ],
            [
             0.7777777777777778,
             "#fb9f3a"
            ],
            [
             0.8888888888888888,
             "#fdca26"
            ],
            [
             1,
             "#f0f921"
            ]
           ]
          },
          "colorway": [
           "#636efa",
           "#EF553B",
           "#00cc96",
           "#ab63fa",
           "#FFA15A",
           "#19d3f3",
           "#FF6692",
           "#B6E880",
           "#FF97FF",
           "#FECB52"
          ],
          "font": {
           "color": "#2a3f5f"
          },
          "geo": {
           "bgcolor": "white",
           "lakecolor": "white",
           "landcolor": "#E5ECF6",
           "showlakes": true,
           "showland": true,
           "subunitcolor": "white"
          },
          "hoverlabel": {
           "align": "left"
          },
          "hovermode": "closest",
          "mapbox": {
           "style": "light"
          },
          "paper_bgcolor": "white",
          "plot_bgcolor": "#E5ECF6",
          "polar": {
           "angularaxis": {
            "gridcolor": "white",
            "linecolor": "white",
            "ticks": ""
           },
           "bgcolor": "#E5ECF6",
           "radialaxis": {
            "gridcolor": "white",
            "linecolor": "white",
            "ticks": ""
           }
          },
          "scene": {
           "xaxis": {
            "backgroundcolor": "#E5ECF6",
            "gridcolor": "white",
            "gridwidth": 2,
            "linecolor": "white",
            "showbackground": true,
            "ticks": "",
            "zerolinecolor": "white"
           },
           "yaxis": {
            "backgroundcolor": "#E5ECF6",
            "gridcolor": "white",
            "gridwidth": 2,
            "linecolor": "white",
            "showbackground": true,
            "ticks": "",
            "zerolinecolor": "white"
           },
           "zaxis": {
            "backgroundcolor": "#E5ECF6",
            "gridcolor": "white",
            "gridwidth": 2,
            "linecolor": "white",
            "showbackground": true,
            "ticks": "",
            "zerolinecolor": "white"
           }
          },
          "shapedefaults": {
           "line": {
            "color": "#2a3f5f"
           }
          },
          "ternary": {
           "aaxis": {
            "gridcolor": "white",
            "linecolor": "white",
            "ticks": ""
           },
           "baxis": {
            "gridcolor": "white",
            "linecolor": "white",
            "ticks": ""
           },
           "bgcolor": "#E5ECF6",
           "caxis": {
            "gridcolor": "white",
            "linecolor": "white",
            "ticks": ""
           }
          },
          "title": {
           "x": 0.05
          },
          "xaxis": {
           "automargin": true,
           "gridcolor": "white",
           "linecolor": "white",
           "ticks": "",
           "title": {
            "standoff": 15
           },
           "zerolinecolor": "white",
           "zerolinewidth": 2
          },
          "yaxis": {
           "automargin": true,
           "gridcolor": "white",
           "linecolor": "white",
           "ticks": "",
           "title": {
            "standoff": 15
           },
           "zerolinecolor": "white",
           "zerolinewidth": 2
          }
         }
        },
        "xaxis": {
         "linecolor": "black",
         "linewidth": 2,
         "showline": true,
         "title": {
          "text": "Shannon Diversity (standardized)"
         }
        },
        "yaxis": {
         "linecolor": "black",
         "linewidth": 2,
         "showline": true,
         "title": {
          "text": "Weight (standardized)"
         }
        }
       }
      },
      "text/html": [
       "<div>                            <div id=\"f0ad9a94-923d-4a4c-a080-d49ef28ef7d5\" class=\"plotly-graph-div\" style=\"height:525px; width:100%;\"></div>            <script type=\"text/javascript\">                require([\"plotly\"], function(Plotly) {                    window.PLOTLYENV=window.PLOTLYENV || {};                                    if (document.getElementById(\"f0ad9a94-923d-4a4c-a080-d49ef28ef7d5\")) {                    Plotly.newPlot(                        \"f0ad9a94-923d-4a4c-a080-d49ef28ef7d5\",                        [{\"line\": {\"width\": 4}, \"marker\": {\"color\": \"black\", \"line\": {\"width\": 2}, \"size\": 5, \"symbol\": \"x-thin\"}, \"mode\": \"markers\", \"name\": \"Data\", \"type\": \"scatter\", \"x\": [0.9029934766780764, 0.8696798357434594, 0.7370550806373203, 1.4446983744457014, -1.2829988303277227, 0.8364293007843003, -0.10093353256624504, 0.6382443307315441, 0.12063473979559394, 0.3451599045863524, 0.2807058255582007, -1.1657466279929303, -1.6294521376400284, 1.239628648857867, -0.4739969905189363, 0.31290234501215486, -1.6864289014444285, -1.4572141366631848, -1.5435790295993457, 1.1717896259483582, -1.5148454992988647, -0.53535385252016, -1.4283161162514386, -0.5659451919263538, 1.1379665646839414, -0.6269542164957781, 0.5399937320051973, -0.19499586187233894, 0.671118845243303, -0.6573721120392947, 1.341871397854884, -1.2244841103381372, 1.0033142963170747, 1.5827160462045042, 1.5135760417434068, 0.5073674423827654, 0.3774786220541394, -0.8386734156691918, 1.617384764394494, 1.0368816246231145, -1.1067856026016076, -1.3412915628702644, -1.1951432631171468, -0.7482805856657496, -0.06946047193001438, 0.9363703494383678, -0.44323125513877815, -0.16370111616455113, -0.9881897706935497, -1.0179231991718827, -0.006335252908006238, -0.9583998622244636, 0.47480290642599515, 0.44230000405252173, 1.3077257441566936, 0.9698105803701649, 0.605432054921927], \"y\": [0.8434945544537916, 0.8127533846303474, 0.32089466745524714, 1.1509062526882297, 0.5360828562193536, 0.9664592337475664, -0.14022287989640997, 1.212388592335117, 0.07496530886769646, 0.6283063656896852, -0.41689340830740484, 0.4131181769255777, -0.10948171007296681, -0.7243051065418429, -0.5705992574246239, -0.23244638936674158, -1.1546814840700557, 0.7205298751600158, -0.07874054024952257, -0.4783757479542923, -0.878010955659062, -1.646540201245157, 0.9357180639241233, -1.646540201245157, -1.7387637107154887, -1.9846930693030382, 0.3823770071021345, -0.9702344651293936, 1.3968356112757803, -1.8617283900092636, -0.14022287989640997, 0.04422413904425222, 0.5360828562193536, -0.6935639367183987, 0.1671888183380281, 0.6897887053365725, 0.6283063656896852, 1.3353532716288918, 0.4438593467490219, 1.058682743217898, 0.5668240260427967, -0.10948171007296681, 0.2286711579849155, 0.9972004035710106, 0.4438593467490219, 0.7205298751600158, -2.5072929563015838, -1.9846930693030382, -0.10948171007296681, 1.0279415733944537, -1.7080225408920444, 0.25941232780835866, 0.6283063656896852, 0.9972004035710106, -1.2776461633638316, 0.8742357242772347, 1.1201650828647853]}, {\"line\": {\"color\": \"#EF553B\", \"dash\": \"dot\", \"width\": 4}, \"marker\": {\"line\": {\"width\": 2}, \"size\": 5}, \"mode\": \"lines\", \"name\": \"OLS\", \"type\": \"scatter\", \"x\": [-1.6864289045333862, -1.5725042819976807, -1.4585797786712646, -1.3446550369262695, -1.230730414390564, -1.1168057918548584, -1.0028812885284424, -0.888956606388092, -0.7750320434570312, -0.6611074805259705, -0.5471827387809753, -0.4332581162452698, -0.319333553314209, -0.20540893077850342, -0.09148436784744263, 0.022440195083618164, 0.13636481761932373, 0.2502894997596741, 0.3642140030860901, 0.47813868522644043, 0.5920634269714355, 0.7059877514839172, 0.8199124336242676, 0.9338371753692627, 1.0477619171142578, 1.1616863012313843, 1.2756110429763794, 1.389535665512085, 1.5034600496292114, 1.6173847913742065], \"y\": [-0.2470032423734665, -0.23031724989414215, -0.2136312574148178, -0.19694525003433228, -0.18025924265384674, -0.1635732501745224, -0.14688727259635925, -0.13020125031471252, -0.11351526528596878, -0.09682928025722504, -0.08014325797557831, -0.06345725804567337, -0.04677126929163933, -0.03008527122437954, -0.013399281539022923, 0.0032867088448256254, 0.019972708076238632, 0.03665871545672417, 0.05334469676017761, 0.07003070414066315, 0.08671671897172928, 0.10340267419815063, 0.12008868157863617, 0.1367747038602829, 0.15346071124076843, 0.17014668881893158, 0.18683269619941711, 0.20351870357990265, 0.2202046662569046, 0.23689067363739014]}, {\"line\": {\"color\": \"#00CC96\", \"dash\": \"dash\", \"width\": 4}, \"marker\": {\"line\": {\"width\": 2}, \"size\": 5}, \"mode\": \"lines\", \"name\": \"2SLS\", \"type\": \"scatter\", \"x\": [-1.6864289045333862, -1.5725042819976807, -1.4585797786712646, -1.3446550369262695, -1.230730414390564, -1.1168057918548584, -1.0028812885284424, -0.888956606388092, -0.7750320434570312, -0.6611074805259705, -0.5471827387809753, -0.4332581162452698, -0.319333553314209, -0.20540893077850342, -0.09148436784744263, 0.022440195083618164, 0.13636481761932373, 0.2502894997596741, 0.3642140030860901, 0.47813868522644043, 0.5920634269714355, 0.7059877514839172, 0.8199124336242676, 0.9338371753692627, 1.0477619171142578, 1.1616863012313843, 1.2756110429763794, 1.389535665512085, 1.5034600496292114, 1.6173847913742065], \"y\": [-1.9959871768951416, -1.8611507415771484, -1.7263144254684448, -1.591477870941162, -1.456641435623169, -1.3218050003051758, -1.1869686841964722, -1.0521321296691895, -0.9172957539558411, -0.7824593782424927, -0.6476227641105652, -0.512786328792572, -0.37794992327690125, -0.2431134730577469, -0.1082770973443985, 0.02655928209424019, 0.16139572858810425, 0.2962322533130646, 0.4310685694217682, 0.5659050941467285, 0.700741708278656, 0.8355777859687805, 0.9704142808914185, 1.1052508354187012, 1.2400875091552734, 1.3749237060546875, 1.5097602605819702, 1.6445966958999634, 1.7794328927993774, 1.9142694473266602]}, {\"line\": {\"color\": \"#AB63FA\", \"dash\": \"dashdot\", \"width\": 4}, \"marker\": {\"line\": {\"width\": 2}, \"size\": 5}, \"mode\": \"lines\", \"name\": \"KIV\", \"type\": \"scatter\", \"x\": [-1.6864289045333862, -1.5725042819976807, -1.4585797786712646, -1.3446550369262695, -1.230730414390564, -1.1168057918548584, -1.0028812885284424, -0.888956606388092, -0.7750320434570312, -0.6611074805259705, -0.5471827387809753, -0.4332581162452698, -0.319333553314209, -0.20540893077850342, -0.09148436784744263, 0.022440195083618164, 0.13636481761932373, 0.2502894997596741, 0.3642140030860901, 0.47813868522644043, 0.5920634269714355, 0.7059877514839172, 0.8199124336242676, 0.9338371753692627, 1.0477619171142578, 1.1616863012313843, 1.2756110429763794, 1.389535665512085, 1.5034600496292114, 1.6173847913742065], \"y\": [-0.2685174788828459, -0.24471973282541534, -0.22052036164207495, -0.19595409553485932, -0.17105697927982713, -0.14586574710398528, -0.12041793839835237, -0.094751334909604, -0.0689052070285994, -0.042918308516620124, -0.01683025881323132, 0.009318920179295236, 0.03548948235929167, 0.06164147015004253, 0.08773471312936701, 0.11372943709799622, 0.13958627391713838, 0.16526571181545882, 0.1907287648342792, 0.21593761219579266, 0.24085461157894422, 0.2654422645693662, 0.2896652414849138, 0.31348791689547906, 0.3368765189531804, 0.35979729280491407, 0.382218941971044, 0.404110423883146, 0.42544240957682483, 0.44618670762163]}, {\"line\": {\"color\": \"#FFA15A\", \"width\": 4}, \"marker\": {\"color\": \"#FFA15A\", \"line\": {\"color\": \"#FFA15A\", \"width\": 2}, \"size\": 5}, \"name\": \"GB lower\", \"type\": \"scatter\", \"x\": [-1.3761013746261597, -1.0824382305145264, -0.7887749671936035, -0.49511170387268066, -0.20144861936569214, 0.09221470355987549, 0.3858778476715088, 0.6795409917831421, 0.9732041954994202, 1.2668673992156982], \"y\": [-2.327576160430908, -1.7910797595977783, -1.331382155418396, -0.9799458980560303, -0.6756184101104736, -0.46071919798851013, -0.29215192794799805, -0.08326202630996704, 0.0797971859574318, 0.19556757807731628]}, {\"line\": {\"color\": \"#19D3F3\", \"width\": 4}, \"marker\": {\"color\": \"#19D3F3\", \"line\": {\"color\": \"#19D3F3\", \"width\": 2}, \"size\": 5}, \"name\": \"GB upper\", \"type\": \"scatter\", \"x\": [-1.3761013746261597, -1.0824382305145264, -0.7887749671936035, -0.49511170387268066, -0.20144861936569214, 0.09221470355987549, 0.3858778476715088, 0.6795409917831421, 0.9732041954994202, 1.2668673992156982], \"y\": [-0.13899913430213928, -0.013138502836227417, 0.15476860105991364, 0.3047059178352356, 0.4580956697463989, 0.6803308725357056, 0.9647022485733032, 1.2855396270751953, 1.623146653175354, 2.0171918869018555]}],                        {\"font\": {\"family\": \"serif\", \"size\": 32}, \"margin\": {\"b\": 0, \"l\": 0, \"r\": 0, \"t\": 0}, \"plot_bgcolor\": \"rgba(0,0,0,0)\", \"template\": {\"data\": {\"bar\": [{\"error_x\": {\"color\": \"#2a3f5f\"}, \"error_y\": {\"color\": \"#2a3f5f\"}, \"marker\": {\"line\": {\"color\": \"#E5ECF6\", \"width\": 0.5}}, \"type\": \"bar\"}], \"barpolar\": [{\"marker\": {\"line\": {\"color\": \"#E5ECF6\", \"width\": 0.5}}, \"type\": \"barpolar\"}], \"carpet\": [{\"aaxis\": {\"endlinecolor\": \"#2a3f5f\", \"gridcolor\": \"white\", \"linecolor\": \"white\", \"minorgridcolor\": \"white\", \"startlinecolor\": \"#2a3f5f\"}, \"baxis\": {\"endlinecolor\": \"#2a3f5f\", \"gridcolor\": \"white\", \"linecolor\": \"white\", \"minorgridcolor\": \"white\", \"startlinecolor\": \"#2a3f5f\"}, \"type\": \"carpet\"}], \"choropleth\": [{\"colorbar\": {\"outlinewidth\": 0, \"ticks\": \"\"}, \"type\": \"choropleth\"}], \"contour\": [{\"colorbar\": {\"outlinewidth\": 0, \"ticks\": \"\"}, \"colorscale\": [[0.0, \"#0d0887\"], [0.1111111111111111, \"#46039f\"], [0.2222222222222222, \"#7201a8\"], [0.3333333333333333, \"#9c179e\"], [0.4444444444444444, \"#bd3786\"], [0.5555555555555556, \"#d8576b\"], [0.6666666666666666, \"#ed7953\"], [0.7777777777777778, \"#fb9f3a\"], [0.8888888888888888, \"#fdca26\"], [1.0, \"#f0f921\"]], \"type\": \"contour\"}], \"contourcarpet\": [{\"colorbar\": {\"outlinewidth\": 0, \"ticks\": \"\"}, \"type\": \"contourcarpet\"}], \"heatmap\": [{\"colorbar\": {\"outlinewidth\": 0, \"ticks\": \"\"}, \"colorscale\": [[0.0, \"#0d0887\"], [0.1111111111111111, \"#46039f\"], [0.2222222222222222, \"#7201a8\"], [0.3333333333333333, \"#9c179e\"], [0.4444444444444444, \"#bd3786\"], [0.5555555555555556, \"#d8576b\"], [0.6666666666666666, \"#ed7953\"], [0.7777777777777778, \"#fb9f3a\"], [0.8888888888888888, \"#fdca26\"], [1.0, \"#f0f921\"]], \"type\": \"heatmap\"}], \"heatmapgl\": [{\"colorbar\": {\"outlinewidth\": 0, \"ticks\": \"\"}, \"colorscale\": [[0.0, \"#0d0887\"], [0.1111111111111111, \"#46039f\"], [0.2222222222222222, \"#7201a8\"], [0.3333333333333333, \"#9c179e\"], [0.4444444444444444, \"#bd3786\"], [0.5555555555555556, \"#d8576b\"], [0.6666666666666666, \"#ed7953\"], [0.7777777777777778, \"#fb9f3a\"], [0.8888888888888888, \"#fdca26\"], [1.0, \"#f0f921\"]], \"type\": \"heatmapgl\"}], \"histogram\": [{\"marker\": {\"colorbar\": {\"outlinewidth\": 0, \"ticks\": \"\"}}, \"type\": \"histogram\"}], \"histogram2d\": [{\"colorbar\": {\"outlinewidth\": 0, \"ticks\": \"\"}, \"colorscale\": [[0.0, \"#0d0887\"], [0.1111111111111111, \"#46039f\"], [0.2222222222222222, \"#7201a8\"], [0.3333333333333333, \"#9c179e\"], [0.4444444444444444, \"#bd3786\"], [0.5555555555555556, \"#d8576b\"], [0.6666666666666666, \"#ed7953\"], [0.7777777777777778, \"#fb9f3a\"], [0.8888888888888888, \"#fdca26\"], [1.0, \"#f0f921\"]], \"type\": \"histogram2d\"}], \"histogram2dcontour\": [{\"colorbar\": {\"outlinewidth\": 0, \"ticks\": \"\"}, \"colorscale\": [[0.0, \"#0d0887\"], [0.1111111111111111, \"#46039f\"], [0.2222222222222222, \"#7201a8\"], [0.3333333333333333, \"#9c179e\"], [0.4444444444444444, \"#bd3786\"], [0.5555555555555556, \"#d8576b\"], [0.6666666666666666, \"#ed7953\"], [0.7777777777777778, \"#fb9f3a\"], [0.8888888888888888, \"#fdca26\"], [1.0, \"#f0f921\"]], \"type\": \"histogram2dcontour\"}], \"mesh3d\": [{\"colorbar\": {\"outlinewidth\": 0, \"ticks\": \"\"}, \"type\": \"mesh3d\"}], \"parcoords\": [{\"line\": {\"colorbar\": {\"outlinewidth\": 0, \"ticks\": \"\"}}, \"type\": \"parcoords\"}], \"pie\": [{\"automargin\": true, \"type\": \"pie\"}], \"scatter\": [{\"marker\": {\"colorbar\": {\"outlinewidth\": 0, \"ticks\": \"\"}}, \"type\": \"scatter\"}], \"scatter3d\": [{\"line\": {\"colorbar\": {\"outlinewidth\": 0, \"ticks\": \"\"}}, \"marker\": {\"colorbar\": {\"outlinewidth\": 0, \"ticks\": \"\"}}, \"type\": \"scatter3d\"}], \"scattercarpet\": [{\"marker\": {\"colorbar\": {\"outlinewidth\": 0, \"ticks\": \"\"}}, \"type\": \"scattercarpet\"}], \"scattergeo\": [{\"marker\": {\"colorbar\": {\"outlinewidth\": 0, \"ticks\": \"\"}}, \"type\": \"scattergeo\"}], \"scattergl\": [{\"marker\": {\"colorbar\": {\"outlinewidth\": 0, \"ticks\": \"\"}}, \"type\": \"scattergl\"}], \"scattermapbox\": [{\"marker\": {\"colorbar\": {\"outlinewidth\": 0, \"ticks\": \"\"}}, \"type\": \"scattermapbox\"}], \"scatterpolar\": [{\"marker\": {\"colorbar\": {\"outlinewidth\": 0, \"ticks\": \"\"}}, \"type\": \"scatterpolar\"}], \"scatterpolargl\": [{\"marker\": {\"colorbar\": {\"outlinewidth\": 0, \"ticks\": \"\"}}, \"type\": \"scatterpolargl\"}], \"scatterternary\": [{\"marker\": {\"colorbar\": {\"outlinewidth\": 0, \"ticks\": \"\"}}, \"type\": \"scatterternary\"}], \"surface\": [{\"colorbar\": {\"outlinewidth\": 0, \"ticks\": \"\"}, \"colorscale\": [[0.0, \"#0d0887\"], [0.1111111111111111, \"#46039f\"], [0.2222222222222222, \"#7201a8\"], [0.3333333333333333, \"#9c179e\"], [0.4444444444444444, \"#bd3786\"], [0.5555555555555556, \"#d8576b\"], [0.6666666666666666, \"#ed7953\"], [0.7777777777777778, \"#fb9f3a\"], [0.8888888888888888, \"#fdca26\"], [1.0, \"#f0f921\"]], \"type\": \"surface\"}], \"table\": [{\"cells\": {\"fill\": {\"color\": \"#EBF0F8\"}, \"line\": {\"color\": \"white\"}}, \"header\": {\"fill\": {\"color\": \"#C8D4E3\"}, \"line\": {\"color\": \"white\"}}, \"type\": \"table\"}]}, \"layout\": {\"annotationdefaults\": {\"arrowcolor\": \"#2a3f5f\", \"arrowhead\": 0, \"arrowwidth\": 1}, \"autotypenumbers\": \"strict\", \"coloraxis\": {\"colorbar\": {\"outlinewidth\": 0, \"ticks\": \"\"}}, \"colorscale\": {\"diverging\": [[0, \"#8e0152\"], [0.1, \"#c51b7d\"], [0.2, \"#de77ae\"], [0.3, \"#f1b6da\"], [0.4, \"#fde0ef\"], [0.5, \"#f7f7f7\"], [0.6, \"#e6f5d0\"], [0.7, \"#b8e186\"], [0.8, \"#7fbc41\"], [0.9, \"#4d9221\"], [1, \"#276419\"]], \"sequential\": [[0.0, \"#0d0887\"], [0.1111111111111111, \"#46039f\"], [0.2222222222222222, \"#7201a8\"], [0.3333333333333333, \"#9c179e\"], [0.4444444444444444, \"#bd3786\"], [0.5555555555555556, \"#d8576b\"], [0.6666666666666666, \"#ed7953\"], [0.7777777777777778, \"#fb9f3a\"], [0.8888888888888888, \"#fdca26\"], [1.0, \"#f0f921\"]], \"sequentialminus\": [[0.0, \"#0d0887\"], [0.1111111111111111, \"#46039f\"], [0.2222222222222222, \"#7201a8\"], [0.3333333333333333, \"#9c179e\"], [0.4444444444444444, \"#bd3786\"], [0.5555555555555556, \"#d8576b\"], [0.6666666666666666, \"#ed7953\"], [0.7777777777777778, \"#fb9f3a\"], [0.8888888888888888, \"#fdca26\"], [1.0, \"#f0f921\"]]}, \"colorway\": [\"#636efa\", \"#EF553B\", \"#00cc96\", \"#ab63fa\", \"#FFA15A\", \"#19d3f3\", \"#FF6692\", \"#B6E880\", \"#FF97FF\", \"#FECB52\"], \"font\": {\"color\": \"#2a3f5f\"}, \"geo\": {\"bgcolor\": \"white\", \"lakecolor\": \"white\", \"landcolor\": \"#E5ECF6\", \"showlakes\": true, \"showland\": true, \"subunitcolor\": \"white\"}, \"hoverlabel\": {\"align\": \"left\"}, \"hovermode\": \"closest\", \"mapbox\": {\"style\": \"light\"}, \"paper_bgcolor\": \"white\", \"plot_bgcolor\": \"#E5ECF6\", \"polar\": {\"angularaxis\": {\"gridcolor\": \"white\", \"linecolor\": \"white\", \"ticks\": \"\"}, \"bgcolor\": \"#E5ECF6\", \"radialaxis\": {\"gridcolor\": \"white\", \"linecolor\": \"white\", \"ticks\": \"\"}}, \"scene\": {\"xaxis\": {\"backgroundcolor\": \"#E5ECF6\", \"gridcolor\": \"white\", \"gridwidth\": 2, \"linecolor\": \"white\", \"showbackground\": true, \"ticks\": \"\", \"zerolinecolor\": \"white\"}, \"yaxis\": {\"backgroundcolor\": \"#E5ECF6\", \"gridcolor\": \"white\", \"gridwidth\": 2, \"linecolor\": \"white\", \"showbackground\": true, \"ticks\": \"\", \"zerolinecolor\": \"white\"}, \"zaxis\": {\"backgroundcolor\": \"#E5ECF6\", \"gridcolor\": \"white\", \"gridwidth\": 2, \"linecolor\": \"white\", \"showbackground\": true, \"ticks\": \"\", \"zerolinecolor\": \"white\"}}, \"shapedefaults\": {\"line\": {\"color\": \"#2a3f5f\"}}, \"ternary\": {\"aaxis\": {\"gridcolor\": \"white\", \"linecolor\": \"white\", \"ticks\": \"\"}, \"baxis\": {\"gridcolor\": \"white\", \"linecolor\": \"white\", \"ticks\": \"\"}, \"bgcolor\": \"#E5ECF6\", \"caxis\": {\"gridcolor\": \"white\", \"linecolor\": \"white\", \"ticks\": \"\"}}, \"title\": {\"x\": 0.05}, \"xaxis\": {\"automargin\": true, \"gridcolor\": \"white\", \"linecolor\": \"white\", \"ticks\": \"\", \"title\": {\"standoff\": 15}, \"zerolinecolor\": \"white\", \"zerolinewidth\": 2}, \"yaxis\": {\"automargin\": true, \"gridcolor\": \"white\", \"linecolor\": \"white\", \"ticks\": \"\", \"title\": {\"standoff\": 15}, \"zerolinecolor\": \"white\", \"zerolinewidth\": 2}}}, \"xaxis\": {\"linecolor\": \"black\", \"linewidth\": 2, \"showline\": true, \"title\": {\"text\": \"Shannon Diversity (standardized)\"}}, \"yaxis\": {\"linecolor\": \"black\", \"linewidth\": 2, \"showline\": true, \"title\": {\"text\": \"Weight (standardized)\"}}},                        {\"responsive\": true}                    ).then(function(){\n",
       "                            \n",
       "var gd = document.getElementById('f0ad9a94-923d-4a4c-a080-d49ef28ef7d5');\n",
       "var x = new MutationObserver(function (mutations, observer) {{\n",
       "        var display = window.getComputedStyle(gd).display;\n",
       "        if (!display || display === 'none') {{\n",
       "            console.log([gd, 'removed!']);\n",
       "            Plotly.purge(gd);\n",
       "            observer.disconnect();\n",
       "        }}\n",
       "}});\n",
       "\n",
       "// Listen for the removal of the full notebook cells\n",
       "var notebookContainer = gd.closest('#notebook-container');\n",
       "if (notebookContainer) {{\n",
       "    x.observe(notebookContainer, {childList: true});\n",
       "}}\n",
       "\n",
       "// Listen for the clearing of the current output cell\n",
       "var outputEl = gd.closest('.output');\n",
       "if (outputEl) {{\n",
       "    x.observe(outputEl, {childList: true});\n",
       "}}\n",
       "\n",
       "                        })                };                });            </script>        </div>"
      ]
     },
     "metadata": {},
     "output_type": "display_data"
    }
   ],
   "source": [
    "fig = plot_diversity_methods(x, y, xstar, xstar_bound, ystar_ols, ystar_2sls, ystar_kiv, results)\n",
    "fig.update_layout(xaxis=dict(title=\"Shannon Diversity (standardized)\"))\n",
    "fig.show()\n",
    "fig.write_image(os.path.join(img_path, \"ShannonDiversity.pdf\"))"
   ]
  },
  {
   "cell_type": "markdown",
   "metadata": {},
   "source": [
    "# Simpson Diversity"
   ]
  },
  {
   "cell_type": "markdown",
   "metadata": {},
   "source": [
    "For the __Simpson Diversity__ we can use entirely the same steps as before. The thing we have to exchange is the underlying $X$ values, which are now computed by the Simpson Diversity estimate."
   ]
  },
  {
   "cell_type": "code",
   "execution_count": 30,
   "metadata": {},
   "outputs": [],
   "source": [
    "data = pd.read_csv(\"data_simpson.csv\")  # data\n",
    "X = data[\"estimate\"]\n",
    "n = X.shape[0]\n",
    "Y = data[\"weight\"]\n",
    "Z = np.array([data[\"Treatment_x\"][i].find(\"control\") for i in range(n)])*(-1)"
   ]
  },
  {
   "cell_type": "markdown",
   "metadata": {},
   "source": [
    "... continue ..."
   ]
  }
 ],
 "metadata": {
  "kernelspec": {
   "display_name": "Python 3",
   "language": "python",
   "name": "python3"
  },
  "language_info": {
   "codemirror_mode": {
    "name": "ipython",
    "version": 3
   },
   "file_extension": ".py",
   "mimetype": "text/x-python",
   "name": "python",
   "nbconvert_exporter": "python",
   "pygments_lexer": "ipython3",
   "version": "3.7.0"
  },
  "toc": {
   "base_numbering": 1,
   "nav_menu": {
    "height": "310.733px",
    "width": "376.6px"
   },
   "number_sections": true,
   "sideBar": true,
   "skip_h1_title": false,
   "title_cell": "Table of Contents",
   "title_sidebar": "Contents",
   "toc_cell": false,
   "toc_position": {},
   "toc_section_display": true,
   "toc_window_display": false
  }
 },
 "nbformat": 4,
 "nbformat_minor": 4
}

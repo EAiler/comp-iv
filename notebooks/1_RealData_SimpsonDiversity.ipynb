{
 "cells": [
  {
   "cell_type": "code",
   "execution_count": 1,
   "metadata": {},
   "outputs": [],
   "source": [
    "import sys\n",
    "import os\n",
    "sys.path.append(os.path.join(os.getcwd(), \"../src\"))\n",
    "\n",
    "import pandas as pd\n",
    "import statsmodels.api as sm\n",
    "from statsmodels.sandbox.regression.gmm import IV2SLS\n",
    "import plotly.graph_objects as go\n",
    "\n",
    "from helper_fct import *\n",
    "import kiv\n",
    "import boundiv\n",
    "from plot_fct import colours, img_path, update_layout, plot_diversity_methods"
   ]
  },
  {
   "cell_type": "code",
   "execution_count": 2,
   "metadata": {},
   "outputs": [],
   "source": [
    "%load_ext autoreload\n",
    "%autoreload 2"
   ]
  },
  {
   "cell_type": "markdown",
   "metadata": {},
   "source": [
    "# Simpson and Shannon Diversity"
   ]
  },
  {
   "cell_type": "markdown",
   "metadata": {},
   "source": [
    "## Read in data\n",
    "\n",
    "<div class=\"alert alert-block alert-info\">\n",
    "<b>Note:</b> \n",
    "Unfortunately, we personally cannot share the data. We refer to the paper for further references. However, the methods are implemented and work in any one-dimensional instrumental variable setting.\n",
    "</div>"
   ]
  },
  {
   "cell_type": "code",
   "execution_count": 10,
   "metadata": {},
   "outputs": [],
   "source": [
    "data = pd.read_csv(\"data_simpson.csv\")  # data\n",
    "X = data[\"estimate\"]\n",
    "n = X.shape[0]\n",
    "Y = data[\"weight\"]\n",
    "Z = np.array([data[\"Treatment_x\"][i].find(\"control\") for i in range(n)])*(-1)"
   ]
  },
  {
   "cell_type": "markdown",
   "metadata": {},
   "source": [
    "We whiten the data. Please make sure, to also whiten $Z$, if this is not a binary indicator."
   ]
  },
  {
   "cell_type": "code",
   "execution_count": 12,
   "metadata": {},
   "outputs": [],
   "source": [
    "Z = Z\n",
    "X = whiten_data(X)\n",
    "Y = whiten_data(Y)"
   ]
  },
  {
   "cell_type": "markdown",
   "metadata": {},
   "source": [
    "# Run Methods on Real Microbiome Dataset"
   ]
  },
  {
   "cell_type": "code",
   "execution_count": 8,
   "metadata": {},
   "outputs": [],
   "source": [
    "z = Z.squeeze()\n",
    "y = Y.values.squeeze()\n",
    "x = X.values.squeeze()\n",
    "\n",
    "zz = sm.add_constant(z)\n",
    "xx = sm.add_constant(x)\n",
    "xstar = np.linspace(x.min(), x.max(), 30)"
   ]
  },
  {
   "cell_type": "markdown",
   "metadata": {},
   "source": [
    "### First Stage Regression for F Test"
   ]
  },
  {
   "cell_type": "code",
   "execution_count": 10,
   "metadata": {},
   "outputs": [
    {
     "name": "stdout",
     "output_type": "stream",
     "text": [
      "                            OLS Regression Results                            \n",
      "==============================================================================\n",
      "Dep. Variable:                      y   R-squared:                       0.128\n",
      "Model:                            OLS   Adj. R-squared:                  0.113\n",
      "Method:                 Least Squares   F-statistic:                     8.104\n",
      "Date:                 Fr, 11 Jun 2021   Prob (F-statistic):            0.00620\n",
      "Time:                        10:16:23   Log-Likelihood:                -76.458\n",
      "No. Observations:                  57   AIC:                             156.9\n",
      "Df Residuals:                      55   BIC:                             161.0\n",
      "Df Model:                           1                                         \n",
      "Covariance Type:            nonrobust                                         \n",
      "==============================================================================\n",
      "                 coef    std err          t      P>|t|      [0.025      0.975]\n",
      "------------------------------------------------------------------------------\n",
      "const          0.4480      0.201      2.231      0.030       0.046       0.851\n",
      "x1            -0.7297      0.256     -2.847      0.006      -1.243      -0.216\n",
      "==============================================================================\n",
      "Omnibus:                       12.618   Durbin-Watson:                   1.898\n",
      "Prob(Omnibus):                  0.002   Jarque-Bera (JB):                3.250\n",
      "Skew:                           0.037   Prob(JB):                        0.197\n",
      "Kurtosis:                       1.833   Cond. No.                         2.98\n",
      "==============================================================================\n",
      "\n",
      "Warnings:\n",
      "[1] Standard Errors assume that the covariance matrix of the errors is correctly specified.\n"
     ]
    }
   ],
   "source": [
    "ols1 = sm.OLS(x, zz).fit()\n",
    "xhat = ols1.predict(zz)\n",
    "print(ols1.summary())"
   ]
  },
  {
   "cell_type": "markdown",
   "metadata": {},
   "source": [
    "### Ordinary Least Squares"
   ]
  },
  {
   "cell_type": "code",
   "execution_count": 11,
   "metadata": {},
   "outputs": [],
   "source": [
    "ols = sm.OLS(y, xx).fit()\n",
    "coeff_ols = ols.params\n",
    "ystar_ols = coeff_ols[0] + coeff_ols[1]*xstar"
   ]
  },
  {
   "cell_type": "markdown",
   "metadata": {},
   "source": [
    "### Two Stage Least Squares"
   ]
  },
  {
   "cell_type": "code",
   "execution_count": 12,
   "metadata": {},
   "outputs": [],
   "source": [
    "iv2sls = IV2SLS(y, xx, zz).fit()\n",
    "coeff_2sls = iv2sls.params\n",
    "ystar_2sls = coeff_2sls[0] + coeff_2sls[1]*xstar"
   ]
  },
  {
   "cell_type": "markdown",
   "metadata": {},
   "source": [
    "### KIV"
   ]
  },
  {
   "cell_type": "code",
   "execution_count": 13,
   "metadata": {},
   "outputs": [],
   "source": [
    "import kiv\n",
    "xstar, ystar_kiv = kiv.fit_kiv(z, x, y, xstar=xstar)"
   ]
  },
  {
   "cell_type": "markdown",
   "metadata": {},
   "source": [
    "### Bounding Method"
   ]
  },
  {
   "cell_type": "code",
   "execution_count": 14,
   "metadata": {},
   "outputs": [],
   "source": [
    "import boundiv"
   ]
  },
  {
   "cell_type": "code",
   "execution_count": 15,
   "metadata": {},
   "outputs": [],
   "source": [
    "xstar_bound = np.linspace(np.quantile(x, 0.1), np.quantile(x, 0.9), 10)"
   ]
  },
  {
   "cell_type": "code",
   "execution_count": 16,
   "metadata": {
    "scrolled": true
   },
   "outputs": [
    {
     "name": "stdout",
     "output_type": "stream",
     "text": [
      "2\n",
      "<function api_boundary.<locals>.reraise_with_filtered_traceback at 0x7fdd1fb92b70>\n",
      "0\n",
      "1\n",
      "0\n",
      "1\n"
     ]
    },
    {
     "name": "stderr",
     "output_type": "stream",
     "text": [
      "100%|██████████| 150/150 [00:13<00:00, 11.15it/s]\n",
      "  1%|▏         | 2/150 [00:00<00:09, 15.85it/s]"
     ]
    },
    {
     "name": "stdout",
     "output_type": "stream",
     "text": [
      "{'indices': DeviceArray([[150,   0],\n",
      "             [  0,   0],\n",
      "             [  0,   0],\n",
      "             [  0,   0],\n",
      "             [  0,   0],\n",
      "             [  0,   0],\n",
      "             [  0,   0],\n",
      "             [  0,   0],\n",
      "             [  0,   0],\n",
      "             [  0,   0]], dtype=int32), 'objective': DeviceArray([[0.20934077, 0.        ],\n",
      "             [0.        , 0.        ],\n",
      "             [0.        , 0.        ],\n",
      "             [0.        , 0.        ],\n",
      "             [0.        , 0.        ],\n",
      "             [0.        , 0.        ],\n",
      "             [0.        , 0.        ],\n",
      "             [0.        , 0.        ],\n",
      "             [0.        , 0.        ],\n",
      "             [0.        , 0.        ]], dtype=float32), 'maxabsdiff': DeviceArray([[0.27916303, 0.        ],\n",
      "             [0.        , 0.        ],\n",
      "             [0.        , 0.        ],\n",
      "             [0.        , 0.        ],\n",
      "             [0.        , 0.        ],\n",
      "             [0.        , 0.        ],\n",
      "             [0.        , 0.        ],\n",
      "             [0.        , 0.        ],\n",
      "             [0.        , 0.        ],\n",
      "             [0.        , 0.        ]], dtype=float32)}\n",
      "{'indices': DeviceArray([[119,   0],\n",
      "             [  0,   0],\n",
      "             [  0,   0],\n",
      "             [  0,   0],\n",
      "             [  0,   0],\n",
      "             [  0,   0],\n",
      "             [  0,   0],\n",
      "             [  0,   0],\n",
      "             [  0,   0],\n",
      "             [  0,   0]], dtype=int32), 'objective': DeviceArray([[0.5087167, 0.       ],\n",
      "             [0.       , 0.       ],\n",
      "             [0.       , 0.       ],\n",
      "             [0.       , 0.       ],\n",
      "             [0.       , 0.       ],\n",
      "             [0.       , 0.       ],\n",
      "             [0.       , 0.       ],\n",
      "             [0.       , 0.       ],\n",
      "             [0.       , 0.       ],\n",
      "             [0.       , 0.       ]], dtype=float32), 'maxabsdiff': DeviceArray([[0.22056991, 0.        ],\n",
      "             [0.        , 0.        ],\n",
      "             [0.        , 0.        ],\n",
      "             [0.        , 0.        ],\n",
      "             [0.        , 0.        ],\n",
      "             [0.        , 0.        ],\n",
      "             [0.        , 0.        ],\n",
      "             [0.        , 0.        ],\n",
      "             [0.        , 0.        ],\n",
      "             [0.        , 0.        ]], dtype=float32)}\n"
     ]
    },
    {
     "name": "stderr",
     "output_type": "stream",
     "text": [
      "100%|██████████| 150/150 [00:10<00:00, 14.60it/s]\n",
      "  1%|▏         | 2/150 [00:00<00:12, 11.96it/s]"
     ]
    },
    {
     "name": "stdout",
     "output_type": "stream",
     "text": [
      "{'indices': DeviceArray([[150, 150],\n",
      "             [  0,   0],\n",
      "             [  0,   0],\n",
      "             [  0,   0],\n",
      "             [  0,   0],\n",
      "             [  0,   0],\n",
      "             [  0,   0],\n",
      "             [  0,   0],\n",
      "             [  0,   0],\n",
      "             [  0,   0]], dtype=int32), 'objective': DeviceArray([[0.20934077, 2.0305836 ],\n",
      "             [0.        , 0.        ],\n",
      "             [0.        , 0.        ],\n",
      "             [0.        , 0.        ],\n",
      "             [0.        , 0.        ],\n",
      "             [0.        , 0.        ],\n",
      "             [0.        , 0.        ],\n",
      "             [0.        , 0.        ],\n",
      "             [0.        , 0.        ],\n",
      "             [0.        , 0.        ]], dtype=float32), 'maxabsdiff': DeviceArray([[0.27916303, 0.3768974 ],\n",
      "             [0.        , 0.        ],\n",
      "             [0.        , 0.        ],\n",
      "             [0.        , 0.        ],\n",
      "             [0.        , 0.        ],\n",
      "             [0.        , 0.        ],\n",
      "             [0.        , 0.        ],\n",
      "             [0.        , 0.        ],\n",
      "             [0.        , 0.        ],\n",
      "             [0.        , 0.        ]], dtype=float32)}\n",
      "{'indices': DeviceArray([[119, 134],\n",
      "             [  0,   0],\n",
      "             [  0,   0],\n",
      "             [  0,   0],\n",
      "             [  0,   0],\n",
      "             [  0,   0],\n",
      "             [  0,   0],\n",
      "             [  0,   0],\n",
      "             [  0,   0],\n",
      "             [  0,   0]], dtype=int32), 'objective': DeviceArray([[0.5087167, 1.9746034],\n",
      "             [0.       , 0.       ],\n",
      "             [0.       , 0.       ],\n",
      "             [0.       , 0.       ],\n",
      "             [0.       , 0.       ],\n",
      "             [0.       , 0.       ],\n",
      "             [0.       , 0.       ],\n",
      "             [0.       , 0.       ],\n",
      "             [0.       , 0.       ],\n",
      "             [0.       , 0.       ]], dtype=float32), 'maxabsdiff': DeviceArray([[0.22056991, 0.378573  ],\n",
      "             [0.        , 0.        ],\n",
      "             [0.        , 0.        ],\n",
      "             [0.        , 0.        ],\n",
      "             [0.        , 0.        ],\n",
      "             [0.        , 0.        ],\n",
      "             [0.        , 0.        ],\n",
      "             [0.        , 0.        ],\n",
      "             [0.        , 0.        ],\n",
      "             [0.        , 0.        ]], dtype=float32)}\n"
     ]
    },
    {
     "name": "stderr",
     "output_type": "stream",
     "text": [
      "100%|██████████| 150/150 [00:09<00:00, 15.11it/s]\n",
      "  1%|▏         | 2/150 [00:00<00:10, 14.46it/s]"
     ]
    },
    {
     "name": "stdout",
     "output_type": "stream",
     "text": [
      "{'indices': DeviceArray([[150, 150],\n",
      "             [150,   0],\n",
      "             [  0,   0],\n",
      "             [  0,   0],\n",
      "             [  0,   0],\n",
      "             [  0,   0],\n",
      "             [  0,   0],\n",
      "             [  0,   0],\n",
      "             [  0,   0],\n",
      "             [  0,   0]], dtype=int32), 'objective': DeviceArray([[0.20934077, 2.0305836 ],\n",
      "             [0.08623122, 0.        ],\n",
      "             [0.        , 0.        ],\n",
      "             [0.        , 0.        ],\n",
      "             [0.        , 0.        ],\n",
      "             [0.        , 0.        ],\n",
      "             [0.        , 0.        ],\n",
      "             [0.        , 0.        ],\n",
      "             [0.        , 0.        ],\n",
      "             [0.        , 0.        ]], dtype=float32), 'maxabsdiff': DeviceArray([[0.27916303, 0.3768974 ],\n",
      "             [0.2834019 , 0.        ],\n",
      "             [0.        , 0.        ],\n",
      "             [0.        , 0.        ],\n",
      "             [0.        , 0.        ],\n",
      "             [0.        , 0.        ],\n",
      "             [0.        , 0.        ],\n",
      "             [0.        , 0.        ],\n",
      "             [0.        , 0.        ],\n",
      "             [0.        , 0.        ]], dtype=float32)}\n",
      "{'indices': DeviceArray([[119, 134],\n",
      "             [150,   0],\n",
      "             [  0,   0],\n",
      "             [  0,   0],\n",
      "             [  0,   0],\n",
      "             [  0,   0],\n",
      "             [  0,   0],\n",
      "             [  0,   0],\n",
      "             [  0,   0],\n",
      "             [  0,   0]], dtype=int32), 'objective': DeviceArray([[0.5087167 , 1.9746034 ],\n",
      "             [0.08623122, 0.        ],\n",
      "             [0.        , 0.        ],\n",
      "             [0.        , 0.        ],\n",
      "             [0.        , 0.        ],\n",
      "             [0.        , 0.        ],\n",
      "             [0.        , 0.        ],\n",
      "             [0.        , 0.        ],\n",
      "             [0.        , 0.        ],\n",
      "             [0.        , 0.        ]], dtype=float32), 'maxabsdiff': DeviceArray([[0.22056991, 0.378573  ],\n",
      "             [0.2834019 , 0.        ],\n",
      "             [0.        , 0.        ],\n",
      "             [0.        , 0.        ],\n",
      "             [0.        , 0.        ],\n",
      "             [0.        , 0.        ],\n",
      "             [0.        , 0.        ],\n",
      "             [0.        , 0.        ],\n",
      "             [0.        , 0.        ],\n",
      "             [0.        , 0.        ]], dtype=float32)}\n"
     ]
    },
    {
     "name": "stderr",
     "output_type": "stream",
     "text": [
      "100%|██████████| 150/150 [00:10<00:00, 14.58it/s]\n",
      "  1%|▏         | 2/150 [00:00<00:09, 14.87it/s]"
     ]
    },
    {
     "name": "stdout",
     "output_type": "stream",
     "text": [
      "{'indices': DeviceArray([[150, 150],\n",
      "             [150, 150],\n",
      "             [  0,   0],\n",
      "             [  0,   0],\n",
      "             [  0,   0],\n",
      "             [  0,   0],\n",
      "             [  0,   0],\n",
      "             [  0,   0],\n",
      "             [  0,   0],\n",
      "             [  0,   0]], dtype=int32), 'objective': DeviceArray([[0.20934077, 2.0305836 ],\n",
      "             [0.08623122, 1.6260333 ],\n",
      "             [0.        , 0.        ],\n",
      "             [0.        , 0.        ],\n",
      "             [0.        , 0.        ],\n",
      "             [0.        , 0.        ],\n",
      "             [0.        , 0.        ],\n",
      "             [0.        , 0.        ],\n",
      "             [0.        , 0.        ],\n",
      "             [0.        , 0.        ]], dtype=float32), 'maxabsdiff': DeviceArray([[0.27916303, 0.3768974 ],\n",
      "             [0.2834019 , 0.3759325 ],\n",
      "             [0.        , 0.        ],\n",
      "             [0.        , 0.        ],\n",
      "             [0.        , 0.        ],\n",
      "             [0.        , 0.        ],\n",
      "             [0.        , 0.        ],\n",
      "             [0.        , 0.        ],\n",
      "             [0.        , 0.        ],\n",
      "             [0.        , 0.        ]], dtype=float32)}\n",
      "{'indices': DeviceArray([[119, 134],\n",
      "             [150, 150],\n",
      "             [  0,   0],\n",
      "             [  0,   0],\n",
      "             [  0,   0],\n",
      "             [  0,   0],\n",
      "             [  0,   0],\n",
      "             [  0,   0],\n",
      "             [  0,   0],\n",
      "             [  0,   0]], dtype=int32), 'objective': DeviceArray([[0.5087167 , 1.9746034 ],\n",
      "             [0.08623122, 1.6260333 ],\n",
      "             [0.        , 0.        ],\n",
      "             [0.        , 0.        ],\n",
      "             [0.        , 0.        ],\n",
      "             [0.        , 0.        ],\n",
      "             [0.        , 0.        ],\n",
      "             [0.        , 0.        ],\n",
      "             [0.        , 0.        ],\n",
      "             [0.        , 0.        ]], dtype=float32), 'maxabsdiff': DeviceArray([[0.22056991, 0.378573  ],\n",
      "             [0.2834019 , 0.3759325 ],\n",
      "             [0.        , 0.        ],\n",
      "             [0.        , 0.        ],\n",
      "             [0.        , 0.        ],\n",
      "             [0.        , 0.        ],\n",
      "             [0.        , 0.        ],\n",
      "             [0.        , 0.        ],\n",
      "             [0.        , 0.        ],\n",
      "             [0.        , 0.        ]], dtype=float32)}\n"
     ]
    },
    {
     "name": "stderr",
     "output_type": "stream",
     "text": [
      "100%|██████████| 150/150 [00:09<00:00, 15.18it/s]\n",
      "  1%|▏         | 2/150 [00:00<00:11, 12.46it/s]"
     ]
    },
    {
     "name": "stdout",
     "output_type": "stream",
     "text": [
      "{'indices': DeviceArray([[150, 150],\n",
      "             [150, 150],\n",
      "             [150,   0],\n",
      "             [  0,   0],\n",
      "             [  0,   0],\n",
      "             [  0,   0],\n",
      "             [  0,   0],\n",
      "             [  0,   0],\n",
      "             [  0,   0],\n",
      "             [  0,   0]], dtype=int32), 'objective': DeviceArray([[ 0.20934077,  2.0305836 ],\n",
      "             [ 0.08623122,  1.6260333 ],\n",
      "             [-0.07718299,  0.        ],\n",
      "             [ 0.        ,  0.        ],\n",
      "             [ 0.        ,  0.        ],\n",
      "             [ 0.        ,  0.        ],\n",
      "             [ 0.        ,  0.        ],\n",
      "             [ 0.        ,  0.        ],\n",
      "             [ 0.        ,  0.        ],\n",
      "             [ 0.        ,  0.        ]], dtype=float32), 'maxabsdiff': DeviceArray([[0.27916303, 0.3768974 ],\n",
      "             [0.2834019 , 0.3759325 ],\n",
      "             [0.3538366 , 0.        ],\n",
      "             [0.        , 0.        ],\n",
      "             [0.        , 0.        ],\n",
      "             [0.        , 0.        ],\n",
      "             [0.        , 0.        ],\n",
      "             [0.        , 0.        ],\n",
      "             [0.        , 0.        ],\n",
      "             [0.        , 0.        ]], dtype=float32)}\n",
      "{'indices': DeviceArray([[119, 134],\n",
      "             [150, 150],\n",
      "             [150,   0],\n",
      "             [  0,   0],\n",
      "             [  0,   0],\n",
      "             [  0,   0],\n",
      "             [  0,   0],\n",
      "             [  0,   0],\n",
      "             [  0,   0],\n",
      "             [  0,   0]], dtype=int32), 'objective': DeviceArray([[ 0.5087167 ,  1.9746034 ],\n",
      "             [ 0.08623122,  1.6260333 ],\n",
      "             [-0.07718299,  0.        ],\n",
      "             [ 0.        ,  0.        ],\n",
      "             [ 0.        ,  0.        ],\n",
      "             [ 0.        ,  0.        ],\n",
      "             [ 0.        ,  0.        ],\n",
      "             [ 0.        ,  0.        ],\n",
      "             [ 0.        ,  0.        ],\n",
      "             [ 0.        ,  0.        ]], dtype=float32), 'maxabsdiff': DeviceArray([[0.22056991, 0.378573  ],\n",
      "             [0.2834019 , 0.3759325 ],\n",
      "             [0.3538366 , 0.        ],\n",
      "             [0.        , 0.        ],\n",
      "             [0.        , 0.        ],\n",
      "             [0.        , 0.        ],\n",
      "             [0.        , 0.        ],\n",
      "             [0.        , 0.        ],\n",
      "             [0.        , 0.        ],\n",
      "             [0.        , 0.        ]], dtype=float32)}\n"
     ]
    },
    {
     "name": "stderr",
     "output_type": "stream",
     "text": [
      "100%|██████████| 150/150 [00:09<00:00, 15.52it/s]\n",
      "  1%|▏         | 2/150 [00:00<00:10, 14.29it/s]"
     ]
    },
    {
     "name": "stdout",
     "output_type": "stream",
     "text": [
      "{'indices': DeviceArray([[150, 150],\n",
      "             [150, 150],\n",
      "             [150, 150],\n",
      "             [  0,   0],\n",
      "             [  0,   0],\n",
      "             [  0,   0],\n",
      "             [  0,   0],\n",
      "             [  0,   0],\n",
      "             [  0,   0],\n",
      "             [  0,   0]], dtype=int32), 'objective': DeviceArray([[ 0.20934077,  2.0305836 ],\n",
      "             [ 0.08623122,  1.6260333 ],\n",
      "             [-0.07718299,  1.2878089 ],\n",
      "             [ 0.        ,  0.        ],\n",
      "             [ 0.        ,  0.        ],\n",
      "             [ 0.        ,  0.        ],\n",
      "             [ 0.        ,  0.        ],\n",
      "             [ 0.        ,  0.        ],\n",
      "             [ 0.        ,  0.        ],\n",
      "             [ 0.        ,  0.        ]], dtype=float32), 'maxabsdiff': DeviceArray([[0.27916303, 0.3768974 ],\n",
      "             [0.2834019 , 0.3759325 ],\n",
      "             [0.3538366 , 0.33831406],\n",
      "             [0.        , 0.        ],\n",
      "             [0.        , 0.        ],\n",
      "             [0.        , 0.        ],\n",
      "             [0.        , 0.        ],\n",
      "             [0.        , 0.        ],\n",
      "             [0.        , 0.        ],\n",
      "             [0.        , 0.        ]], dtype=float32)}\n",
      "{'indices': DeviceArray([[119, 134],\n",
      "             [150, 150],\n",
      "             [150, 150],\n",
      "             [  0,   0],\n",
      "             [  0,   0],\n",
      "             [  0,   0],\n",
      "             [  0,   0],\n",
      "             [  0,   0],\n",
      "             [  0,   0],\n",
      "             [  0,   0]], dtype=int32), 'objective': DeviceArray([[ 0.5087167 ,  1.9746034 ],\n",
      "             [ 0.08623122,  1.6260333 ],\n",
      "             [-0.07718299,  1.2878089 ],\n",
      "             [ 0.        ,  0.        ],\n",
      "             [ 0.        ,  0.        ],\n",
      "             [ 0.        ,  0.        ],\n",
      "             [ 0.        ,  0.        ],\n",
      "             [ 0.        ,  0.        ],\n",
      "             [ 0.        ,  0.        ],\n",
      "             [ 0.        ,  0.        ]], dtype=float32), 'maxabsdiff': DeviceArray([[0.22056991, 0.378573  ],\n",
      "             [0.2834019 , 0.3759325 ],\n",
      "             [0.3538366 , 0.33831406],\n",
      "             [0.        , 0.        ],\n",
      "             [0.        , 0.        ],\n",
      "             [0.        , 0.        ],\n",
      "             [0.        , 0.        ],\n",
      "             [0.        , 0.        ],\n",
      "             [0.        , 0.        ],\n",
      "             [0.        , 0.        ]], dtype=float32)}\n"
     ]
    },
    {
     "name": "stderr",
     "output_type": "stream",
     "text": [
      "100%|██████████| 150/150 [00:09<00:00, 15.62it/s]\n",
      "  1%|▏         | 2/150 [00:00<00:09, 15.91it/s]"
     ]
    },
    {
     "name": "stdout",
     "output_type": "stream",
     "text": [
      "{'indices': DeviceArray([[150, 150],\n",
      "             [150, 150],\n",
      "             [150, 150],\n",
      "             [150,   0],\n",
      "             [  0,   0],\n",
      "             [  0,   0],\n",
      "             [  0,   0],\n",
      "             [  0,   0],\n",
      "             [  0,   0],\n",
      "             [  0,   0]], dtype=int32), 'objective': DeviceArray([[ 0.20934077,  2.0305836 ],\n",
      "             [ 0.08623122,  1.6260333 ],\n",
      "             [-0.07718299,  1.2878089 ],\n",
      "             [-0.27837473,  0.        ],\n",
      "             [ 0.        ,  0.        ],\n",
      "             [ 0.        ,  0.        ],\n",
      "             [ 0.        ,  0.        ],\n",
      "             [ 0.        ,  0.        ],\n",
      "             [ 0.        ,  0.        ],\n",
      "             [ 0.        ,  0.        ]], dtype=float32), 'maxabsdiff': DeviceArray([[0.27916303, 0.3768974 ],\n",
      "             [0.2834019 , 0.3759325 ],\n",
      "             [0.3538366 , 0.33831406],\n",
      "             [0.34781808, 0.        ],\n",
      "             [0.        , 0.        ],\n",
      "             [0.        , 0.        ],\n",
      "             [0.        , 0.        ],\n",
      "             [0.        , 0.        ],\n",
      "             [0.        , 0.        ],\n",
      "             [0.        , 0.        ]], dtype=float32)}\n",
      "{'indices': DeviceArray([[119, 134],\n",
      "             [150, 150],\n",
      "             [150, 150],\n",
      "             [150,   0],\n",
      "             [  0,   0],\n",
      "             [  0,   0],\n",
      "             [  0,   0],\n",
      "             [  0,   0],\n",
      "             [  0,   0],\n",
      "             [  0,   0]], dtype=int32), 'objective': DeviceArray([[ 0.5087167 ,  1.9746034 ],\n",
      "             [ 0.08623122,  1.6260333 ],\n",
      "             [-0.07718299,  1.2878089 ],\n",
      "             [-0.27837473,  0.        ],\n",
      "             [ 0.        ,  0.        ],\n",
      "             [ 0.        ,  0.        ],\n",
      "             [ 0.        ,  0.        ],\n",
      "             [ 0.        ,  0.        ],\n",
      "             [ 0.        ,  0.        ],\n",
      "             [ 0.        ,  0.        ]], dtype=float32), 'maxabsdiff': DeviceArray([[0.22056991, 0.378573  ],\n",
      "             [0.2834019 , 0.3759325 ],\n",
      "             [0.3538366 , 0.33831406],\n",
      "             [0.34781808, 0.        ],\n",
      "             [0.        , 0.        ],\n",
      "             [0.        , 0.        ],\n",
      "             [0.        , 0.        ],\n",
      "             [0.        , 0.        ],\n",
      "             [0.        , 0.        ],\n",
      "             [0.        , 0.        ]], dtype=float32)}\n"
     ]
    },
    {
     "name": "stderr",
     "output_type": "stream",
     "text": [
      "100%|██████████| 150/150 [00:10<00:00, 14.97it/s]\n",
      "  1%|▏         | 2/150 [00:00<00:11, 12.99it/s]"
     ]
    },
    {
     "name": "stdout",
     "output_type": "stream",
     "text": [
      "{'indices': DeviceArray([[150, 150],\n",
      "             [150, 150],\n",
      "             [150, 150],\n",
      "             [150, 150],\n",
      "             [  0,   0],\n",
      "             [  0,   0],\n",
      "             [  0,   0],\n",
      "             [  0,   0],\n",
      "             [  0,   0],\n",
      "             [  0,   0]], dtype=int32), 'objective': DeviceArray([[ 0.20934077,  2.0305836 ],\n",
      "             [ 0.08623122,  1.6260333 ],\n",
      "             [-0.07718299,  1.2878089 ],\n",
      "             [-0.27837473,  0.95241207],\n",
      "             [ 0.        ,  0.        ],\n",
      "             [ 0.        ,  0.        ],\n",
      "             [ 0.        ,  0.        ],\n",
      "             [ 0.        ,  0.        ],\n",
      "             [ 0.        ,  0.        ],\n",
      "             [ 0.        ,  0.        ]], dtype=float32), 'maxabsdiff': DeviceArray([[0.27916303, 0.3768974 ],\n",
      "             [0.2834019 , 0.3759325 ],\n",
      "             [0.3538366 , 0.33831406],\n",
      "             [0.34781808, 0.34442526],\n",
      "             [0.        , 0.        ],\n",
      "             [0.        , 0.        ],\n",
      "             [0.        , 0.        ],\n",
      "             [0.        , 0.        ],\n",
      "             [0.        , 0.        ],\n",
      "             [0.        , 0.        ]], dtype=float32)}\n",
      "{'indices': DeviceArray([[119, 134],\n",
      "             [150, 150],\n",
      "             [150, 150],\n",
      "             [150, 149],\n",
      "             [  0,   0],\n",
      "             [  0,   0],\n",
      "             [  0,   0],\n",
      "             [  0,   0],\n",
      "             [  0,   0],\n",
      "             [  0,   0]], dtype=int32), 'objective': DeviceArray([[ 0.5087167 ,  1.9746034 ],\n",
      "             [ 0.08623122,  1.6260333 ],\n",
      "             [-0.07718299,  1.2878089 ],\n",
      "             [-0.27837473,  0.9533775 ],\n",
      "             [ 0.        ,  0.        ],\n",
      "             [ 0.        ,  0.        ],\n",
      "             [ 0.        ,  0.        ],\n",
      "             [ 0.        ,  0.        ],\n",
      "             [ 0.        ,  0.        ],\n",
      "             [ 0.        ,  0.        ]], dtype=float32), 'maxabsdiff': DeviceArray([[0.22056991, 0.378573  ],\n",
      "             [0.2834019 , 0.3759325 ],\n",
      "             [0.3538366 , 0.33831406],\n",
      "             [0.34781808, 0.37873083],\n",
      "             [0.        , 0.        ],\n",
      "             [0.        , 0.        ],\n",
      "             [0.        , 0.        ],\n",
      "             [0.        , 0.        ],\n",
      "             [0.        , 0.        ],\n",
      "             [0.        , 0.        ]], dtype=float32)}\n"
     ]
    },
    {
     "name": "stderr",
     "output_type": "stream",
     "text": [
      "100%|██████████| 150/150 [00:09<00:00, 15.49it/s]\n",
      "  1%|▏         | 2/150 [00:00<00:09, 15.01it/s]"
     ]
    },
    {
     "name": "stdout",
     "output_type": "stream",
     "text": [
      "{'indices': DeviceArray([[150, 150],\n",
      "             [150, 150],\n",
      "             [150, 150],\n",
      "             [150, 150],\n",
      "             [150,   0],\n",
      "             [  0,   0],\n",
      "             [  0,   0],\n",
      "             [  0,   0],\n",
      "             [  0,   0],\n",
      "             [  0,   0]], dtype=int32), 'objective': DeviceArray([[ 0.20934077,  2.0305836 ],\n",
      "             [ 0.08623122,  1.6260333 ],\n",
      "             [-0.07718299,  1.2878089 ],\n",
      "             [-0.27837473,  0.95241207],\n",
      "             [-0.4408887 ,  0.        ],\n",
      "             [ 0.        ,  0.        ],\n",
      "             [ 0.        ,  0.        ],\n",
      "             [ 0.        ,  0.        ],\n",
      "             [ 0.        ,  0.        ],\n",
      "             [ 0.        ,  0.        ]], dtype=float32), 'maxabsdiff': DeviceArray([[0.27916303, 0.3768974 ],\n",
      "             [0.2834019 , 0.3759325 ],\n",
      "             [0.3538366 , 0.33831406],\n",
      "             [0.34781808, 0.34442526],\n",
      "             [0.33759212, 0.        ],\n",
      "             [0.        , 0.        ],\n",
      "             [0.        , 0.        ],\n",
      "             [0.        , 0.        ],\n",
      "             [0.        , 0.        ],\n",
      "             [0.        , 0.        ]], dtype=float32)}\n",
      "{'indices': DeviceArray([[119, 134],\n",
      "             [150, 150],\n",
      "             [150, 150],\n",
      "             [150, 149],\n",
      "             [150,   0],\n",
      "             [  0,   0],\n",
      "             [  0,   0],\n",
      "             [  0,   0],\n",
      "             [  0,   0],\n",
      "             [  0,   0]], dtype=int32), 'objective': DeviceArray([[ 0.5087167 ,  1.9746034 ],\n",
      "             [ 0.08623122,  1.6260333 ],\n",
      "             [-0.07718299,  1.2878089 ],\n",
      "             [-0.27837473,  0.9533775 ],\n",
      "             [-0.4408887 ,  0.        ],\n",
      "             [ 0.        ,  0.        ],\n",
      "             [ 0.        ,  0.        ],\n",
      "             [ 0.        ,  0.        ],\n",
      "             [ 0.        ,  0.        ],\n",
      "             [ 0.        ,  0.        ]], dtype=float32), 'maxabsdiff': DeviceArray([[0.22056991, 0.378573  ],\n",
      "             [0.2834019 , 0.3759325 ],\n",
      "             [0.3538366 , 0.33831406],\n",
      "             [0.34781808, 0.37873083],\n",
      "             [0.33759212, 0.        ],\n",
      "             [0.        , 0.        ],\n",
      "             [0.        , 0.        ],\n",
      "             [0.        , 0.        ],\n",
      "             [0.        , 0.        ],\n",
      "             [0.        , 0.        ]], dtype=float32)}\n"
     ]
    },
    {
     "name": "stderr",
     "output_type": "stream",
     "text": [
      "100%|██████████| 150/150 [00:09<00:00, 15.37it/s]\n",
      "  1%|▏         | 2/150 [00:00<00:09, 15.18it/s]"
     ]
    },
    {
     "name": "stdout",
     "output_type": "stream",
     "text": [
      "{'indices': DeviceArray([[150, 150],\n",
      "             [150, 150],\n",
      "             [150, 150],\n",
      "             [150, 150],\n",
      "             [150, 150],\n",
      "             [  0,   0],\n",
      "             [  0,   0],\n",
      "             [  0,   0],\n",
      "             [  0,   0],\n",
      "             [  0,   0]], dtype=int32), 'objective': DeviceArray([[ 0.20934077,  2.0305836 ],\n",
      "             [ 0.08623122,  1.6260333 ],\n",
      "             [-0.07718299,  1.2878089 ],\n",
      "             [-0.27837473,  0.95241207],\n",
      "             [-0.4408887 ,  0.6720197 ],\n",
      "             [ 0.        ,  0.        ],\n",
      "             [ 0.        ,  0.        ],\n",
      "             [ 0.        ,  0.        ],\n",
      "             [ 0.        ,  0.        ],\n",
      "             [ 0.        ,  0.        ]], dtype=float32), 'maxabsdiff': DeviceArray([[0.27916303, 0.3768974 ],\n",
      "             [0.2834019 , 0.3759325 ],\n",
      "             [0.3538366 , 0.33831406],\n",
      "             [0.34781808, 0.34442526],\n",
      "             [0.33759212, 0.3374936 ],\n",
      "             [0.        , 0.        ],\n",
      "             [0.        , 0.        ],\n",
      "             [0.        , 0.        ],\n",
      "             [0.        , 0.        ],\n",
      "             [0.        , 0.        ]], dtype=float32)}\n",
      "{'indices': DeviceArray([[119, 134],\n",
      "             [150, 150],\n",
      "             [150, 150],\n",
      "             [150, 149],\n",
      "             [150, 150],\n",
      "             [  0,   0],\n",
      "             [  0,   0],\n",
      "             [  0,   0],\n",
      "             [  0,   0],\n",
      "             [  0,   0]], dtype=int32), 'objective': DeviceArray([[ 0.5087167 ,  1.9746034 ],\n",
      "             [ 0.08623122,  1.6260333 ],\n",
      "             [-0.07718299,  1.2878089 ],\n",
      "             [-0.27837473,  0.9533775 ],\n",
      "             [-0.4408887 ,  0.6720197 ],\n",
      "             [ 0.        ,  0.        ],\n",
      "             [ 0.        ,  0.        ],\n",
      "             [ 0.        ,  0.        ],\n",
      "             [ 0.        ,  0.        ],\n",
      "             [ 0.        ,  0.        ]], dtype=float32), 'maxabsdiff': DeviceArray([[0.22056991, 0.378573  ],\n",
      "             [0.2834019 , 0.3759325 ],\n",
      "             [0.3538366 , 0.33831406],\n",
      "             [0.34781808, 0.37873083],\n",
      "             [0.33759212, 0.3374936 ],\n",
      "             [0.        , 0.        ],\n",
      "             [0.        , 0.        ],\n",
      "             [0.        , 0.        ],\n",
      "             [0.        , 0.        ],\n",
      "             [0.        , 0.        ]], dtype=float32)}\n"
     ]
    },
    {
     "name": "stderr",
     "output_type": "stream",
     "text": [
      "100%|██████████| 150/150 [00:09<00:00, 15.19it/s]\n",
      "  1%|▏         | 2/150 [00:00<00:09, 15.03it/s]"
     ]
    },
    {
     "name": "stdout",
     "output_type": "stream",
     "text": [
      "{'indices': DeviceArray([[150, 150],\n",
      "             [150, 150],\n",
      "             [150, 150],\n",
      "             [150, 150],\n",
      "             [150, 150],\n",
      "             [150,   0],\n",
      "             [  0,   0],\n",
      "             [  0,   0],\n",
      "             [  0,   0],\n",
      "             [  0,   0]], dtype=int32), 'objective': DeviceArray([[ 0.20934077,  2.0305836 ],\n",
      "             [ 0.08623122,  1.6260333 ],\n",
      "             [-0.07718299,  1.2878089 ],\n",
      "             [-0.27837473,  0.95241207],\n",
      "             [-0.4408887 ,  0.6720197 ],\n",
      "             [-0.6471962 ,  0.        ],\n",
      "             [ 0.        ,  0.        ],\n",
      "             [ 0.        ,  0.        ],\n",
      "             [ 0.        ,  0.        ],\n",
      "             [ 0.        ,  0.        ]], dtype=float32), 'maxabsdiff': DeviceArray([[0.27916303, 0.3768974 ],\n",
      "             [0.2834019 , 0.3759325 ],\n",
      "             [0.3538366 , 0.33831406],\n",
      "             [0.34781808, 0.34442526],\n",
      "             [0.33759212, 0.3374936 ],\n",
      "             [0.34903783, 0.        ],\n",
      "             [0.        , 0.        ],\n",
      "             [0.        , 0.        ],\n",
      "             [0.        , 0.        ],\n",
      "             [0.        , 0.        ]], dtype=float32)}\n",
      "{'indices': DeviceArray([[119, 134],\n",
      "             [150, 150],\n",
      "             [150, 150],\n",
      "             [150, 149],\n",
      "             [150, 150],\n",
      "             [150,   0],\n",
      "             [  0,   0],\n",
      "             [  0,   0],\n",
      "             [  0,   0],\n",
      "             [  0,   0]], dtype=int32), 'objective': DeviceArray([[ 0.5087167 ,  1.9746034 ],\n",
      "             [ 0.08623122,  1.6260333 ],\n",
      "             [-0.07718299,  1.2878089 ],\n",
      "             [-0.27837473,  0.9533775 ],\n",
      "             [-0.4408887 ,  0.6720197 ],\n",
      "             [-0.6471962 ,  0.        ],\n",
      "             [ 0.        ,  0.        ],\n",
      "             [ 0.        ,  0.        ],\n",
      "             [ 0.        ,  0.        ],\n",
      "             [ 0.        ,  0.        ]], dtype=float32), 'maxabsdiff': DeviceArray([[0.22056991, 0.378573  ],\n",
      "             [0.2834019 , 0.3759325 ],\n",
      "             [0.3538366 , 0.33831406],\n",
      "             [0.34781808, 0.37873083],\n",
      "             [0.33759212, 0.3374936 ],\n",
      "             [0.34903783, 0.        ],\n",
      "             [0.        , 0.        ],\n",
      "             [0.        , 0.        ],\n",
      "             [0.        , 0.        ],\n",
      "             [0.        , 0.        ]], dtype=float32)}\n"
     ]
    },
    {
     "name": "stderr",
     "output_type": "stream",
     "text": [
      "100%|██████████| 150/150 [00:09<00:00, 15.35it/s]\n",
      "  1%|▏         | 2/150 [00:00<00:09, 15.83it/s]"
     ]
    },
    {
     "name": "stdout",
     "output_type": "stream",
     "text": [
      "{'indices': DeviceArray([[150, 150],\n",
      "             [150, 150],\n",
      "             [150, 150],\n",
      "             [150, 150],\n",
      "             [150, 150],\n",
      "             [150, 150],\n",
      "             [  0,   0],\n",
      "             [  0,   0],\n",
      "             [  0,   0],\n",
      "             [  0,   0]], dtype=int32), 'objective': DeviceArray([[ 0.20934077,  2.0305836 ],\n",
      "             [ 0.08623122,  1.6260333 ],\n",
      "             [-0.07718299,  1.2878089 ],\n",
      "             [-0.27837473,  0.95241207],\n",
      "             [-0.4408887 ,  0.6720197 ],\n",
      "             [-0.6471962 ,  0.45772836],\n",
      "             [ 0.        ,  0.        ],\n",
      "             [ 0.        ,  0.        ],\n",
      "             [ 0.        ,  0.        ],\n",
      "             [ 0.        ,  0.        ]], dtype=float32), 'maxabsdiff': DeviceArray([[0.27916303, 0.3768974 ],\n",
      "             [0.2834019 , 0.3759325 ],\n",
      "             [0.3538366 , 0.33831406],\n",
      "             [0.34781808, 0.34442526],\n",
      "             [0.33759212, 0.3374936 ],\n",
      "             [0.34903783, 0.33908075],\n",
      "             [0.        , 0.        ],\n",
      "             [0.        , 0.        ],\n",
      "             [0.        , 0.        ],\n",
      "             [0.        , 0.        ]], dtype=float32)}\n",
      "{'indices': DeviceArray([[119, 134],\n",
      "             [150, 150],\n",
      "             [150, 150],\n",
      "             [150, 149],\n",
      "             [150, 150],\n",
      "             [150, 150],\n",
      "             [  0,   0],\n",
      "             [  0,   0],\n",
      "             [  0,   0],\n",
      "             [  0,   0]], dtype=int32), 'objective': DeviceArray([[ 0.5087167 ,  1.9746034 ],\n",
      "             [ 0.08623122,  1.6260333 ],\n",
      "             [-0.07718299,  1.2878089 ],\n",
      "             [-0.27837473,  0.9533775 ],\n",
      "             [-0.4408887 ,  0.6720197 ],\n",
      "             [-0.6471962 ,  0.45772836],\n",
      "             [ 0.        ,  0.        ],\n",
      "             [ 0.        ,  0.        ],\n",
      "             [ 0.        ,  0.        ],\n",
      "             [ 0.        ,  0.        ]], dtype=float32), 'maxabsdiff': DeviceArray([[0.22056991, 0.378573  ],\n",
      "             [0.2834019 , 0.3759325 ],\n",
      "             [0.3538366 , 0.33831406],\n",
      "             [0.34781808, 0.37873083],\n",
      "             [0.33759212, 0.3374936 ],\n",
      "             [0.34903783, 0.33908075],\n",
      "             [0.        , 0.        ],\n",
      "             [0.        , 0.        ],\n",
      "             [0.        , 0.        ],\n",
      "             [0.        , 0.        ]], dtype=float32)}\n"
     ]
    },
    {
     "name": "stderr",
     "output_type": "stream",
     "text": [
      "100%|██████████| 150/150 [00:09<00:00, 15.68it/s]\n",
      "  1%|▏         | 2/150 [00:00<00:09, 15.71it/s]"
     ]
    },
    {
     "name": "stdout",
     "output_type": "stream",
     "text": [
      "{'indices': DeviceArray([[150, 150],\n",
      "             [150, 150],\n",
      "             [150, 150],\n",
      "             [150, 150],\n",
      "             [150, 150],\n",
      "             [150, 150],\n",
      "             [150,   0],\n",
      "             [  0,   0],\n",
      "             [  0,   0],\n",
      "             [  0,   0]], dtype=int32), 'objective': DeviceArray([[ 0.20934077,  2.0305836 ],\n",
      "             [ 0.08623122,  1.6260333 ],\n",
      "             [-0.07718299,  1.2878089 ],\n",
      "             [-0.27837473,  0.95241207],\n",
      "             [-0.4408887 ,  0.6720197 ],\n",
      "             [-0.6471962 ,  0.45772836],\n",
      "             [-0.9357966 ,  0.        ],\n",
      "             [ 0.        ,  0.        ],\n",
      "             [ 0.        ,  0.        ],\n",
      "             [ 0.        ,  0.        ]], dtype=float32), 'maxabsdiff': DeviceArray([[0.27916303, 0.3768974 ],\n",
      "             [0.2834019 , 0.3759325 ],\n",
      "             [0.3538366 , 0.33831406],\n",
      "             [0.34781808, 0.34442526],\n",
      "             [0.33759212, 0.3374936 ],\n",
      "             [0.34903783, 0.33908075],\n",
      "             [0.35973734, 0.        ],\n",
      "             [0.        , 0.        ],\n",
      "             [0.        , 0.        ],\n",
      "             [0.        , 0.        ]], dtype=float32)}\n",
      "{'indices': DeviceArray([[119, 134],\n",
      "             [150, 150],\n",
      "             [150, 150],\n",
      "             [150, 149],\n",
      "             [150, 150],\n",
      "             [150, 150],\n",
      "             [139,   0],\n",
      "             [  0,   0],\n",
      "             [  0,   0],\n",
      "             [  0,   0]], dtype=int32), 'objective': DeviceArray([[ 0.5087167 ,  1.9746034 ],\n",
      "             [ 0.08623122,  1.6260333 ],\n",
      "             [-0.07718299,  1.2878089 ],\n",
      "             [-0.27837473,  0.9533775 ],\n",
      "             [-0.4408887 ,  0.6720197 ],\n",
      "             [-0.6471962 ,  0.45772836],\n",
      "             [-0.8916303 ,  0.        ],\n",
      "             [ 0.        ,  0.        ],\n",
      "             [ 0.        ,  0.        ],\n",
      "             [ 0.        ,  0.        ]], dtype=float32), 'maxabsdiff': DeviceArray([[0.22056991, 0.378573  ],\n",
      "             [0.2834019 , 0.3759325 ],\n",
      "             [0.3538366 , 0.33831406],\n",
      "             [0.34781808, 0.37873083],\n",
      "             [0.33759212, 0.3374936 ],\n",
      "             [0.34903783, 0.33908075],\n",
      "             [0.36329335, 0.        ],\n",
      "             [0.        , 0.        ],\n",
      "             [0.        , 0.        ],\n",
      "             [0.        , 0.        ]], dtype=float32)}\n"
     ]
    },
    {
     "name": "stderr",
     "output_type": "stream",
     "text": [
      "100%|██████████| 150/150 [00:13<00:00, 11.49it/s]\n",
      "  1%|▏         | 2/150 [00:00<00:11, 12.80it/s]"
     ]
    },
    {
     "name": "stdout",
     "output_type": "stream",
     "text": [
      "{'indices': DeviceArray([[150, 150],\n",
      "             [150, 150],\n",
      "             [150, 150],\n",
      "             [150, 150],\n",
      "             [150, 150],\n",
      "             [150, 150],\n",
      "             [150, 150],\n",
      "             [  0,   0],\n",
      "             [  0,   0],\n",
      "             [  0,   0]], dtype=int32), 'objective': DeviceArray([[ 0.20934077,  2.0305836 ],\n",
      "             [ 0.08623122,  1.6260333 ],\n",
      "             [-0.07718299,  1.2878089 ],\n",
      "             [-0.27837473,  0.95241207],\n",
      "             [-0.4408887 ,  0.6720197 ],\n",
      "             [-0.6471962 ,  0.45772836],\n",
      "             [-0.9357966 ,  0.3015917 ],\n",
      "             [ 0.        ,  0.        ],\n",
      "             [ 0.        ,  0.        ],\n",
      "             [ 0.        ,  0.        ]], dtype=float32), 'maxabsdiff': DeviceArray([[0.27916303, 0.3768974 ],\n",
      "             [0.2834019 , 0.3759325 ],\n",
      "             [0.3538366 , 0.33831406],\n",
      "             [0.34781808, 0.34442526],\n",
      "             [0.33759212, 0.3374936 ],\n",
      "             [0.34903783, 0.33908075],\n",
      "             [0.35973734, 0.3276164 ],\n",
      "             [0.        , 0.        ],\n",
      "             [0.        , 0.        ],\n",
      "             [0.        , 0.        ]], dtype=float32)}\n",
      "{'indices': DeviceArray([[119, 134],\n",
      "             [150, 150],\n",
      "             [150, 150],\n",
      "             [150, 149],\n",
      "             [150, 150],\n",
      "             [150, 150],\n",
      "             [139, 149],\n",
      "             [  0,   0],\n",
      "             [  0,   0],\n",
      "             [  0,   0]], dtype=int32), 'objective': DeviceArray([[ 0.5087167 ,  1.9746034 ],\n",
      "             [ 0.08623122,  1.6260333 ],\n",
      "             [-0.07718299,  1.2878089 ],\n",
      "             [-0.27837473,  0.9533775 ],\n",
      "             [-0.4408887 ,  0.6720197 ],\n",
      "             [-0.6471962 ,  0.45772836],\n",
      "             [-0.8916303 ,  0.29490456],\n",
      "             [ 0.        ,  0.        ],\n",
      "             [ 0.        ,  0.        ],\n",
      "             [ 0.        ,  0.        ]], dtype=float32), 'maxabsdiff': DeviceArray([[0.22056991, 0.378573  ],\n",
      "             [0.2834019 , 0.3759325 ],\n",
      "             [0.3538366 , 0.33831406],\n",
      "             [0.34781808, 0.37873083],\n",
      "             [0.33759212, 0.3374936 ],\n",
      "             [0.34903783, 0.33908075],\n",
      "             [0.36329335, 0.3390593 ],\n",
      "             [0.        , 0.        ],\n",
      "             [0.        , 0.        ],\n",
      "             [0.        , 0.        ]], dtype=float32)}\n"
     ]
    },
    {
     "name": "stderr",
     "output_type": "stream",
     "text": [
      "100%|██████████| 150/150 [00:12<00:00, 11.84it/s]\n",
      "  1%|          | 1/150 [00:00<00:15,  9.89it/s]"
     ]
    },
    {
     "name": "stdout",
     "output_type": "stream",
     "text": [
      "{'indices': DeviceArray([[150, 150],\n",
      "             [150, 150],\n",
      "             [150, 150],\n",
      "             [150, 150],\n",
      "             [150, 150],\n",
      "             [150, 150],\n",
      "             [150, 150],\n",
      "             [150,   0],\n",
      "             [  0,   0],\n",
      "             [  0,   0]], dtype=int32), 'objective': DeviceArray([[ 0.20934077,  2.0305836 ],\n",
      "             [ 0.08623122,  1.6260333 ],\n",
      "             [-0.07718299,  1.2878089 ],\n",
      "             [-0.27837473,  0.95241207],\n",
      "             [-0.4408887 ,  0.6720197 ],\n",
      "             [-0.6471962 ,  0.45772836],\n",
      "             [-0.9357966 ,  0.3015917 ],\n",
      "             [-1.2716264 ,  0.        ],\n",
      "             [ 0.        ,  0.        ],\n",
      "             [ 0.        ,  0.        ]], dtype=float32), 'maxabsdiff': DeviceArray([[0.27916303, 0.3768974 ],\n",
      "             [0.2834019 , 0.3759325 ],\n",
      "             [0.3538366 , 0.33831406],\n",
      "             [0.34781808, 0.34442526],\n",
      "             [0.33759212, 0.3374936 ],\n",
      "             [0.34903783, 0.33908075],\n",
      "             [0.35973734, 0.3276164 ],\n",
      "             [0.35595387, 0.        ],\n",
      "             [0.        , 0.        ],\n",
      "             [0.        , 0.        ]], dtype=float32)}\n",
      "{'indices': DeviceArray([[119, 134],\n",
      "             [150, 150],\n",
      "             [150, 150],\n",
      "             [150, 149],\n",
      "             [150, 150],\n",
      "             [150, 150],\n",
      "             [139, 149],\n",
      "             [112,   0],\n",
      "             [  0,   0],\n",
      "             [  0,   0]], dtype=int32), 'objective': DeviceArray([[ 0.5087167 ,  1.9746034 ],\n",
      "             [ 0.08623122,  1.6260333 ],\n",
      "             [-0.07718299,  1.2878089 ],\n",
      "             [-0.27837473,  0.9533775 ],\n",
      "             [-0.4408887 ,  0.6720197 ],\n",
      "             [-0.6471962 ,  0.45772836],\n",
      "             [-0.8916303 ,  0.29490456],\n",
      "             [-1.1793905 ,  0.        ],\n",
      "             [ 0.        ,  0.        ],\n",
      "             [ 0.        ,  0.        ]], dtype=float32), 'maxabsdiff': DeviceArray([[0.22056991, 0.378573  ],\n",
      "             [0.2834019 , 0.3759325 ],\n",
      "             [0.3538366 , 0.33831406],\n",
      "             [0.34781808, 0.37873083],\n",
      "             [0.33759212, 0.3374936 ],\n",
      "             [0.34903783, 0.33908075],\n",
      "             [0.36329335, 0.3390593 ],\n",
      "             [0.3805403 , 0.        ],\n",
      "             [0.        , 0.        ],\n",
      "             [0.        , 0.        ]], dtype=float32)}\n"
     ]
    },
    {
     "name": "stderr",
     "output_type": "stream",
     "text": [
      "100%|██████████| 150/150 [00:13<00:00, 11.46it/s]\n",
      "  1%|▏         | 2/150 [00:00<00:10, 14.67it/s]"
     ]
    },
    {
     "name": "stdout",
     "output_type": "stream",
     "text": [
      "{'indices': DeviceArray([[150, 150],\n",
      "             [150, 150],\n",
      "             [150, 150],\n",
      "             [150, 150],\n",
      "             [150, 150],\n",
      "             [150, 150],\n",
      "             [150, 150],\n",
      "             [150, 150],\n",
      "             [  0,   0],\n",
      "             [  0,   0]], dtype=int32), 'objective': DeviceArray([[ 0.20934077,  2.0305836 ],\n",
      "             [ 0.08623122,  1.6260333 ],\n",
      "             [-0.07718299,  1.2878089 ],\n",
      "             [-0.27837473,  0.95241207],\n",
      "             [-0.4408887 ,  0.6720197 ],\n",
      "             [-0.6471962 ,  0.45772836],\n",
      "             [-0.9357966 ,  0.3015917 ],\n",
      "             [-1.2716264 ,  0.12118108],\n",
      "             [ 0.        ,  0.        ],\n",
      "             [ 0.        ,  0.        ]], dtype=float32), 'maxabsdiff': DeviceArray([[0.27916303, 0.3768974 ],\n",
      "             [0.2834019 , 0.3759325 ],\n",
      "             [0.3538366 , 0.33831406],\n",
      "             [0.34781808, 0.34442526],\n",
      "             [0.33759212, 0.3374936 ],\n",
      "             [0.34903783, 0.33908075],\n",
      "             [0.35973734, 0.3276164 ],\n",
      "             [0.35595387, 0.3598407 ],\n",
      "             [0.        , 0.        ],\n",
      "             [0.        , 0.        ]], dtype=float32)}\n",
      "{'indices': DeviceArray([[119, 134],\n",
      "             [150, 150],\n",
      "             [150, 150],\n",
      "             [150, 149],\n",
      "             [150, 150],\n",
      "             [150, 150],\n",
      "             [139, 149],\n",
      "             [112, 150],\n",
      "             [  0,   0],\n",
      "             [  0,   0]], dtype=int32), 'objective': DeviceArray([[ 0.5087167 ,  1.9746034 ],\n",
      "             [ 0.08623122,  1.6260333 ],\n",
      "             [-0.07718299,  1.2878089 ],\n",
      "             [-0.27837473,  0.9533775 ],\n",
      "             [-0.4408887 ,  0.6720197 ],\n",
      "             [-0.6471962 ,  0.45772836],\n",
      "             [-0.8916303 ,  0.29490456],\n",
      "             [-1.1793905 ,  0.12118108],\n",
      "             [ 0.        ,  0.        ],\n",
      "             [ 0.        ,  0.        ]], dtype=float32), 'maxabsdiff': DeviceArray([[0.22056991, 0.378573  ],\n",
      "             [0.2834019 , 0.3759325 ],\n",
      "             [0.3538366 , 0.33831406],\n",
      "             [0.34781808, 0.37873083],\n",
      "             [0.33759212, 0.3374936 ],\n",
      "             [0.34903783, 0.33908075],\n",
      "             [0.36329335, 0.3390593 ],\n",
      "             [0.3805403 , 0.3598407 ],\n",
      "             [0.        , 0.        ],\n",
      "             [0.        , 0.        ]], dtype=float32)}\n"
     ]
    },
    {
     "name": "stderr",
     "output_type": "stream",
     "text": [
      "100%|██████████| 150/150 [00:10<00:00, 13.71it/s]\n",
      "  1%|▏         | 2/150 [00:00<00:10, 14.61it/s]"
     ]
    },
    {
     "name": "stdout",
     "output_type": "stream",
     "text": [
      "{'indices': DeviceArray([[150, 150],\n",
      "             [150, 150],\n",
      "             [150, 150],\n",
      "             [150, 150],\n",
      "             [150, 150],\n",
      "             [150, 150],\n",
      "             [150, 150],\n",
      "             [150, 150],\n",
      "             [150,   0],\n",
      "             [  0,   0]], dtype=int32), 'objective': DeviceArray([[ 0.20934077,  2.0305836 ],\n",
      "             [ 0.08623122,  1.6260333 ],\n",
      "             [-0.07718299,  1.2878089 ],\n",
      "             [-0.27837473,  0.95241207],\n",
      "             [-0.4408887 ,  0.6720197 ],\n",
      "             [-0.6471962 ,  0.45772836],\n",
      "             [-0.9357966 ,  0.3015917 ],\n",
      "             [-1.2716264 ,  0.12118108],\n",
      "             [-1.7137612 ,  0.        ],\n",
      "             [ 0.        ,  0.        ]], dtype=float32), 'maxabsdiff': DeviceArray([[0.27916303, 0.3768974 ],\n",
      "             [0.2834019 , 0.3759325 ],\n",
      "             [0.3538366 , 0.33831406],\n",
      "             [0.34781808, 0.34442526],\n",
      "             [0.33759212, 0.3374936 ],\n",
      "             [0.34903783, 0.33908075],\n",
      "             [0.35973734, 0.3276164 ],\n",
      "             [0.35595387, 0.3598407 ],\n",
      "             [0.36120468, 0.        ],\n",
      "             [0.        , 0.        ]], dtype=float32)}\n",
      "{'indices': DeviceArray([[119, 134],\n",
      "             [150, 150],\n",
      "             [150, 150],\n",
      "             [150, 149],\n",
      "             [150, 150],\n",
      "             [150, 150],\n",
      "             [139, 149],\n",
      "             [112, 150],\n",
      "             [112,   0],\n",
      "             [  0,   0]], dtype=int32), 'objective': DeviceArray([[ 0.5087167 ,  1.9746034 ],\n",
      "             [ 0.08623122,  1.6260333 ],\n",
      "             [-0.07718299,  1.2878089 ],\n",
      "             [-0.27837473,  0.9533775 ],\n",
      "             [-0.4408887 ,  0.6720197 ],\n",
      "             [-0.6471962 ,  0.45772836],\n",
      "             [-0.8916303 ,  0.29490456],\n",
      "             [-1.1793905 ,  0.12118108],\n",
      "             [-1.5847511 ,  0.        ],\n",
      "             [ 0.        ,  0.        ]], dtype=float32), 'maxabsdiff': DeviceArray([[0.22056991, 0.378573  ],\n",
      "             [0.2834019 , 0.3759325 ],\n",
      "             [0.3538366 , 0.33831406],\n",
      "             [0.34781808, 0.37873083],\n",
      "             [0.33759212, 0.3374936 ],\n",
      "             [0.34903783, 0.33908075],\n",
      "             [0.36329335, 0.3390593 ],\n",
      "             [0.3805403 , 0.3598407 ],\n",
      "             [0.3778563 , 0.        ],\n",
      "             [0.        , 0.        ]], dtype=float32)}\n"
     ]
    },
    {
     "name": "stderr",
     "output_type": "stream",
     "text": [
      "100%|██████████| 150/150 [00:10<00:00, 14.33it/s]\n",
      "  1%|▏         | 2/150 [00:00<00:11, 13.39it/s]"
     ]
    },
    {
     "name": "stdout",
     "output_type": "stream",
     "text": [
      "{'indices': DeviceArray([[150, 150],\n",
      "             [150, 150],\n",
      "             [150, 150],\n",
      "             [150, 150],\n",
      "             [150, 150],\n",
      "             [150, 150],\n",
      "             [150, 150],\n",
      "             [150, 150],\n",
      "             [150, 150],\n",
      "             [  0,   0]], dtype=int32), 'objective': DeviceArray([[ 0.20934077,  2.0305836 ],\n",
      "             [ 0.08623122,  1.6260333 ],\n",
      "             [-0.07718299,  1.2878089 ],\n",
      "             [-0.27837473,  0.95241207],\n",
      "             [-0.4408887 ,  0.6720197 ],\n",
      "             [-0.6471962 ,  0.45772836],\n",
      "             [-0.9357966 ,  0.3015917 ],\n",
      "             [-1.2716264 ,  0.12118108],\n",
      "             [-1.7137612 , -0.04830782],\n",
      "             [ 0.        ,  0.        ]], dtype=float32), 'maxabsdiff': DeviceArray([[0.27916303, 0.3768974 ],\n",
      "             [0.2834019 , 0.3759325 ],\n",
      "             [0.3538366 , 0.33831406],\n",
      "             [0.34781808, 0.34442526],\n",
      "             [0.33759212, 0.3374936 ],\n",
      "             [0.34903783, 0.33908075],\n",
      "             [0.35973734, 0.3276164 ],\n",
      "             [0.35595387, 0.3598407 ],\n",
      "             [0.36120468, 0.3109647 ],\n",
      "             [0.        , 0.        ]], dtype=float32)}\n",
      "{'indices': DeviceArray([[119, 134],\n",
      "             [150, 150],\n",
      "             [150, 150],\n",
      "             [150, 149],\n",
      "             [150, 150],\n",
      "             [150, 150],\n",
      "             [139, 149],\n",
      "             [112, 150],\n",
      "             [112, 147],\n",
      "             [  0,   0]], dtype=int32), 'objective': DeviceArray([[ 0.5087167 ,  1.9746034 ],\n",
      "             [ 0.08623122,  1.6260333 ],\n",
      "             [-0.07718299,  1.2878089 ],\n",
      "             [-0.27837473,  0.9533775 ],\n",
      "             [-0.4408887 ,  0.6720197 ],\n",
      "             [-0.6471962 ,  0.45772836],\n",
      "             [-0.8916303 ,  0.29490456],\n",
      "             [-1.1793905 ,  0.12118108],\n",
      "             [-1.5847511 , -0.05493461],\n",
      "             [ 0.        ,  0.        ]], dtype=float32), 'maxabsdiff': DeviceArray([[0.22056991, 0.378573  ],\n",
      "             [0.2834019 , 0.3759325 ],\n",
      "             [0.3538366 , 0.33831406],\n",
      "             [0.34781808, 0.37873083],\n",
      "             [0.33759212, 0.3374936 ],\n",
      "             [0.34903783, 0.33908075],\n",
      "             [0.36329335, 0.3390593 ],\n",
      "             [0.3805403 , 0.3598407 ],\n",
      "             [0.3778563 , 0.33147675],\n",
      "             [0.        , 0.        ]], dtype=float32)}\n"
     ]
    },
    {
     "name": "stderr",
     "output_type": "stream",
     "text": [
      "100%|██████████| 150/150 [00:10<00:00, 13.89it/s]\n",
      "  1%|▏         | 2/150 [00:00<00:10, 14.66it/s]"
     ]
    },
    {
     "name": "stdout",
     "output_type": "stream",
     "text": [
      "{'indices': DeviceArray([[150, 150],\n",
      "             [150, 150],\n",
      "             [150, 150],\n",
      "             [150, 150],\n",
      "             [150, 150],\n",
      "             [150, 150],\n",
      "             [150, 150],\n",
      "             [150, 150],\n",
      "             [150, 150],\n",
      "             [150,   0]], dtype=int32), 'objective': DeviceArray([[ 0.20934077,  2.0305836 ],\n",
      "             [ 0.08623122,  1.6260333 ],\n",
      "             [-0.07718299,  1.2878089 ],\n",
      "             [-0.27837473,  0.95241207],\n",
      "             [-0.4408887 ,  0.6720197 ],\n",
      "             [-0.6471962 ,  0.45772836],\n",
      "             [-0.9357966 ,  0.3015917 ],\n",
      "             [-1.2716264 ,  0.12118108],\n",
      "             [-1.7137612 , -0.04830782],\n",
      "             [-2.2402294 ,  0.        ]], dtype=float32), 'maxabsdiff': DeviceArray([[0.27916303, 0.3768974 ],\n",
      "             [0.2834019 , 0.3759325 ],\n",
      "             [0.3538366 , 0.33831406],\n",
      "             [0.34781808, 0.34442526],\n",
      "             [0.33759212, 0.3374936 ],\n",
      "             [0.34903783, 0.33908075],\n",
      "             [0.35973734, 0.3276164 ],\n",
      "             [0.35595387, 0.3598407 ],\n",
      "             [0.36120468, 0.3109647 ],\n",
      "             [0.36491674, 0.        ]], dtype=float32)}\n",
      "{'indices': DeviceArray([[119, 134],\n",
      "             [150, 150],\n",
      "             [150, 150],\n",
      "             [150, 149],\n",
      "             [150, 150],\n",
      "             [150, 150],\n",
      "             [139, 149],\n",
      "             [112, 150],\n",
      "             [112, 147],\n",
      "             [118,   0]], dtype=int32), 'objective': DeviceArray([[ 0.5087167 ,  1.9746034 ],\n",
      "             [ 0.08623122,  1.6260333 ],\n",
      "             [-0.07718299,  1.2878089 ],\n",
      "             [-0.27837473,  0.9533775 ],\n",
      "             [-0.4408887 ,  0.6720197 ],\n",
      "             [-0.6471962 ,  0.45772836],\n",
      "             [-0.8916303 ,  0.29490456],\n",
      "             [-1.1793905 ,  0.12118108],\n",
      "             [-1.5847511 , -0.05493461],\n",
      "             [-2.104258  ,  0.        ]], dtype=float32), 'maxabsdiff': DeviceArray([[0.22056991, 0.378573  ],\n",
      "             [0.2834019 , 0.3759325 ],\n",
      "             [0.3538366 , 0.33831406],\n",
      "             [0.34781808, 0.37873083],\n",
      "             [0.33759212, 0.3374936 ],\n",
      "             [0.34903783, 0.33908075],\n",
      "             [0.36329335, 0.3390593 ],\n",
      "             [0.3805403 , 0.3598407 ],\n",
      "             [0.3778563 , 0.33147675],\n",
      "             [0.374008  , 0.        ]], dtype=float32)}\n"
     ]
    },
    {
     "name": "stderr",
     "output_type": "stream",
     "text": [
      "100%|██████████| 150/150 [00:11<00:00, 13.54it/s]\n"
     ]
    },
    {
     "name": "stdout",
     "output_type": "stream",
     "text": [
      "{'indices': DeviceArray([[150, 150],\n",
      "             [150, 150],\n",
      "             [150, 150],\n",
      "             [150, 150],\n",
      "             [150, 150],\n",
      "             [150, 150],\n",
      "             [150, 150],\n",
      "             [150, 150],\n",
      "             [150, 150],\n",
      "             [150, 150]], dtype=int32), 'objective': DeviceArray([[ 0.20934077,  2.0305836 ],\n",
      "             [ 0.08623122,  1.6260333 ],\n",
      "             [-0.07718299,  1.2878089 ],\n",
      "             [-0.27837473,  0.95241207],\n",
      "             [-0.4408887 ,  0.6720197 ],\n",
      "             [-0.6471962 ,  0.45772836],\n",
      "             [-0.9357966 ,  0.3015917 ],\n",
      "             [-1.2716264 ,  0.12118108],\n",
      "             [-1.7137612 , -0.04830782],\n",
      "             [-2.2402294 , -0.1784195 ]], dtype=float32), 'maxabsdiff': DeviceArray([[0.27916303, 0.3768974 ],\n",
      "             [0.2834019 , 0.3759325 ],\n",
      "             [0.3538366 , 0.33831406],\n",
      "             [0.34781808, 0.34442526],\n",
      "             [0.33759212, 0.3374936 ],\n",
      "             [0.34903783, 0.33908075],\n",
      "             [0.35973734, 0.3276164 ],\n",
      "             [0.35595387, 0.3598407 ],\n",
      "             [0.36120468, 0.3109647 ],\n",
      "             [0.36491674, 0.2486744 ]], dtype=float32)}\n",
      "{'indices': DeviceArray([[119, 134],\n",
      "             [150, 150],\n",
      "             [150, 150],\n",
      "             [150, 149],\n",
      "             [150, 150],\n",
      "             [150, 150],\n",
      "             [139, 149],\n",
      "             [112, 150],\n",
      "             [112, 147],\n",
      "             [118, 146]], dtype=int32), 'objective': DeviceArray([[ 0.5087167 ,  1.9746034 ],\n",
      "             [ 0.08623122,  1.6260333 ],\n",
      "             [-0.07718299,  1.2878089 ],\n",
      "             [-0.27837473,  0.9533775 ],\n",
      "             [-0.4408887 ,  0.6720197 ],\n",
      "             [-0.6471962 ,  0.45772836],\n",
      "             [-0.8916303 ,  0.29490456],\n",
      "             [-1.1793905 ,  0.12118108],\n",
      "             [-1.5847511 , -0.05493461],\n",
      "             [-2.104258  , -0.20036209]], dtype=float32), 'maxabsdiff': DeviceArray([[0.22056991, 0.378573  ],\n",
      "             [0.2834019 , 0.3759325 ],\n",
      "             [0.3538366 , 0.33831406],\n",
      "             [0.34781808, 0.37873083],\n",
      "             [0.33759212, 0.3374936 ],\n",
      "             [0.34903783, 0.33908075],\n",
      "             [0.36329335, 0.3390593 ],\n",
      "             [0.3805403 , 0.3598407 ],\n",
      "             [0.3778563 , 0.33147675],\n",
      "             [0.374008  , 0.28737924]], dtype=float32)}\n"
     ]
    }
   ],
   "source": [
    "import boundiv\n",
    "satis, results = boundiv.fit_bounds(z, x, y, xstar_bound, slack=0.6)"
   ]
  },
  {
   "cell_type": "markdown",
   "metadata": {},
   "source": [
    "# Plot approaches"
   ]
  },
  {
   "cell_type": "code",
   "execution_count": 17,
   "metadata": {},
   "outputs": [],
   "source": [
    "from plot_fct import colours, img_path, update_layout, plot_diversity_methods"
   ]
  },
  {
   "cell_type": "code",
   "execution_count": 37,
   "metadata": {
    "scrolled": true
   },
   "outputs": [
    {
     "data": {
      "application/vnd.plotly.v1+json": {
       "config": {
        "plotlyServerURL": "https://plot.ly"
       },
       "data": [
        {
         "line": {
          "width": 4
         },
         "marker": {
          "color": "black",
          "line": {
           "width": 2
          },
          "size": 5,
          "symbol": "x-thin"
         },
         "mode": "markers",
         "name": "Data",
         "type": "scatter",
         "x": [
          -0.9026300773873834,
          -0.8686345249814313,
          -0.7335066559347839,
          -1.4583075360231048,
          1.2772846931523776,
          -0.8347245402951796,
          0.11202867725723276,
          -0.633054091581371,
          -0.11008801334392716,
          -0.3362530823696462,
          -0.2712189286751812,
          1.1632998732478705,
          1.611830111812663,
          -1.2473216798409041,
          0.4835003396161585,
          -0.30369432456309525,
          1.6665156770719256,
          1.4459404961132112,
          1.5292297206738208,
          -1.177691185409211,
          1.5015433158923674,
          0.5442816783317241,
          1.4180238803125675,
          0.5745520714237395,
          -1.1430062044643539,
          0.6348528691945565,
          -0.5333633026532125,
          0.2059925602943582,
          -0.6664534638170952,
          0.6648834982439502,
          -1.3524208531643425,
          1.2204475943046698,
          -1.0051314883355391,
          -1.6007214708232722,
          -1.5293380667758323,
          -0.5003017165303549,
          -0.3688953277782169,
          0.8433974963458974,
          -1.6365458639039159,
          -1.0394706617492873,
          1.1058406969164791,
          1.333811996766656,
          1.1919126134762605,
          0.7544976434211609,
          0.08054399764674847,
          -0.936711331984716,
          0.4529891670613257,
          0.17475283979032707,
          0.9899846153445382,
          1.019066116292806,
          0.017328844339301028,
          0.9608246165871697,
          -0.4673242539163388,
          -0.434430786624121,
          -1.3173004835176978,
          -0.9708784237816921,
          -0.5997393607148224
         ],
         "y": [
          0.8434945544537916,
          0.8127533846303474,
          0.32089466745524714,
          1.1509062526882297,
          0.5360828562193536,
          0.9664592337475664,
          -0.14022287989640997,
          1.212388592335117,
          0.07496530886769646,
          0.6283063656896852,
          -0.41689340830740484,
          0.4131181769255777,
          -0.10948171007296681,
          -0.7243051065418429,
          -0.5705992574246239,
          -0.23244638936674158,
          -1.1546814840700557,
          0.7205298751600158,
          -0.07874054024952257,
          -0.4783757479542923,
          -0.878010955659062,
          -1.646540201245157,
          0.9357180639241233,
          -1.646540201245157,
          -1.7387637107154887,
          -1.9846930693030382,
          0.3823770071021345,
          -0.9702344651293936,
          1.3968356112757803,
          -1.8617283900092636,
          -0.14022287989640997,
          0.04422413904425222,
          0.5360828562193536,
          -0.6935639367183987,
          0.1671888183380281,
          0.6897887053365725,
          0.6283063656896852,
          1.3353532716288918,
          0.4438593467490219,
          1.058682743217898,
          0.5668240260427967,
          -0.10948171007296681,
          0.2286711579849155,
          0.9972004035710106,
          0.4438593467490219,
          0.7205298751600158,
          -2.5072929563015838,
          -1.9846930693030382,
          -0.10948171007296681,
          1.0279415733944537,
          -1.7080225408920444,
          0.25941232780835866,
          0.6283063656896852,
          0.9972004035710106,
          -1.2776461633638316,
          0.8742357242772347,
          1.1201650828647853
         ]
        },
        {
         "line": {
          "color": "#EF553B",
          "dash": "dot",
          "width": 4
         },
         "marker": {
          "line": {
           "width": 2
          },
          "size": 5
         },
         "mode": "lines",
         "name": "OLS",
         "type": "scatter",
         "x": [
          -1.6365458965301514,
          -1.5226472616195679,
          -1.4087486267089844,
          -1.2948498725891113,
          -1.1809511184692383,
          -1.0670524835586548,
          -0.9531537890434265,
          -0.8392550945281982,
          -0.7253564596176147,
          -0.6114578247070312,
          -0.497559130191803,
          -0.3836604952812195,
          -0.2697618007659912,
          -0.15586310625076294,
          -0.04196441173553467,
          0.07193422317504883,
          0.1858329176902771,
          0.29973167181015015,
          0.4136301875114441,
          0.5275290012359619,
          0.6414276361465454,
          0.7553262710571289,
          0.8692249059677124,
          0.9831237196922302,
          1.0970224142074585,
          1.2109209299087524,
          1.3248196840286255,
          1.4387184381484985,
          1.552617073059082,
          1.6665157079696655
         ],
         "y": [
          0.24105963110923767,
          0.22428260743618011,
          0.20750559866428375,
          0.190728560090065,
          0.17395152151584625,
          0.1571744978427887,
          0.14039747416973114,
          0.12362044304609299,
          0.10684341937303543,
          0.09006640315055847,
          0.07328937202692032,
          0.05651235207915306,
          0.039735324680805206,
          0.022958295419812202,
          0.006181266158819199,
          -0.010595753788948059,
          -0.027372783049941063,
          -0.044149819761514664,
          -0.06092682108283043,
          -0.07770387083292007,
          -0.09448088705539703,
          -0.11125791072845459,
          -0.12803493440151215,
          -0.1448119729757309,
          -0.16158899664878845,
          -0.17836600542068481,
          -0.19514304399490356,
          -0.21192008256912231,
          -0.22869710624217987,
          -0.24547411501407623
         ]
        },
        {
         "line": {
          "color": "#00CC96",
          "dash": "dash",
          "width": 4
         },
         "marker": {
          "line": {
           "width": 2
          },
          "size": 5
         },
         "mode": "lines",
         "name": "2SLS",
         "type": "scatter",
         "x": [
          -1.6365458965301514,
          -1.5226472616195679,
          -1.4087486267089844,
          -1.2948498725891113,
          -1.1809511184692383,
          -1.0670524835586548,
          -0.9531537890434265,
          -0.8392550945281982,
          -0.7253564596176147,
          -0.6114578247070312,
          -0.497559130191803,
          -0.3836604952812195,
          -0.2697618007659912,
          -0.15586310625076294,
          -0.04196441173553467,
          0.07193422317504883,
          0.1858329176902771,
          0.29973167181015015,
          0.4136301875114441,
          0.5275290012359619,
          0.6414276361465454,
          0.7553262710571289,
          0.8692249059677124,
          0.9831237196922302,
          1.0970224142074585,
          1.2109209299087524,
          1.3248196840286255,
          1.4387184381484985,
          1.552617073059082,
          1.6665157079696655
         ],
         "y": [
          1.9413337707519531,
          1.8062227964401245,
          1.6711119413375854,
          1.5360008478164673,
          1.4008897542953491,
          1.2657787799835205,
          1.130667805671692,
          0.9955567121505737,
          0.8604457974433899,
          0.7253348231315613,
          0.5902237892150879,
          0.45511287450790405,
          0.32000184059143066,
          0.18489082157611847,
          0.049779802560806274,
          -0.08533114939928055,
          -0.22044216096401215,
          -0.3555532693862915,
          -0.4906640648841858,
          -0.6257752180099487,
          -0.7608861923217773,
          -0.8959971070289612,
          -1.031108021736145,
          -1.1662192344665527,
          -1.3013302087783813,
          -1.4364410638809204,
          -1.5715521574020386,
          -1.7066632509231567,
          -1.8417742252349854,
          -1.9768850803375244
         ]
        },
        {
         "line": {
          "color": "#AB63FA",
          "dash": "dashdot",
          "width": 4
         },
         "marker": {
          "line": {
           "width": 2
          },
          "size": 5
         },
         "mode": "lines",
         "name": "KIV",
         "type": "scatter",
         "x": [
          -1.6365458965301514,
          -1.5226472616195679,
          -1.4087486267089844,
          -1.2948498725891113,
          -1.1809511184692383,
          -1.0670524835586548,
          -0.9531537890434265,
          -0.8392550945281982,
          -0.7253564596176147,
          -0.6114578247070312,
          -0.497559130191803,
          -0.3836604952812195,
          -0.2697618007659912,
          -0.15586310625076294,
          -0.04196441173553467,
          0.07193422317504883,
          0.1858329176902771,
          0.29973167181015015,
          0.4136301875114441,
          0.5275290012359619,
          0.6414276361465454,
          0.7553262710571289,
          0.8692249059677124,
          0.9831237196922302,
          1.0970224142074585,
          1.2109209299087524,
          1.3248196840286255,
          1.4387184381484985,
          1.552617073059082,
          1.6665157079696655
         ],
         "y": [
          0.08620562505298021,
          0.1155518352558171,
          0.15263815412347884,
          0.19645164302245993,
          0.24412785420391267,
          0.29109786217763883,
          0.33184346411005966,
          0.36109263252844803,
          0.3750596623785827,
          0.37226775461753137,
          0.3536425667331675,
          0.32187870617610226,
          0.2803976247192824,
          0.23237175108588148,
          0.18020200287939236,
          0.12555658100101644,
          0.06977343709660458,
          0.014261654519955683,
          -0.039399571857106803,
          -0.08972824863662998,
          -0.1357702915915479,
          -0.17736673252539148,
          -0.21500666035380903,
          -0.24926261506548442,
          -0.28006301524757804,
          -0.30618704578412026,
          -0.3252863473690355,
          -0.33449511699711804,
          -0.3314092069144632,
          -0.3150384202622782
         ]
        },
        {
         "line": {
          "color": "#FFA15A",
          "width": 4
         },
         "marker": {
          "color": "#FFA15A",
          "line": {
           "color": "#FFA15A",
           "width": 2
          },
          "size": 5
         },
         "name": "GB lower",
         "type": "scatter",
         "x": [
          -1.2753132581710815,
          -0.9816677570343018,
          -0.688022255897522,
          -0.39437657594680786,
          -0.10073119401931763,
          0.19291448593139648,
          0.48655998706817627,
          0.780205488204956,
          1.0738509893417358,
          1.3674964904785156
         ],
         "y": [
          0.20934076607227325,
          0.08623121678829193,
          -0.07718298584222794,
          -0.27837473154067993,
          -0.4408887028694153,
          -0.6471961736679077,
          -0.9357966184616089,
          -1.271626353263855,
          -1.7137612104415894,
          -2.240229368209839
         ]
        },
        {
         "line": {
          "color": "#19D3F3",
          "width": 4
         },
         "marker": {
          "color": "#19D3F3",
          "line": {
           "color": "#19D3F3",
           "width": 2
          },
          "size": 5
         },
         "name": "GB upper",
         "type": "scatter",
         "x": [
          -1.2753132581710815,
          -0.9816677570343018,
          -0.688022255897522,
          -0.39437657594680786,
          -0.10073119401931763,
          0.19291448593139648,
          0.48655998706817627,
          0.780205488204956,
          1.0738509893417358,
          1.3674964904785156
         ],
         "y": [
          2.030583620071411,
          1.6260333061218262,
          1.287808895111084,
          0.9524120688438416,
          0.6720197200775146,
          0.4577283561229706,
          0.301591694355011,
          0.12118107825517654,
          -0.04830782115459442,
          -0.17841950058937073
         ]
        }
       ],
       "layout": {
        "font": {
         "family": "serif",
         "size": 26
        },
        "margin": {
         "b": 0,
         "l": 0,
         "r": 0,
         "t": 0
        },
        "plot_bgcolor": "rgba(0,0,0,0)",
        "template": {
         "data": {
          "bar": [
           {
            "error_x": {
             "color": "#2a3f5f"
            },
            "error_y": {
             "color": "#2a3f5f"
            },
            "marker": {
             "line": {
              "color": "#E5ECF6",
              "width": 0.5
             }
            },
            "type": "bar"
           }
          ],
          "barpolar": [
           {
            "marker": {
             "line": {
              "color": "#E5ECF6",
              "width": 0.5
             }
            },
            "type": "barpolar"
           }
          ],
          "carpet": [
           {
            "aaxis": {
             "endlinecolor": "#2a3f5f",
             "gridcolor": "white",
             "linecolor": "white",
             "minorgridcolor": "white",
             "startlinecolor": "#2a3f5f"
            },
            "baxis": {
             "endlinecolor": "#2a3f5f",
             "gridcolor": "white",
             "linecolor": "white",
             "minorgridcolor": "white",
             "startlinecolor": "#2a3f5f"
            },
            "type": "carpet"
           }
          ],
          "choropleth": [
           {
            "colorbar": {
             "outlinewidth": 0,
             "ticks": ""
            },
            "type": "choropleth"
           }
          ],
          "contour": [
           {
            "colorbar": {
             "outlinewidth": 0,
             "ticks": ""
            },
            "colorscale": [
             [
              0,
              "#0d0887"
             ],
             [
              0.1111111111111111,
              "#46039f"
             ],
             [
              0.2222222222222222,
              "#7201a8"
             ],
             [
              0.3333333333333333,
              "#9c179e"
             ],
             [
              0.4444444444444444,
              "#bd3786"
             ],
             [
              0.5555555555555556,
              "#d8576b"
             ],
             [
              0.6666666666666666,
              "#ed7953"
             ],
             [
              0.7777777777777778,
              "#fb9f3a"
             ],
             [
              0.8888888888888888,
              "#fdca26"
             ],
             [
              1,
              "#f0f921"
             ]
            ],
            "type": "contour"
           }
          ],
          "contourcarpet": [
           {
            "colorbar": {
             "outlinewidth": 0,
             "ticks": ""
            },
            "type": "contourcarpet"
           }
          ],
          "heatmap": [
           {
            "colorbar": {
             "outlinewidth": 0,
             "ticks": ""
            },
            "colorscale": [
             [
              0,
              "#0d0887"
             ],
             [
              0.1111111111111111,
              "#46039f"
             ],
             [
              0.2222222222222222,
              "#7201a8"
             ],
             [
              0.3333333333333333,
              "#9c179e"
             ],
             [
              0.4444444444444444,
              "#bd3786"
             ],
             [
              0.5555555555555556,
              "#d8576b"
             ],
             [
              0.6666666666666666,
              "#ed7953"
             ],
             [
              0.7777777777777778,
              "#fb9f3a"
             ],
             [
              0.8888888888888888,
              "#fdca26"
             ],
             [
              1,
              "#f0f921"
             ]
            ],
            "type": "heatmap"
           }
          ],
          "heatmapgl": [
           {
            "colorbar": {
             "outlinewidth": 0,
             "ticks": ""
            },
            "colorscale": [
             [
              0,
              "#0d0887"
             ],
             [
              0.1111111111111111,
              "#46039f"
             ],
             [
              0.2222222222222222,
              "#7201a8"
             ],
             [
              0.3333333333333333,
              "#9c179e"
             ],
             [
              0.4444444444444444,
              "#bd3786"
             ],
             [
              0.5555555555555556,
              "#d8576b"
             ],
             [
              0.6666666666666666,
              "#ed7953"
             ],
             [
              0.7777777777777778,
              "#fb9f3a"
             ],
             [
              0.8888888888888888,
              "#fdca26"
             ],
             [
              1,
              "#f0f921"
             ]
            ],
            "type": "heatmapgl"
           }
          ],
          "histogram": [
           {
            "marker": {
             "colorbar": {
              "outlinewidth": 0,
              "ticks": ""
             }
            },
            "type": "histogram"
           }
          ],
          "histogram2d": [
           {
            "colorbar": {
             "outlinewidth": 0,
             "ticks": ""
            },
            "colorscale": [
             [
              0,
              "#0d0887"
             ],
             [
              0.1111111111111111,
              "#46039f"
             ],
             [
              0.2222222222222222,
              "#7201a8"
             ],
             [
              0.3333333333333333,
              "#9c179e"
             ],
             [
              0.4444444444444444,
              "#bd3786"
             ],
             [
              0.5555555555555556,
              "#d8576b"
             ],
             [
              0.6666666666666666,
              "#ed7953"
             ],
             [
              0.7777777777777778,
              "#fb9f3a"
             ],
             [
              0.8888888888888888,
              "#fdca26"
             ],
             [
              1,
              "#f0f921"
             ]
            ],
            "type": "histogram2d"
           }
          ],
          "histogram2dcontour": [
           {
            "colorbar": {
             "outlinewidth": 0,
             "ticks": ""
            },
            "colorscale": [
             [
              0,
              "#0d0887"
             ],
             [
              0.1111111111111111,
              "#46039f"
             ],
             [
              0.2222222222222222,
              "#7201a8"
             ],
             [
              0.3333333333333333,
              "#9c179e"
             ],
             [
              0.4444444444444444,
              "#bd3786"
             ],
             [
              0.5555555555555556,
              "#d8576b"
             ],
             [
              0.6666666666666666,
              "#ed7953"
             ],
             [
              0.7777777777777778,
              "#fb9f3a"
             ],
             [
              0.8888888888888888,
              "#fdca26"
             ],
             [
              1,
              "#f0f921"
             ]
            ],
            "type": "histogram2dcontour"
           }
          ],
          "mesh3d": [
           {
            "colorbar": {
             "outlinewidth": 0,
             "ticks": ""
            },
            "type": "mesh3d"
           }
          ],
          "parcoords": [
           {
            "line": {
             "colorbar": {
              "outlinewidth": 0,
              "ticks": ""
             }
            },
            "type": "parcoords"
           }
          ],
          "pie": [
           {
            "automargin": true,
            "type": "pie"
           }
          ],
          "scatter": [
           {
            "marker": {
             "colorbar": {
              "outlinewidth": 0,
              "ticks": ""
             }
            },
            "type": "scatter"
           }
          ],
          "scatter3d": [
           {
            "line": {
             "colorbar": {
              "outlinewidth": 0,
              "ticks": ""
             }
            },
            "marker": {
             "colorbar": {
              "outlinewidth": 0,
              "ticks": ""
             }
            },
            "type": "scatter3d"
           }
          ],
          "scattercarpet": [
           {
            "marker": {
             "colorbar": {
              "outlinewidth": 0,
              "ticks": ""
             }
            },
            "type": "scattercarpet"
           }
          ],
          "scattergeo": [
           {
            "marker": {
             "colorbar": {
              "outlinewidth": 0,
              "ticks": ""
             }
            },
            "type": "scattergeo"
           }
          ],
          "scattergl": [
           {
            "marker": {
             "colorbar": {
              "outlinewidth": 0,
              "ticks": ""
             }
            },
            "type": "scattergl"
           }
          ],
          "scattermapbox": [
           {
            "marker": {
             "colorbar": {
              "outlinewidth": 0,
              "ticks": ""
             }
            },
            "type": "scattermapbox"
           }
          ],
          "scatterpolar": [
           {
            "marker": {
             "colorbar": {
              "outlinewidth": 0,
              "ticks": ""
             }
            },
            "type": "scatterpolar"
           }
          ],
          "scatterpolargl": [
           {
            "marker": {
             "colorbar": {
              "outlinewidth": 0,
              "ticks": ""
             }
            },
            "type": "scatterpolargl"
           }
          ],
          "scatterternary": [
           {
            "marker": {
             "colorbar": {
              "outlinewidth": 0,
              "ticks": ""
             }
            },
            "type": "scatterternary"
           }
          ],
          "surface": [
           {
            "colorbar": {
             "outlinewidth": 0,
             "ticks": ""
            },
            "colorscale": [
             [
              0,
              "#0d0887"
             ],
             [
              0.1111111111111111,
              "#46039f"
             ],
             [
              0.2222222222222222,
              "#7201a8"
             ],
             [
              0.3333333333333333,
              "#9c179e"
             ],
             [
              0.4444444444444444,
              "#bd3786"
             ],
             [
              0.5555555555555556,
              "#d8576b"
             ],
             [
              0.6666666666666666,
              "#ed7953"
             ],
             [
              0.7777777777777778,
              "#fb9f3a"
             ],
             [
              0.8888888888888888,
              "#fdca26"
             ],
             [
              1,
              "#f0f921"
             ]
            ],
            "type": "surface"
           }
          ],
          "table": [
           {
            "cells": {
             "fill": {
              "color": "#EBF0F8"
             },
             "line": {
              "color": "white"
             }
            },
            "header": {
             "fill": {
              "color": "#C8D4E3"
             },
             "line": {
              "color": "white"
             }
            },
            "type": "table"
           }
          ]
         },
         "layout": {
          "annotationdefaults": {
           "arrowcolor": "#2a3f5f",
           "arrowhead": 0,
           "arrowwidth": 1
          },
          "autotypenumbers": "strict",
          "coloraxis": {
           "colorbar": {
            "outlinewidth": 0,
            "ticks": ""
           }
          },
          "colorscale": {
           "diverging": [
            [
             0,
             "#8e0152"
            ],
            [
             0.1,
             "#c51b7d"
            ],
            [
             0.2,
             "#de77ae"
            ],
            [
             0.3,
             "#f1b6da"
            ],
            [
             0.4,
             "#fde0ef"
            ],
            [
             0.5,
             "#f7f7f7"
            ],
            [
             0.6,
             "#e6f5d0"
            ],
            [
             0.7,
             "#b8e186"
            ],
            [
             0.8,
             "#7fbc41"
            ],
            [
             0.9,
             "#4d9221"
            ],
            [
             1,
             "#276419"
            ]
           ],
           "sequential": [
            [
             0,
             "#0d0887"
            ],
            [
             0.1111111111111111,
             "#46039f"
            ],
            [
             0.2222222222222222,
             "#7201a8"
            ],
            [
             0.3333333333333333,
             "#9c179e"
            ],
            [
             0.4444444444444444,
             "#bd3786"
            ],
            [
             0.5555555555555556,
             "#d8576b"
            ],
            [
             0.6666666666666666,
             "#ed7953"
            ],
            [
             0.7777777777777778,
             "#fb9f3a"
            ],
            [
             0.8888888888888888,
             "#fdca26"
            ],
            [
             1,
             "#f0f921"
            ]
           ],
           "sequentialminus": [
            [
             0,
             "#0d0887"
            ],
            [
             0.1111111111111111,
             "#46039f"
            ],
            [
             0.2222222222222222,
             "#7201a8"
            ],
            [
             0.3333333333333333,
             "#9c179e"
            ],
            [
             0.4444444444444444,
             "#bd3786"
            ],
            [
             0.5555555555555556,
             "#d8576b"
            ],
            [
             0.6666666666666666,
             "#ed7953"
            ],
            [
             0.7777777777777778,
             "#fb9f3a"
            ],
            [
             0.8888888888888888,
             "#fdca26"
            ],
            [
             1,
             "#f0f921"
            ]
           ]
          },
          "colorway": [
           "#636efa",
           "#EF553B",
           "#00cc96",
           "#ab63fa",
           "#FFA15A",
           "#19d3f3",
           "#FF6692",
           "#B6E880",
           "#FF97FF",
           "#FECB52"
          ],
          "font": {
           "color": "#2a3f5f"
          },
          "geo": {
           "bgcolor": "white",
           "lakecolor": "white",
           "landcolor": "#E5ECF6",
           "showlakes": true,
           "showland": true,
           "subunitcolor": "white"
          },
          "hoverlabel": {
           "align": "left"
          },
          "hovermode": "closest",
          "mapbox": {
           "style": "light"
          },
          "paper_bgcolor": "white",
          "plot_bgcolor": "#E5ECF6",
          "polar": {
           "angularaxis": {
            "gridcolor": "white",
            "linecolor": "white",
            "ticks": ""
           },
           "bgcolor": "#E5ECF6",
           "radialaxis": {
            "gridcolor": "white",
            "linecolor": "white",
            "ticks": ""
           }
          },
          "scene": {
           "xaxis": {
            "backgroundcolor": "#E5ECF6",
            "gridcolor": "white",
            "gridwidth": 2,
            "linecolor": "white",
            "showbackground": true,
            "ticks": "",
            "zerolinecolor": "white"
           },
           "yaxis": {
            "backgroundcolor": "#E5ECF6",
            "gridcolor": "white",
            "gridwidth": 2,
            "linecolor": "white",
            "showbackground": true,
            "ticks": "",
            "zerolinecolor": "white"
           },
           "zaxis": {
            "backgroundcolor": "#E5ECF6",
            "gridcolor": "white",
            "gridwidth": 2,
            "linecolor": "white",
            "showbackground": true,
            "ticks": "",
            "zerolinecolor": "white"
           }
          },
          "shapedefaults": {
           "line": {
            "color": "#2a3f5f"
           }
          },
          "ternary": {
           "aaxis": {
            "gridcolor": "white",
            "linecolor": "white",
            "ticks": ""
           },
           "baxis": {
            "gridcolor": "white",
            "linecolor": "white",
            "ticks": ""
           },
           "bgcolor": "#E5ECF6",
           "caxis": {
            "gridcolor": "white",
            "linecolor": "white",
            "ticks": ""
           }
          },
          "title": {
           "x": 0.05
          },
          "xaxis": {
           "automargin": true,
           "gridcolor": "white",
           "linecolor": "white",
           "ticks": "",
           "title": {
            "standoff": 15
           },
           "zerolinecolor": "white",
           "zerolinewidth": 2
          },
          "yaxis": {
           "automargin": true,
           "gridcolor": "white",
           "linecolor": "white",
           "ticks": "",
           "title": {
            "standoff": 15
           },
           "zerolinecolor": "white",
           "zerolinewidth": 2
          }
         }
        },
        "xaxis": {
         "linecolor": "black",
         "linewidth": 2,
         "showline": true,
         "title": {
          "text": "Simpson Diversity (standardized)"
         }
        },
        "yaxis": {
         "linecolor": "black",
         "linewidth": 2,
         "showline": true,
         "title": {
          "text": "Weight (standardized)"
         }
        }
       }
      },
      "text/html": [
       "<div>                            <div id=\"aa97f3b7-c098-4526-9135-6be0458fb26f\" class=\"plotly-graph-div\" style=\"height:525px; width:100%;\"></div>            <script type=\"text/javascript\">                require([\"plotly\"], function(Plotly) {                    window.PLOTLYENV=window.PLOTLYENV || {};                                    if (document.getElementById(\"aa97f3b7-c098-4526-9135-6be0458fb26f\")) {                    Plotly.newPlot(                        \"aa97f3b7-c098-4526-9135-6be0458fb26f\",                        [{\"line\": {\"width\": 4}, \"marker\": {\"color\": \"black\", \"line\": {\"width\": 2}, \"size\": 5, \"symbol\": \"x-thin\"}, \"mode\": \"markers\", \"name\": \"Data\", \"type\": \"scatter\", \"x\": [-0.9026300773873834, -0.8686345249814313, -0.7335066559347839, -1.4583075360231048, 1.2772846931523776, -0.8347245402951796, 0.11202867725723276, -0.633054091581371, -0.11008801334392716, -0.3362530823696462, -0.2712189286751812, 1.1632998732478705, 1.611830111812663, -1.2473216798409041, 0.4835003396161585, -0.30369432456309525, 1.6665156770719256, 1.4459404961132112, 1.5292297206738208, -1.177691185409211, 1.5015433158923674, 0.5442816783317241, 1.4180238803125675, 0.5745520714237395, -1.1430062044643539, 0.6348528691945565, -0.5333633026532125, 0.2059925602943582, -0.6664534638170952, 0.6648834982439502, -1.3524208531643425, 1.2204475943046698, -1.0051314883355391, -1.6007214708232722, -1.5293380667758323, -0.5003017165303549, -0.3688953277782169, 0.8433974963458974, -1.6365458639039159, -1.0394706617492873, 1.1058406969164791, 1.333811996766656, 1.1919126134762605, 0.7544976434211609, 0.08054399764674847, -0.936711331984716, 0.4529891670613257, 0.17475283979032707, 0.9899846153445382, 1.019066116292806, 0.017328844339301028, 0.9608246165871697, -0.4673242539163388, -0.434430786624121, -1.3173004835176978, -0.9708784237816921, -0.5997393607148224], \"y\": [0.8434945544537916, 0.8127533846303474, 0.32089466745524714, 1.1509062526882297, 0.5360828562193536, 0.9664592337475664, -0.14022287989640997, 1.212388592335117, 0.07496530886769646, 0.6283063656896852, -0.41689340830740484, 0.4131181769255777, -0.10948171007296681, -0.7243051065418429, -0.5705992574246239, -0.23244638936674158, -1.1546814840700557, 0.7205298751600158, -0.07874054024952257, -0.4783757479542923, -0.878010955659062, -1.646540201245157, 0.9357180639241233, -1.646540201245157, -1.7387637107154887, -1.9846930693030382, 0.3823770071021345, -0.9702344651293936, 1.3968356112757803, -1.8617283900092636, -0.14022287989640997, 0.04422413904425222, 0.5360828562193536, -0.6935639367183987, 0.1671888183380281, 0.6897887053365725, 0.6283063656896852, 1.3353532716288918, 0.4438593467490219, 1.058682743217898, 0.5668240260427967, -0.10948171007296681, 0.2286711579849155, 0.9972004035710106, 0.4438593467490219, 0.7205298751600158, -2.5072929563015838, -1.9846930693030382, -0.10948171007296681, 1.0279415733944537, -1.7080225408920444, 0.25941232780835866, 0.6283063656896852, 0.9972004035710106, -1.2776461633638316, 0.8742357242772347, 1.1201650828647853]}, {\"line\": {\"color\": \"#EF553B\", \"dash\": \"dot\", \"width\": 4}, \"marker\": {\"line\": {\"width\": 2}, \"size\": 5}, \"mode\": \"lines\", \"name\": \"OLS\", \"type\": \"scatter\", \"x\": [-1.6365458965301514, -1.5226472616195679, -1.4087486267089844, -1.2948498725891113, -1.1809511184692383, -1.0670524835586548, -0.9531537890434265, -0.8392550945281982, -0.7253564596176147, -0.6114578247070312, -0.497559130191803, -0.3836604952812195, -0.2697618007659912, -0.15586310625076294, -0.04196441173553467, 0.07193422317504883, 0.1858329176902771, 0.29973167181015015, 0.4136301875114441, 0.5275290012359619, 0.6414276361465454, 0.7553262710571289, 0.8692249059677124, 0.9831237196922302, 1.0970224142074585, 1.2109209299087524, 1.3248196840286255, 1.4387184381484985, 1.552617073059082, 1.6665157079696655], \"y\": [0.24105963110923767, 0.22428260743618011, 0.20750559866428375, 0.190728560090065, 0.17395152151584625, 0.1571744978427887, 0.14039747416973114, 0.12362044304609299, 0.10684341937303543, 0.09006640315055847, 0.07328937202692032, 0.05651235207915306, 0.039735324680805206, 0.022958295419812202, 0.006181266158819199, -0.010595753788948059, -0.027372783049941063, -0.044149819761514664, -0.06092682108283043, -0.07770387083292007, -0.09448088705539703, -0.11125791072845459, -0.12803493440151215, -0.1448119729757309, -0.16158899664878845, -0.17836600542068481, -0.19514304399490356, -0.21192008256912231, -0.22869710624217987, -0.24547411501407623]}, {\"line\": {\"color\": \"#00CC96\", \"dash\": \"dash\", \"width\": 4}, \"marker\": {\"line\": {\"width\": 2}, \"size\": 5}, \"mode\": \"lines\", \"name\": \"2SLS\", \"type\": \"scatter\", \"x\": [-1.6365458965301514, -1.5226472616195679, -1.4087486267089844, -1.2948498725891113, -1.1809511184692383, -1.0670524835586548, -0.9531537890434265, -0.8392550945281982, -0.7253564596176147, -0.6114578247070312, -0.497559130191803, -0.3836604952812195, -0.2697618007659912, -0.15586310625076294, -0.04196441173553467, 0.07193422317504883, 0.1858329176902771, 0.29973167181015015, 0.4136301875114441, 0.5275290012359619, 0.6414276361465454, 0.7553262710571289, 0.8692249059677124, 0.9831237196922302, 1.0970224142074585, 1.2109209299087524, 1.3248196840286255, 1.4387184381484985, 1.552617073059082, 1.6665157079696655], \"y\": [1.9413337707519531, 1.8062227964401245, 1.6711119413375854, 1.5360008478164673, 1.4008897542953491, 1.2657787799835205, 1.130667805671692, 0.9955567121505737, 0.8604457974433899, 0.7253348231315613, 0.5902237892150879, 0.45511287450790405, 0.32000184059143066, 0.18489082157611847, 0.049779802560806274, -0.08533114939928055, -0.22044216096401215, -0.3555532693862915, -0.4906640648841858, -0.6257752180099487, -0.7608861923217773, -0.8959971070289612, -1.031108021736145, -1.1662192344665527, -1.3013302087783813, -1.4364410638809204, -1.5715521574020386, -1.7066632509231567, -1.8417742252349854, -1.9768850803375244]}, {\"line\": {\"color\": \"#AB63FA\", \"dash\": \"dashdot\", \"width\": 4}, \"marker\": {\"line\": {\"width\": 2}, \"size\": 5}, \"mode\": \"lines\", \"name\": \"KIV\", \"type\": \"scatter\", \"x\": [-1.6365458965301514, -1.5226472616195679, -1.4087486267089844, -1.2948498725891113, -1.1809511184692383, -1.0670524835586548, -0.9531537890434265, -0.8392550945281982, -0.7253564596176147, -0.6114578247070312, -0.497559130191803, -0.3836604952812195, -0.2697618007659912, -0.15586310625076294, -0.04196441173553467, 0.07193422317504883, 0.1858329176902771, 0.29973167181015015, 0.4136301875114441, 0.5275290012359619, 0.6414276361465454, 0.7553262710571289, 0.8692249059677124, 0.9831237196922302, 1.0970224142074585, 1.2109209299087524, 1.3248196840286255, 1.4387184381484985, 1.552617073059082, 1.6665157079696655], \"y\": [0.08620562505298021, 0.1155518352558171, 0.15263815412347884, 0.19645164302245993, 0.24412785420391267, 0.29109786217763883, 0.33184346411005966, 0.36109263252844803, 0.3750596623785827, 0.37226775461753137, 0.3536425667331675, 0.32187870617610226, 0.2803976247192824, 0.23237175108588148, 0.18020200287939236, 0.12555658100101644, 0.06977343709660458, 0.014261654519955683, -0.039399571857106803, -0.08972824863662998, -0.1357702915915479, -0.17736673252539148, -0.21500666035380903, -0.24926261506548442, -0.28006301524757804, -0.30618704578412026, -0.3252863473690355, -0.33449511699711804, -0.3314092069144632, -0.3150384202622782]}, {\"line\": {\"color\": \"#FFA15A\", \"width\": 4}, \"marker\": {\"color\": \"#FFA15A\", \"line\": {\"color\": \"#FFA15A\", \"width\": 2}, \"size\": 5}, \"name\": \"GB lower\", \"type\": \"scatter\", \"x\": [-1.2753132581710815, -0.9816677570343018, -0.688022255897522, -0.39437657594680786, -0.10073119401931763, 0.19291448593139648, 0.48655998706817627, 0.780205488204956, 1.0738509893417358, 1.3674964904785156], \"y\": [0.20934076607227325, 0.08623121678829193, -0.07718298584222794, -0.27837473154067993, -0.4408887028694153, -0.6471961736679077, -0.9357966184616089, -1.271626353263855, -1.7137612104415894, -2.240229368209839]}, {\"line\": {\"color\": \"#19D3F3\", \"width\": 4}, \"marker\": {\"color\": \"#19D3F3\", \"line\": {\"color\": \"#19D3F3\", \"width\": 2}, \"size\": 5}, \"name\": \"GB upper\", \"type\": \"scatter\", \"x\": [-1.2753132581710815, -0.9816677570343018, -0.688022255897522, -0.39437657594680786, -0.10073119401931763, 0.19291448593139648, 0.48655998706817627, 0.780205488204956, 1.0738509893417358, 1.3674964904785156], \"y\": [2.030583620071411, 1.6260333061218262, 1.287808895111084, 0.9524120688438416, 0.6720197200775146, 0.4577283561229706, 0.301591694355011, 0.12118107825517654, -0.04830782115459442, -0.17841950058937073]}],                        {\"font\": {\"family\": \"serif\", \"size\": 26}, \"margin\": {\"b\": 0, \"l\": 0, \"r\": 0, \"t\": 0}, \"plot_bgcolor\": \"rgba(0,0,0,0)\", \"template\": {\"data\": {\"bar\": [{\"error_x\": {\"color\": \"#2a3f5f\"}, \"error_y\": {\"color\": \"#2a3f5f\"}, \"marker\": {\"line\": {\"color\": \"#E5ECF6\", \"width\": 0.5}}, \"type\": \"bar\"}], \"barpolar\": [{\"marker\": {\"line\": {\"color\": \"#E5ECF6\", \"width\": 0.5}}, \"type\": \"barpolar\"}], \"carpet\": [{\"aaxis\": {\"endlinecolor\": \"#2a3f5f\", \"gridcolor\": \"white\", \"linecolor\": \"white\", \"minorgridcolor\": \"white\", \"startlinecolor\": \"#2a3f5f\"}, \"baxis\": {\"endlinecolor\": \"#2a3f5f\", \"gridcolor\": \"white\", \"linecolor\": \"white\", \"minorgridcolor\": \"white\", \"startlinecolor\": \"#2a3f5f\"}, \"type\": \"carpet\"}], \"choropleth\": [{\"colorbar\": {\"outlinewidth\": 0, \"ticks\": \"\"}, \"type\": \"choropleth\"}], \"contour\": [{\"colorbar\": {\"outlinewidth\": 0, \"ticks\": \"\"}, \"colorscale\": [[0.0, \"#0d0887\"], [0.1111111111111111, \"#46039f\"], [0.2222222222222222, \"#7201a8\"], [0.3333333333333333, \"#9c179e\"], [0.4444444444444444, \"#bd3786\"], [0.5555555555555556, \"#d8576b\"], [0.6666666666666666, \"#ed7953\"], [0.7777777777777778, \"#fb9f3a\"], [0.8888888888888888, \"#fdca26\"], [1.0, \"#f0f921\"]], \"type\": \"contour\"}], \"contourcarpet\": [{\"colorbar\": {\"outlinewidth\": 0, \"ticks\": \"\"}, \"type\": \"contourcarpet\"}], \"heatmap\": [{\"colorbar\": {\"outlinewidth\": 0, \"ticks\": \"\"}, \"colorscale\": [[0.0, \"#0d0887\"], [0.1111111111111111, \"#46039f\"], [0.2222222222222222, \"#7201a8\"], [0.3333333333333333, \"#9c179e\"], [0.4444444444444444, \"#bd3786\"], [0.5555555555555556, \"#d8576b\"], [0.6666666666666666, \"#ed7953\"], [0.7777777777777778, \"#fb9f3a\"], [0.8888888888888888, \"#fdca26\"], [1.0, \"#f0f921\"]], \"type\": \"heatmap\"}], \"heatmapgl\": [{\"colorbar\": {\"outlinewidth\": 0, \"ticks\": \"\"}, \"colorscale\": [[0.0, \"#0d0887\"], [0.1111111111111111, \"#46039f\"], [0.2222222222222222, \"#7201a8\"], [0.3333333333333333, \"#9c179e\"], [0.4444444444444444, \"#bd3786\"], [0.5555555555555556, \"#d8576b\"], [0.6666666666666666, \"#ed7953\"], [0.7777777777777778, \"#fb9f3a\"], [0.8888888888888888, \"#fdca26\"], [1.0, \"#f0f921\"]], \"type\": \"heatmapgl\"}], \"histogram\": [{\"marker\": {\"colorbar\": {\"outlinewidth\": 0, \"ticks\": \"\"}}, \"type\": \"histogram\"}], \"histogram2d\": [{\"colorbar\": {\"outlinewidth\": 0, \"ticks\": \"\"}, \"colorscale\": [[0.0, \"#0d0887\"], [0.1111111111111111, \"#46039f\"], [0.2222222222222222, \"#7201a8\"], [0.3333333333333333, \"#9c179e\"], [0.4444444444444444, \"#bd3786\"], [0.5555555555555556, \"#d8576b\"], [0.6666666666666666, \"#ed7953\"], [0.7777777777777778, \"#fb9f3a\"], [0.8888888888888888, \"#fdca26\"], [1.0, \"#f0f921\"]], \"type\": \"histogram2d\"}], \"histogram2dcontour\": [{\"colorbar\": {\"outlinewidth\": 0, \"ticks\": \"\"}, \"colorscale\": [[0.0, \"#0d0887\"], [0.1111111111111111, \"#46039f\"], [0.2222222222222222, \"#7201a8\"], [0.3333333333333333, \"#9c179e\"], [0.4444444444444444, \"#bd3786\"], [0.5555555555555556, \"#d8576b\"], [0.6666666666666666, \"#ed7953\"], [0.7777777777777778, \"#fb9f3a\"], [0.8888888888888888, \"#fdca26\"], [1.0, \"#f0f921\"]], \"type\": \"histogram2dcontour\"}], \"mesh3d\": [{\"colorbar\": {\"outlinewidth\": 0, \"ticks\": \"\"}, \"type\": \"mesh3d\"}], \"parcoords\": [{\"line\": {\"colorbar\": {\"outlinewidth\": 0, \"ticks\": \"\"}}, \"type\": \"parcoords\"}], \"pie\": [{\"automargin\": true, \"type\": \"pie\"}], \"scatter\": [{\"marker\": {\"colorbar\": {\"outlinewidth\": 0, \"ticks\": \"\"}}, \"type\": \"scatter\"}], \"scatter3d\": [{\"line\": {\"colorbar\": {\"outlinewidth\": 0, \"ticks\": \"\"}}, \"marker\": {\"colorbar\": {\"outlinewidth\": 0, \"ticks\": \"\"}}, \"type\": \"scatter3d\"}], \"scattercarpet\": [{\"marker\": {\"colorbar\": {\"outlinewidth\": 0, \"ticks\": \"\"}}, \"type\": \"scattercarpet\"}], \"scattergeo\": [{\"marker\": {\"colorbar\": {\"outlinewidth\": 0, \"ticks\": \"\"}}, \"type\": \"scattergeo\"}], \"scattergl\": [{\"marker\": {\"colorbar\": {\"outlinewidth\": 0, \"ticks\": \"\"}}, \"type\": \"scattergl\"}], \"scattermapbox\": [{\"marker\": {\"colorbar\": {\"outlinewidth\": 0, \"ticks\": \"\"}}, \"type\": \"scattermapbox\"}], \"scatterpolar\": [{\"marker\": {\"colorbar\": {\"outlinewidth\": 0, \"ticks\": \"\"}}, \"type\": \"scatterpolar\"}], \"scatterpolargl\": [{\"marker\": {\"colorbar\": {\"outlinewidth\": 0, \"ticks\": \"\"}}, \"type\": \"scatterpolargl\"}], \"scatterternary\": [{\"marker\": {\"colorbar\": {\"outlinewidth\": 0, \"ticks\": \"\"}}, \"type\": \"scatterternary\"}], \"surface\": [{\"colorbar\": {\"outlinewidth\": 0, \"ticks\": \"\"}, \"colorscale\": [[0.0, \"#0d0887\"], [0.1111111111111111, \"#46039f\"], [0.2222222222222222, \"#7201a8\"], [0.3333333333333333, \"#9c179e\"], [0.4444444444444444, \"#bd3786\"], [0.5555555555555556, \"#d8576b\"], [0.6666666666666666, \"#ed7953\"], [0.7777777777777778, \"#fb9f3a\"], [0.8888888888888888, \"#fdca26\"], [1.0, \"#f0f921\"]], \"type\": \"surface\"}], \"table\": [{\"cells\": {\"fill\": {\"color\": \"#EBF0F8\"}, \"line\": {\"color\": \"white\"}}, \"header\": {\"fill\": {\"color\": \"#C8D4E3\"}, \"line\": {\"color\": \"white\"}}, \"type\": \"table\"}]}, \"layout\": {\"annotationdefaults\": {\"arrowcolor\": \"#2a3f5f\", \"arrowhead\": 0, \"arrowwidth\": 1}, \"autotypenumbers\": \"strict\", \"coloraxis\": {\"colorbar\": {\"outlinewidth\": 0, \"ticks\": \"\"}}, \"colorscale\": {\"diverging\": [[0, \"#8e0152\"], [0.1, \"#c51b7d\"], [0.2, \"#de77ae\"], [0.3, \"#f1b6da\"], [0.4, \"#fde0ef\"], [0.5, \"#f7f7f7\"], [0.6, \"#e6f5d0\"], [0.7, \"#b8e186\"], [0.8, \"#7fbc41\"], [0.9, \"#4d9221\"], [1, \"#276419\"]], \"sequential\": [[0.0, \"#0d0887\"], [0.1111111111111111, \"#46039f\"], [0.2222222222222222, \"#7201a8\"], [0.3333333333333333, \"#9c179e\"], [0.4444444444444444, \"#bd3786\"], [0.5555555555555556, \"#d8576b\"], [0.6666666666666666, \"#ed7953\"], [0.7777777777777778, \"#fb9f3a\"], [0.8888888888888888, \"#fdca26\"], [1.0, \"#f0f921\"]], \"sequentialminus\": [[0.0, \"#0d0887\"], [0.1111111111111111, \"#46039f\"], [0.2222222222222222, \"#7201a8\"], [0.3333333333333333, \"#9c179e\"], [0.4444444444444444, \"#bd3786\"], [0.5555555555555556, \"#d8576b\"], [0.6666666666666666, \"#ed7953\"], [0.7777777777777778, \"#fb9f3a\"], [0.8888888888888888, \"#fdca26\"], [1.0, \"#f0f921\"]]}, \"colorway\": [\"#636efa\", \"#EF553B\", \"#00cc96\", \"#ab63fa\", \"#FFA15A\", \"#19d3f3\", \"#FF6692\", \"#B6E880\", \"#FF97FF\", \"#FECB52\"], \"font\": {\"color\": \"#2a3f5f\"}, \"geo\": {\"bgcolor\": \"white\", \"lakecolor\": \"white\", \"landcolor\": \"#E5ECF6\", \"showlakes\": true, \"showland\": true, \"subunitcolor\": \"white\"}, \"hoverlabel\": {\"align\": \"left\"}, \"hovermode\": \"closest\", \"mapbox\": {\"style\": \"light\"}, \"paper_bgcolor\": \"white\", \"plot_bgcolor\": \"#E5ECF6\", \"polar\": {\"angularaxis\": {\"gridcolor\": \"white\", \"linecolor\": \"white\", \"ticks\": \"\"}, \"bgcolor\": \"#E5ECF6\", \"radialaxis\": {\"gridcolor\": \"white\", \"linecolor\": \"white\", \"ticks\": \"\"}}, \"scene\": {\"xaxis\": {\"backgroundcolor\": \"#E5ECF6\", \"gridcolor\": \"white\", \"gridwidth\": 2, \"linecolor\": \"white\", \"showbackground\": true, \"ticks\": \"\", \"zerolinecolor\": \"white\"}, \"yaxis\": {\"backgroundcolor\": \"#E5ECF6\", \"gridcolor\": \"white\", \"gridwidth\": 2, \"linecolor\": \"white\", \"showbackground\": true, \"ticks\": \"\", \"zerolinecolor\": \"white\"}, \"zaxis\": {\"backgroundcolor\": \"#E5ECF6\", \"gridcolor\": \"white\", \"gridwidth\": 2, \"linecolor\": \"white\", \"showbackground\": true, \"ticks\": \"\", \"zerolinecolor\": \"white\"}}, \"shapedefaults\": {\"line\": {\"color\": \"#2a3f5f\"}}, \"ternary\": {\"aaxis\": {\"gridcolor\": \"white\", \"linecolor\": \"white\", \"ticks\": \"\"}, \"baxis\": {\"gridcolor\": \"white\", \"linecolor\": \"white\", \"ticks\": \"\"}, \"bgcolor\": \"#E5ECF6\", \"caxis\": {\"gridcolor\": \"white\", \"linecolor\": \"white\", \"ticks\": \"\"}}, \"title\": {\"x\": 0.05}, \"xaxis\": {\"automargin\": true, \"gridcolor\": \"white\", \"linecolor\": \"white\", \"ticks\": \"\", \"title\": {\"standoff\": 15}, \"zerolinecolor\": \"white\", \"zerolinewidth\": 2}, \"yaxis\": {\"automargin\": true, \"gridcolor\": \"white\", \"linecolor\": \"white\", \"ticks\": \"\", \"title\": {\"standoff\": 15}, \"zerolinecolor\": \"white\", \"zerolinewidth\": 2}}}, \"xaxis\": {\"linecolor\": \"black\", \"linewidth\": 2, \"showline\": true, \"title\": {\"text\": \"Simpson Diversity (standardized)\"}}, \"yaxis\": {\"linecolor\": \"black\", \"linewidth\": 2, \"showline\": true, \"title\": {\"text\": \"Weight (standardized)\"}}},                        {\"responsive\": true}                    ).then(function(){\n",
       "                            \n",
       "var gd = document.getElementById('aa97f3b7-c098-4526-9135-6be0458fb26f');\n",
       "var x = new MutationObserver(function (mutations, observer) {{\n",
       "        var display = window.getComputedStyle(gd).display;\n",
       "        if (!display || display === 'none') {{\n",
       "            console.log([gd, 'removed!']);\n",
       "            Plotly.purge(gd);\n",
       "            observer.disconnect();\n",
       "        }}\n",
       "}});\n",
       "\n",
       "// Listen for the removal of the full notebook cells\n",
       "var notebookContainer = gd.closest('#notebook-container');\n",
       "if (notebookContainer) {{\n",
       "    x.observe(notebookContainer, {childList: true});\n",
       "}}\n",
       "\n",
       "// Listen for the clearing of the current output cell\n",
       "var outputEl = gd.closest('.output');\n",
       "if (outputEl) {{\n",
       "    x.observe(outputEl, {childList: true});\n",
       "}}\n",
       "\n",
       "                        })                };                });            </script>        </div>"
      ]
     },
     "metadata": {},
     "output_type": "display_data"
    }
   ],
   "source": [
    "fig = plot_diversity_methods(x, y, xstar, xstar_bound, ystar_ols, ystar_2sls, ystar_kiv, results)\n",
    "fig.update_layout(xaxis=dict(title=\"Simpson Diversity (standardized)\"))\n",
    "fig.show()\n",
    "fig.write_image(os.path.join(img_path, \"SimpsonDiversity.pdf\"))"
   ]
  },
  {
   "cell_type": "code",
   "execution_count": 52,
   "metadata": {},
   "outputs": [
    {
     "data": {
      "application/vnd.plotly.v1+json": {
       "config": {
        "plotlyServerURL": "https://plot.ly"
       },
       "data": [
        {
         "line": {
          "width": 4
         },
         "marker": {
          "color": "black",
          "line": {
           "width": 2
          },
          "size": 5,
          "symbol": "x-thin"
         },
         "mode": "markers",
         "name": "Data",
         "type": "scatter",
         "x": [
          -0.9026300773873834,
          -0.8686345249814313,
          -0.7335066559347839,
          -1.4583075360231048,
          1.2772846931523776,
          -0.8347245402951796,
          0.11202867725723276,
          -0.633054091581371,
          -0.11008801334392716,
          -0.3362530823696462,
          -0.2712189286751812,
          1.1632998732478705,
          1.611830111812663,
          -1.2473216798409041,
          0.4835003396161585,
          -0.30369432456309525,
          1.6665156770719256,
          1.4459404961132112,
          1.5292297206738208,
          -1.177691185409211,
          1.5015433158923674,
          0.5442816783317241,
          1.4180238803125675,
          0.5745520714237395,
          -1.1430062044643539,
          0.6348528691945565,
          -0.5333633026532125,
          0.2059925602943582,
          -0.6664534638170952,
          0.6648834982439502,
          -1.3524208531643425,
          1.2204475943046698,
          -1.0051314883355391,
          -1.6007214708232722,
          -1.5293380667758323,
          -0.5003017165303549,
          -0.3688953277782169,
          0.8433974963458974,
          -1.6365458639039159,
          -1.0394706617492873,
          1.1058406969164791,
          1.333811996766656,
          1.1919126134762605,
          0.7544976434211609,
          0.08054399764674847,
          -0.936711331984716,
          0.4529891670613257,
          0.17475283979032707,
          0.9899846153445382,
          1.019066116292806,
          0.017328844339301028,
          0.9608246165871697,
          -0.4673242539163388,
          -0.434430786624121,
          -1.3173004835176978,
          -0.9708784237816921,
          -0.5997393607148224
         ],
         "y": [
          0.8434945544537916,
          0.8127533846303474,
          0.32089466745524714,
          1.1509062526882297,
          0.5360828562193536,
          0.9664592337475664,
          -0.14022287989640997,
          1.212388592335117,
          0.07496530886769646,
          0.6283063656896852,
          -0.41689340830740484,
          0.4131181769255777,
          -0.10948171007296681,
          -0.7243051065418429,
          -0.5705992574246239,
          -0.23244638936674158,
          -1.1546814840700557,
          0.7205298751600158,
          -0.07874054024952257,
          -0.4783757479542923,
          -0.878010955659062,
          -1.646540201245157,
          0.9357180639241233,
          -1.646540201245157,
          -1.7387637107154887,
          -1.9846930693030382,
          0.3823770071021345,
          -0.9702344651293936,
          1.3968356112757803,
          -1.8617283900092636,
          -0.14022287989640997,
          0.04422413904425222,
          0.5360828562193536,
          -0.6935639367183987,
          0.1671888183380281,
          0.6897887053365725,
          0.6283063656896852,
          1.3353532716288918,
          0.4438593467490219,
          1.058682743217898,
          0.5668240260427967,
          -0.10948171007296681,
          0.2286711579849155,
          0.9972004035710106,
          0.4438593467490219,
          0.7205298751600158,
          -2.5072929563015838,
          -1.9846930693030382,
          -0.10948171007296681,
          1.0279415733944537,
          -1.7080225408920444,
          0.25941232780835866,
          0.6283063656896852,
          0.9972004035710106,
          -1.2776461633638316,
          0.8742357242772347,
          1.1201650828647853
         ]
        },
        {
         "line": {
          "color": "#EF553B",
          "dash": "dot",
          "width": 4
         },
         "marker": {
          "line": {
           "width": 2
          },
          "size": 5
         },
         "mode": "lines",
         "name": "OLS",
         "type": "scatter",
         "x": [
          -1.6365458965301514,
          -1.5226472616195679,
          -1.4087486267089844,
          -1.2948498725891113,
          -1.1809511184692383,
          -1.0670524835586548,
          -0.9531537890434265,
          -0.8392550945281982,
          -0.7253564596176147,
          -0.6114578247070312,
          -0.497559130191803,
          -0.3836604952812195,
          -0.2697618007659912,
          -0.15586310625076294,
          -0.04196441173553467,
          0.07193422317504883,
          0.1858329176902771,
          0.29973167181015015,
          0.4136301875114441,
          0.5275290012359619,
          0.6414276361465454,
          0.7553262710571289,
          0.8692249059677124,
          0.9831237196922302,
          1.0970224142074585,
          1.2109209299087524,
          1.3248196840286255,
          1.4387184381484985,
          1.552617073059082,
          1.6665157079696655
         ],
         "y": [
          0.24105963110923767,
          0.22428260743618011,
          0.20750559866428375,
          0.190728560090065,
          0.17395152151584625,
          0.1571744978427887,
          0.14039747416973114,
          0.12362044304609299,
          0.10684341937303543,
          0.09006640315055847,
          0.07328937202692032,
          0.05651235207915306,
          0.039735324680805206,
          0.022958295419812202,
          0.006181266158819199,
          -0.010595753788948059,
          -0.027372783049941063,
          -0.044149819761514664,
          -0.06092682108283043,
          -0.07770387083292007,
          -0.09448088705539703,
          -0.11125791072845459,
          -0.12803493440151215,
          -0.1448119729757309,
          -0.16158899664878845,
          -0.17836600542068481,
          -0.19514304399490356,
          -0.21192008256912231,
          -0.22869710624217987,
          -0.24547411501407623
         ]
        },
        {
         "line": {
          "color": "#00CC96",
          "dash": "dash",
          "width": 4
         },
         "marker": {
          "line": {
           "width": 2
          },
          "size": 5
         },
         "mode": "lines",
         "name": "2SLS",
         "type": "scatter",
         "x": [
          -1.6365458965301514,
          -1.5226472616195679,
          -1.4087486267089844,
          -1.2948498725891113,
          -1.1809511184692383,
          -1.0670524835586548,
          -0.9531537890434265,
          -0.8392550945281982,
          -0.7253564596176147,
          -0.6114578247070312,
          -0.497559130191803,
          -0.3836604952812195,
          -0.2697618007659912,
          -0.15586310625076294,
          -0.04196441173553467,
          0.07193422317504883,
          0.1858329176902771,
          0.29973167181015015,
          0.4136301875114441,
          0.5275290012359619,
          0.6414276361465454,
          0.7553262710571289,
          0.8692249059677124,
          0.9831237196922302,
          1.0970224142074585,
          1.2109209299087524,
          1.3248196840286255,
          1.4387184381484985,
          1.552617073059082,
          1.6665157079696655
         ],
         "y": [
          1.9413337707519531,
          1.8062227964401245,
          1.6711119413375854,
          1.5360008478164673,
          1.4008897542953491,
          1.2657787799835205,
          1.130667805671692,
          0.9955567121505737,
          0.8604457974433899,
          0.7253348231315613,
          0.5902237892150879,
          0.45511287450790405,
          0.32000184059143066,
          0.18489082157611847,
          0.049779802560806274,
          -0.08533114939928055,
          -0.22044216096401215,
          -0.3555532693862915,
          -0.4906640648841858,
          -0.6257752180099487,
          -0.7608861923217773,
          -0.8959971070289612,
          -1.031108021736145,
          -1.1662192344665527,
          -1.3013302087783813,
          -1.4364410638809204,
          -1.5715521574020386,
          -1.7066632509231567,
          -1.8417742252349854,
          -1.9768850803375244
         ]
        },
        {
         "line": {
          "color": "#AB63FA",
          "dash": "dashdot",
          "width": 4
         },
         "marker": {
          "line": {
           "width": 2
          },
          "size": 5
         },
         "mode": "lines",
         "name": "KIV",
         "type": "scatter",
         "x": [
          -1.6365458965301514,
          -1.5226472616195679,
          -1.4087486267089844,
          -1.2948498725891113,
          -1.1809511184692383,
          -1.0670524835586548,
          -0.9531537890434265,
          -0.8392550945281982,
          -0.7253564596176147,
          -0.6114578247070312,
          -0.497559130191803,
          -0.3836604952812195,
          -0.2697618007659912,
          -0.15586310625076294,
          -0.04196441173553467,
          0.07193422317504883,
          0.1858329176902771,
          0.29973167181015015,
          0.4136301875114441,
          0.5275290012359619,
          0.6414276361465454,
          0.7553262710571289,
          0.8692249059677124,
          0.9831237196922302,
          1.0970224142074585,
          1.2109209299087524,
          1.3248196840286255,
          1.4387184381484985,
          1.552617073059082,
          1.6665157079696655
         ],
         "y": [
          0.08620562505298021,
          0.1155518352558171,
          0.15263815412347884,
          0.19645164302245993,
          0.24412785420391267,
          0.29109786217763883,
          0.33184346411005966,
          0.36109263252844803,
          0.3750596623785827,
          0.37226775461753137,
          0.3536425667331675,
          0.32187870617610226,
          0.2803976247192824,
          0.23237175108588148,
          0.18020200287939236,
          0.12555658100101644,
          0.06977343709660458,
          0.014261654519955683,
          -0.039399571857106803,
          -0.08972824863662998,
          -0.1357702915915479,
          -0.17736673252539148,
          -0.21500666035380903,
          -0.24926261506548442,
          -0.28006301524757804,
          -0.30618704578412026,
          -0.3252863473690355,
          -0.33449511699711804,
          -0.3314092069144632,
          -0.3150384202622782
         ]
        },
        {
         "line": {
          "color": "#FFA15A",
          "width": 4
         },
         "marker": {
          "color": "#FFA15A",
          "line": {
           "color": "#FFA15A",
           "width": 2
          },
          "size": 5
         },
         "name": "GB lower",
         "type": "scatter",
         "x": [
          -1.2753132581710815,
          -0.9816677570343018,
          -0.688022255897522,
          -0.39437657594680786,
          -0.10073119401931763,
          0.19291448593139648,
          0.48655998706817627,
          0.780205488204956,
          1.0738509893417358,
          1.3674964904785156
         ],
         "y": [
          0.20934076607227325,
          0.08623121678829193,
          -0.07718298584222794,
          -0.27837473154067993,
          -0.4408887028694153,
          -0.6471961736679077,
          -0.9357966184616089,
          -1.271626353263855,
          -1.7137612104415894,
          -2.240229368209839
         ]
        },
        {
         "line": {
          "color": "#19D3F3",
          "width": 4
         },
         "marker": {
          "color": "#19D3F3",
          "line": {
           "color": "#19D3F3",
           "width": 2
          },
          "size": 5
         },
         "name": "GB upper",
         "type": "scatter",
         "x": [
          -1.2753132581710815,
          -0.9816677570343018,
          -0.688022255897522,
          -0.39437657594680786,
          -0.10073119401931763,
          0.19291448593139648,
          0.48655998706817627,
          0.780205488204956,
          1.0738509893417358,
          1.3674964904785156
         ],
         "y": [
          2.030583620071411,
          1.6260333061218262,
          1.287808895111084,
          0.9524120688438416,
          0.6720197200775146,
          0.4577283561229706,
          0.301591694355011,
          0.12118107825517654,
          -0.04830782115459442,
          -0.17841950058937073
         ]
        }
       ],
       "layout": {
        "font": {
         "family": "serif",
         "size": 32
        },
        "height": 500,
        "legend": {
         "orientation": "h",
         "x": 1,
         "xanchor": "right",
         "y": 1.02,
         "yanchor": "bottom"
        },
        "margin": {
         "b": 0,
         "l": 0,
         "r": 0,
         "t": 0
        },
        "plot_bgcolor": "rgba(0,0,0,0)",
        "template": {
         "data": {
          "bar": [
           {
            "error_x": {
             "color": "#2a3f5f"
            },
            "error_y": {
             "color": "#2a3f5f"
            },
            "marker": {
             "line": {
              "color": "#E5ECF6",
              "width": 0.5
             }
            },
            "type": "bar"
           }
          ],
          "barpolar": [
           {
            "marker": {
             "line": {
              "color": "#E5ECF6",
              "width": 0.5
             }
            },
            "type": "barpolar"
           }
          ],
          "carpet": [
           {
            "aaxis": {
             "endlinecolor": "#2a3f5f",
             "gridcolor": "white",
             "linecolor": "white",
             "minorgridcolor": "white",
             "startlinecolor": "#2a3f5f"
            },
            "baxis": {
             "endlinecolor": "#2a3f5f",
             "gridcolor": "white",
             "linecolor": "white",
             "minorgridcolor": "white",
             "startlinecolor": "#2a3f5f"
            },
            "type": "carpet"
           }
          ],
          "choropleth": [
           {
            "colorbar": {
             "outlinewidth": 0,
             "ticks": ""
            },
            "type": "choropleth"
           }
          ],
          "contour": [
           {
            "colorbar": {
             "outlinewidth": 0,
             "ticks": ""
            },
            "colorscale": [
             [
              0,
              "#0d0887"
             ],
             [
              0.1111111111111111,
              "#46039f"
             ],
             [
              0.2222222222222222,
              "#7201a8"
             ],
             [
              0.3333333333333333,
              "#9c179e"
             ],
             [
              0.4444444444444444,
              "#bd3786"
             ],
             [
              0.5555555555555556,
              "#d8576b"
             ],
             [
              0.6666666666666666,
              "#ed7953"
             ],
             [
              0.7777777777777778,
              "#fb9f3a"
             ],
             [
              0.8888888888888888,
              "#fdca26"
             ],
             [
              1,
              "#f0f921"
             ]
            ],
            "type": "contour"
           }
          ],
          "contourcarpet": [
           {
            "colorbar": {
             "outlinewidth": 0,
             "ticks": ""
            },
            "type": "contourcarpet"
           }
          ],
          "heatmap": [
           {
            "colorbar": {
             "outlinewidth": 0,
             "ticks": ""
            },
            "colorscale": [
             [
              0,
              "#0d0887"
             ],
             [
              0.1111111111111111,
              "#46039f"
             ],
             [
              0.2222222222222222,
              "#7201a8"
             ],
             [
              0.3333333333333333,
              "#9c179e"
             ],
             [
              0.4444444444444444,
              "#bd3786"
             ],
             [
              0.5555555555555556,
              "#d8576b"
             ],
             [
              0.6666666666666666,
              "#ed7953"
             ],
             [
              0.7777777777777778,
              "#fb9f3a"
             ],
             [
              0.8888888888888888,
              "#fdca26"
             ],
             [
              1,
              "#f0f921"
             ]
            ],
            "type": "heatmap"
           }
          ],
          "heatmapgl": [
           {
            "colorbar": {
             "outlinewidth": 0,
             "ticks": ""
            },
            "colorscale": [
             [
              0,
              "#0d0887"
             ],
             [
              0.1111111111111111,
              "#46039f"
             ],
             [
              0.2222222222222222,
              "#7201a8"
             ],
             [
              0.3333333333333333,
              "#9c179e"
             ],
             [
              0.4444444444444444,
              "#bd3786"
             ],
             [
              0.5555555555555556,
              "#d8576b"
             ],
             [
              0.6666666666666666,
              "#ed7953"
             ],
             [
              0.7777777777777778,
              "#fb9f3a"
             ],
             [
              0.8888888888888888,
              "#fdca26"
             ],
             [
              1,
              "#f0f921"
             ]
            ],
            "type": "heatmapgl"
           }
          ],
          "histogram": [
           {
            "marker": {
             "colorbar": {
              "outlinewidth": 0,
              "ticks": ""
             }
            },
            "type": "histogram"
           }
          ],
          "histogram2d": [
           {
            "colorbar": {
             "outlinewidth": 0,
             "ticks": ""
            },
            "colorscale": [
             [
              0,
              "#0d0887"
             ],
             [
              0.1111111111111111,
              "#46039f"
             ],
             [
              0.2222222222222222,
              "#7201a8"
             ],
             [
              0.3333333333333333,
              "#9c179e"
             ],
             [
              0.4444444444444444,
              "#bd3786"
             ],
             [
              0.5555555555555556,
              "#d8576b"
             ],
             [
              0.6666666666666666,
              "#ed7953"
             ],
             [
              0.7777777777777778,
              "#fb9f3a"
             ],
             [
              0.8888888888888888,
              "#fdca26"
             ],
             [
              1,
              "#f0f921"
             ]
            ],
            "type": "histogram2d"
           }
          ],
          "histogram2dcontour": [
           {
            "colorbar": {
             "outlinewidth": 0,
             "ticks": ""
            },
            "colorscale": [
             [
              0,
              "#0d0887"
             ],
             [
              0.1111111111111111,
              "#46039f"
             ],
             [
              0.2222222222222222,
              "#7201a8"
             ],
             [
              0.3333333333333333,
              "#9c179e"
             ],
             [
              0.4444444444444444,
              "#bd3786"
             ],
             [
              0.5555555555555556,
              "#d8576b"
             ],
             [
              0.6666666666666666,
              "#ed7953"
             ],
             [
              0.7777777777777778,
              "#fb9f3a"
             ],
             [
              0.8888888888888888,
              "#fdca26"
             ],
             [
              1,
              "#f0f921"
             ]
            ],
            "type": "histogram2dcontour"
           }
          ],
          "mesh3d": [
           {
            "colorbar": {
             "outlinewidth": 0,
             "ticks": ""
            },
            "type": "mesh3d"
           }
          ],
          "parcoords": [
           {
            "line": {
             "colorbar": {
              "outlinewidth": 0,
              "ticks": ""
             }
            },
            "type": "parcoords"
           }
          ],
          "pie": [
           {
            "automargin": true,
            "type": "pie"
           }
          ],
          "scatter": [
           {
            "marker": {
             "colorbar": {
              "outlinewidth": 0,
              "ticks": ""
             }
            },
            "type": "scatter"
           }
          ],
          "scatter3d": [
           {
            "line": {
             "colorbar": {
              "outlinewidth": 0,
              "ticks": ""
             }
            },
            "marker": {
             "colorbar": {
              "outlinewidth": 0,
              "ticks": ""
             }
            },
            "type": "scatter3d"
           }
          ],
          "scattercarpet": [
           {
            "marker": {
             "colorbar": {
              "outlinewidth": 0,
              "ticks": ""
             }
            },
            "type": "scattercarpet"
           }
          ],
          "scattergeo": [
           {
            "marker": {
             "colorbar": {
              "outlinewidth": 0,
              "ticks": ""
             }
            },
            "type": "scattergeo"
           }
          ],
          "scattergl": [
           {
            "marker": {
             "colorbar": {
              "outlinewidth": 0,
              "ticks": ""
             }
            },
            "type": "scattergl"
           }
          ],
          "scattermapbox": [
           {
            "marker": {
             "colorbar": {
              "outlinewidth": 0,
              "ticks": ""
             }
            },
            "type": "scattermapbox"
           }
          ],
          "scatterpolar": [
           {
            "marker": {
             "colorbar": {
              "outlinewidth": 0,
              "ticks": ""
             }
            },
            "type": "scatterpolar"
           }
          ],
          "scatterpolargl": [
           {
            "marker": {
             "colorbar": {
              "outlinewidth": 0,
              "ticks": ""
             }
            },
            "type": "scatterpolargl"
           }
          ],
          "scatterternary": [
           {
            "marker": {
             "colorbar": {
              "outlinewidth": 0,
              "ticks": ""
             }
            },
            "type": "scatterternary"
           }
          ],
          "surface": [
           {
            "colorbar": {
             "outlinewidth": 0,
             "ticks": ""
            },
            "colorscale": [
             [
              0,
              "#0d0887"
             ],
             [
              0.1111111111111111,
              "#46039f"
             ],
             [
              0.2222222222222222,
              "#7201a8"
             ],
             [
              0.3333333333333333,
              "#9c179e"
             ],
             [
              0.4444444444444444,
              "#bd3786"
             ],
             [
              0.5555555555555556,
              "#d8576b"
             ],
             [
              0.6666666666666666,
              "#ed7953"
             ],
             [
              0.7777777777777778,
              "#fb9f3a"
             ],
             [
              0.8888888888888888,
              "#fdca26"
             ],
             [
              1,
              "#f0f921"
             ]
            ],
            "type": "surface"
           }
          ],
          "table": [
           {
            "cells": {
             "fill": {
              "color": "#EBF0F8"
             },
             "line": {
              "color": "white"
             }
            },
            "header": {
             "fill": {
              "color": "#C8D4E3"
             },
             "line": {
              "color": "white"
             }
            },
            "type": "table"
           }
          ]
         },
         "layout": {
          "annotationdefaults": {
           "arrowcolor": "#2a3f5f",
           "arrowhead": 0,
           "arrowwidth": 1
          },
          "autotypenumbers": "strict",
          "coloraxis": {
           "colorbar": {
            "outlinewidth": 0,
            "ticks": ""
           }
          },
          "colorscale": {
           "diverging": [
            [
             0,
             "#8e0152"
            ],
            [
             0.1,
             "#c51b7d"
            ],
            [
             0.2,
             "#de77ae"
            ],
            [
             0.3,
             "#f1b6da"
            ],
            [
             0.4,
             "#fde0ef"
            ],
            [
             0.5,
             "#f7f7f7"
            ],
            [
             0.6,
             "#e6f5d0"
            ],
            [
             0.7,
             "#b8e186"
            ],
            [
             0.8,
             "#7fbc41"
            ],
            [
             0.9,
             "#4d9221"
            ],
            [
             1,
             "#276419"
            ]
           ],
           "sequential": [
            [
             0,
             "#0d0887"
            ],
            [
             0.1111111111111111,
             "#46039f"
            ],
            [
             0.2222222222222222,
             "#7201a8"
            ],
            [
             0.3333333333333333,
             "#9c179e"
            ],
            [
             0.4444444444444444,
             "#bd3786"
            ],
            [
             0.5555555555555556,
             "#d8576b"
            ],
            [
             0.6666666666666666,
             "#ed7953"
            ],
            [
             0.7777777777777778,
             "#fb9f3a"
            ],
            [
             0.8888888888888888,
             "#fdca26"
            ],
            [
             1,
             "#f0f921"
            ]
           ],
           "sequentialminus": [
            [
             0,
             "#0d0887"
            ],
            [
             0.1111111111111111,
             "#46039f"
            ],
            [
             0.2222222222222222,
             "#7201a8"
            ],
            [
             0.3333333333333333,
             "#9c179e"
            ],
            [
             0.4444444444444444,
             "#bd3786"
            ],
            [
             0.5555555555555556,
             "#d8576b"
            ],
            [
             0.6666666666666666,
             "#ed7953"
            ],
            [
             0.7777777777777778,
             "#fb9f3a"
            ],
            [
             0.8888888888888888,
             "#fdca26"
            ],
            [
             1,
             "#f0f921"
            ]
           ]
          },
          "colorway": [
           "#636efa",
           "#EF553B",
           "#00cc96",
           "#ab63fa",
           "#FFA15A",
           "#19d3f3",
           "#FF6692",
           "#B6E880",
           "#FF97FF",
           "#FECB52"
          ],
          "font": {
           "color": "#2a3f5f"
          },
          "geo": {
           "bgcolor": "white",
           "lakecolor": "white",
           "landcolor": "#E5ECF6",
           "showlakes": true,
           "showland": true,
           "subunitcolor": "white"
          },
          "hoverlabel": {
           "align": "left"
          },
          "hovermode": "closest",
          "mapbox": {
           "style": "light"
          },
          "paper_bgcolor": "white",
          "plot_bgcolor": "#E5ECF6",
          "polar": {
           "angularaxis": {
            "gridcolor": "white",
            "linecolor": "white",
            "ticks": ""
           },
           "bgcolor": "#E5ECF6",
           "radialaxis": {
            "gridcolor": "white",
            "linecolor": "white",
            "ticks": ""
           }
          },
          "scene": {
           "xaxis": {
            "backgroundcolor": "#E5ECF6",
            "gridcolor": "white",
            "gridwidth": 2,
            "linecolor": "white",
            "showbackground": true,
            "ticks": "",
            "zerolinecolor": "white"
           },
           "yaxis": {
            "backgroundcolor": "#E5ECF6",
            "gridcolor": "white",
            "gridwidth": 2,
            "linecolor": "white",
            "showbackground": true,
            "ticks": "",
            "zerolinecolor": "white"
           },
           "zaxis": {
            "backgroundcolor": "#E5ECF6",
            "gridcolor": "white",
            "gridwidth": 2,
            "linecolor": "white",
            "showbackground": true,
            "ticks": "",
            "zerolinecolor": "white"
           }
          },
          "shapedefaults": {
           "line": {
            "color": "#2a3f5f"
           }
          },
          "ternary": {
           "aaxis": {
            "gridcolor": "white",
            "linecolor": "white",
            "ticks": ""
           },
           "baxis": {
            "gridcolor": "white",
            "linecolor": "white",
            "ticks": ""
           },
           "bgcolor": "#E5ECF6",
           "caxis": {
            "gridcolor": "white",
            "linecolor": "white",
            "ticks": ""
           }
          },
          "title": {
           "x": 0.05
          },
          "xaxis": {
           "automargin": true,
           "gridcolor": "white",
           "linecolor": "white",
           "ticks": "",
           "title": {
            "standoff": 15
           },
           "zerolinecolor": "white",
           "zerolinewidth": 2
          },
          "yaxis": {
           "automargin": true,
           "gridcolor": "white",
           "linecolor": "white",
           "ticks": "",
           "title": {
            "standoff": 15
           },
           "zerolinecolor": "white",
           "zerolinewidth": 2
          }
         }
        },
        "width": 2000,
        "xaxis": {
         "linecolor": "black",
         "linewidth": 2,
         "showline": true,
         "title": {
          "text": "Simpson Diversity (standardized)"
         }
        },
        "yaxis": {
         "linecolor": "black",
         "linewidth": 2,
         "showline": true,
         "title": {
          "text": "Weight (standardized)"
         }
        }
       }
      },
      "text/html": [
       "<div>                            <div id=\"b979866e-166a-4c2e-9645-644614748ee6\" class=\"plotly-graph-div\" style=\"height:500px; width:2000px;\"></div>            <script type=\"text/javascript\">                require([\"plotly\"], function(Plotly) {                    window.PLOTLYENV=window.PLOTLYENV || {};                                    if (document.getElementById(\"b979866e-166a-4c2e-9645-644614748ee6\")) {                    Plotly.newPlot(                        \"b979866e-166a-4c2e-9645-644614748ee6\",                        [{\"line\": {\"width\": 4}, \"marker\": {\"color\": \"black\", \"line\": {\"width\": 2}, \"size\": 5, \"symbol\": \"x-thin\"}, \"mode\": \"markers\", \"name\": \"Data\", \"type\": \"scatter\", \"x\": [-0.9026300773873834, -0.8686345249814313, -0.7335066559347839, -1.4583075360231048, 1.2772846931523776, -0.8347245402951796, 0.11202867725723276, -0.633054091581371, -0.11008801334392716, -0.3362530823696462, -0.2712189286751812, 1.1632998732478705, 1.611830111812663, -1.2473216798409041, 0.4835003396161585, -0.30369432456309525, 1.6665156770719256, 1.4459404961132112, 1.5292297206738208, -1.177691185409211, 1.5015433158923674, 0.5442816783317241, 1.4180238803125675, 0.5745520714237395, -1.1430062044643539, 0.6348528691945565, -0.5333633026532125, 0.2059925602943582, -0.6664534638170952, 0.6648834982439502, -1.3524208531643425, 1.2204475943046698, -1.0051314883355391, -1.6007214708232722, -1.5293380667758323, -0.5003017165303549, -0.3688953277782169, 0.8433974963458974, -1.6365458639039159, -1.0394706617492873, 1.1058406969164791, 1.333811996766656, 1.1919126134762605, 0.7544976434211609, 0.08054399764674847, -0.936711331984716, 0.4529891670613257, 0.17475283979032707, 0.9899846153445382, 1.019066116292806, 0.017328844339301028, 0.9608246165871697, -0.4673242539163388, -0.434430786624121, -1.3173004835176978, -0.9708784237816921, -0.5997393607148224], \"y\": [0.8434945544537916, 0.8127533846303474, 0.32089466745524714, 1.1509062526882297, 0.5360828562193536, 0.9664592337475664, -0.14022287989640997, 1.212388592335117, 0.07496530886769646, 0.6283063656896852, -0.41689340830740484, 0.4131181769255777, -0.10948171007296681, -0.7243051065418429, -0.5705992574246239, -0.23244638936674158, -1.1546814840700557, 0.7205298751600158, -0.07874054024952257, -0.4783757479542923, -0.878010955659062, -1.646540201245157, 0.9357180639241233, -1.646540201245157, -1.7387637107154887, -1.9846930693030382, 0.3823770071021345, -0.9702344651293936, 1.3968356112757803, -1.8617283900092636, -0.14022287989640997, 0.04422413904425222, 0.5360828562193536, -0.6935639367183987, 0.1671888183380281, 0.6897887053365725, 0.6283063656896852, 1.3353532716288918, 0.4438593467490219, 1.058682743217898, 0.5668240260427967, -0.10948171007296681, 0.2286711579849155, 0.9972004035710106, 0.4438593467490219, 0.7205298751600158, -2.5072929563015838, -1.9846930693030382, -0.10948171007296681, 1.0279415733944537, -1.7080225408920444, 0.25941232780835866, 0.6283063656896852, 0.9972004035710106, -1.2776461633638316, 0.8742357242772347, 1.1201650828647853]}, {\"line\": {\"color\": \"#EF553B\", \"dash\": \"dot\", \"width\": 4}, \"marker\": {\"line\": {\"width\": 2}, \"size\": 5}, \"mode\": \"lines\", \"name\": \"OLS\", \"type\": \"scatter\", \"x\": [-1.6365458965301514, -1.5226472616195679, -1.4087486267089844, -1.2948498725891113, -1.1809511184692383, -1.0670524835586548, -0.9531537890434265, -0.8392550945281982, -0.7253564596176147, -0.6114578247070312, -0.497559130191803, -0.3836604952812195, -0.2697618007659912, -0.15586310625076294, -0.04196441173553467, 0.07193422317504883, 0.1858329176902771, 0.29973167181015015, 0.4136301875114441, 0.5275290012359619, 0.6414276361465454, 0.7553262710571289, 0.8692249059677124, 0.9831237196922302, 1.0970224142074585, 1.2109209299087524, 1.3248196840286255, 1.4387184381484985, 1.552617073059082, 1.6665157079696655], \"y\": [0.24105963110923767, 0.22428260743618011, 0.20750559866428375, 0.190728560090065, 0.17395152151584625, 0.1571744978427887, 0.14039747416973114, 0.12362044304609299, 0.10684341937303543, 0.09006640315055847, 0.07328937202692032, 0.05651235207915306, 0.039735324680805206, 0.022958295419812202, 0.006181266158819199, -0.010595753788948059, -0.027372783049941063, -0.044149819761514664, -0.06092682108283043, -0.07770387083292007, -0.09448088705539703, -0.11125791072845459, -0.12803493440151215, -0.1448119729757309, -0.16158899664878845, -0.17836600542068481, -0.19514304399490356, -0.21192008256912231, -0.22869710624217987, -0.24547411501407623]}, {\"line\": {\"color\": \"#00CC96\", \"dash\": \"dash\", \"width\": 4}, \"marker\": {\"line\": {\"width\": 2}, \"size\": 5}, \"mode\": \"lines\", \"name\": \"2SLS\", \"type\": \"scatter\", \"x\": [-1.6365458965301514, -1.5226472616195679, -1.4087486267089844, -1.2948498725891113, -1.1809511184692383, -1.0670524835586548, -0.9531537890434265, -0.8392550945281982, -0.7253564596176147, -0.6114578247070312, -0.497559130191803, -0.3836604952812195, -0.2697618007659912, -0.15586310625076294, -0.04196441173553467, 0.07193422317504883, 0.1858329176902771, 0.29973167181015015, 0.4136301875114441, 0.5275290012359619, 0.6414276361465454, 0.7553262710571289, 0.8692249059677124, 0.9831237196922302, 1.0970224142074585, 1.2109209299087524, 1.3248196840286255, 1.4387184381484985, 1.552617073059082, 1.6665157079696655], \"y\": [1.9413337707519531, 1.8062227964401245, 1.6711119413375854, 1.5360008478164673, 1.4008897542953491, 1.2657787799835205, 1.130667805671692, 0.9955567121505737, 0.8604457974433899, 0.7253348231315613, 0.5902237892150879, 0.45511287450790405, 0.32000184059143066, 0.18489082157611847, 0.049779802560806274, -0.08533114939928055, -0.22044216096401215, -0.3555532693862915, -0.4906640648841858, -0.6257752180099487, -0.7608861923217773, -0.8959971070289612, -1.031108021736145, -1.1662192344665527, -1.3013302087783813, -1.4364410638809204, -1.5715521574020386, -1.7066632509231567, -1.8417742252349854, -1.9768850803375244]}, {\"line\": {\"color\": \"#AB63FA\", \"dash\": \"dashdot\", \"width\": 4}, \"marker\": {\"line\": {\"width\": 2}, \"size\": 5}, \"mode\": \"lines\", \"name\": \"KIV\", \"type\": \"scatter\", \"x\": [-1.6365458965301514, -1.5226472616195679, -1.4087486267089844, -1.2948498725891113, -1.1809511184692383, -1.0670524835586548, -0.9531537890434265, -0.8392550945281982, -0.7253564596176147, -0.6114578247070312, -0.497559130191803, -0.3836604952812195, -0.2697618007659912, -0.15586310625076294, -0.04196441173553467, 0.07193422317504883, 0.1858329176902771, 0.29973167181015015, 0.4136301875114441, 0.5275290012359619, 0.6414276361465454, 0.7553262710571289, 0.8692249059677124, 0.9831237196922302, 1.0970224142074585, 1.2109209299087524, 1.3248196840286255, 1.4387184381484985, 1.552617073059082, 1.6665157079696655], \"y\": [0.08620562505298021, 0.1155518352558171, 0.15263815412347884, 0.19645164302245993, 0.24412785420391267, 0.29109786217763883, 0.33184346411005966, 0.36109263252844803, 0.3750596623785827, 0.37226775461753137, 0.3536425667331675, 0.32187870617610226, 0.2803976247192824, 0.23237175108588148, 0.18020200287939236, 0.12555658100101644, 0.06977343709660458, 0.014261654519955683, -0.039399571857106803, -0.08972824863662998, -0.1357702915915479, -0.17736673252539148, -0.21500666035380903, -0.24926261506548442, -0.28006301524757804, -0.30618704578412026, -0.3252863473690355, -0.33449511699711804, -0.3314092069144632, -0.3150384202622782]}, {\"line\": {\"color\": \"#FFA15A\", \"width\": 4}, \"marker\": {\"color\": \"#FFA15A\", \"line\": {\"color\": \"#FFA15A\", \"width\": 2}, \"size\": 5}, \"name\": \"GB lower\", \"type\": \"scatter\", \"x\": [-1.2753132581710815, -0.9816677570343018, -0.688022255897522, -0.39437657594680786, -0.10073119401931763, 0.19291448593139648, 0.48655998706817627, 0.780205488204956, 1.0738509893417358, 1.3674964904785156], \"y\": [0.20934076607227325, 0.08623121678829193, -0.07718298584222794, -0.27837473154067993, -0.4408887028694153, -0.6471961736679077, -0.9357966184616089, -1.271626353263855, -1.7137612104415894, -2.240229368209839]}, {\"line\": {\"color\": \"#19D3F3\", \"width\": 4}, \"marker\": {\"color\": \"#19D3F3\", \"line\": {\"color\": \"#19D3F3\", \"width\": 2}, \"size\": 5}, \"name\": \"GB upper\", \"type\": \"scatter\", \"x\": [-1.2753132581710815, -0.9816677570343018, -0.688022255897522, -0.39437657594680786, -0.10073119401931763, 0.19291448593139648, 0.48655998706817627, 0.780205488204956, 1.0738509893417358, 1.3674964904785156], \"y\": [2.030583620071411, 1.6260333061218262, 1.287808895111084, 0.9524120688438416, 0.6720197200775146, 0.4577283561229706, 0.301591694355011, 0.12118107825517654, -0.04830782115459442, -0.17841950058937073]}],                        {\"font\": {\"family\": \"serif\", \"size\": 32}, \"height\": 500, \"legend\": {\"orientation\": \"h\", \"x\": 1, \"xanchor\": \"right\", \"y\": 1.02, \"yanchor\": \"bottom\"}, \"margin\": {\"b\": 0, \"l\": 0, \"r\": 0, \"t\": 0}, \"plot_bgcolor\": \"rgba(0,0,0,0)\", \"template\": {\"data\": {\"bar\": [{\"error_x\": {\"color\": \"#2a3f5f\"}, \"error_y\": {\"color\": \"#2a3f5f\"}, \"marker\": {\"line\": {\"color\": \"#E5ECF6\", \"width\": 0.5}}, \"type\": \"bar\"}], \"barpolar\": [{\"marker\": {\"line\": {\"color\": \"#E5ECF6\", \"width\": 0.5}}, \"type\": \"barpolar\"}], \"carpet\": [{\"aaxis\": {\"endlinecolor\": \"#2a3f5f\", \"gridcolor\": \"white\", \"linecolor\": \"white\", \"minorgridcolor\": \"white\", \"startlinecolor\": \"#2a3f5f\"}, \"baxis\": {\"endlinecolor\": \"#2a3f5f\", \"gridcolor\": \"white\", \"linecolor\": \"white\", \"minorgridcolor\": \"white\", \"startlinecolor\": \"#2a3f5f\"}, \"type\": \"carpet\"}], \"choropleth\": [{\"colorbar\": {\"outlinewidth\": 0, \"ticks\": \"\"}, \"type\": \"choropleth\"}], \"contour\": [{\"colorbar\": {\"outlinewidth\": 0, \"ticks\": \"\"}, \"colorscale\": [[0.0, \"#0d0887\"], [0.1111111111111111, \"#46039f\"], [0.2222222222222222, \"#7201a8\"], [0.3333333333333333, \"#9c179e\"], [0.4444444444444444, \"#bd3786\"], [0.5555555555555556, \"#d8576b\"], [0.6666666666666666, \"#ed7953\"], [0.7777777777777778, \"#fb9f3a\"], [0.8888888888888888, \"#fdca26\"], [1.0, \"#f0f921\"]], \"type\": \"contour\"}], \"contourcarpet\": [{\"colorbar\": {\"outlinewidth\": 0, \"ticks\": \"\"}, \"type\": \"contourcarpet\"}], \"heatmap\": [{\"colorbar\": {\"outlinewidth\": 0, \"ticks\": \"\"}, \"colorscale\": [[0.0, \"#0d0887\"], [0.1111111111111111, \"#46039f\"], [0.2222222222222222, \"#7201a8\"], [0.3333333333333333, \"#9c179e\"], [0.4444444444444444, \"#bd3786\"], [0.5555555555555556, \"#d8576b\"], [0.6666666666666666, \"#ed7953\"], [0.7777777777777778, \"#fb9f3a\"], [0.8888888888888888, \"#fdca26\"], [1.0, \"#f0f921\"]], \"type\": \"heatmap\"}], \"heatmapgl\": [{\"colorbar\": {\"outlinewidth\": 0, \"ticks\": \"\"}, \"colorscale\": [[0.0, \"#0d0887\"], [0.1111111111111111, \"#46039f\"], [0.2222222222222222, \"#7201a8\"], [0.3333333333333333, \"#9c179e\"], [0.4444444444444444, \"#bd3786\"], [0.5555555555555556, \"#d8576b\"], [0.6666666666666666, \"#ed7953\"], [0.7777777777777778, \"#fb9f3a\"], [0.8888888888888888, \"#fdca26\"], [1.0, \"#f0f921\"]], \"type\": \"heatmapgl\"}], \"histogram\": [{\"marker\": {\"colorbar\": {\"outlinewidth\": 0, \"ticks\": \"\"}}, \"type\": \"histogram\"}], \"histogram2d\": [{\"colorbar\": {\"outlinewidth\": 0, \"ticks\": \"\"}, \"colorscale\": [[0.0, \"#0d0887\"], [0.1111111111111111, \"#46039f\"], [0.2222222222222222, \"#7201a8\"], [0.3333333333333333, \"#9c179e\"], [0.4444444444444444, \"#bd3786\"], [0.5555555555555556, \"#d8576b\"], [0.6666666666666666, \"#ed7953\"], [0.7777777777777778, \"#fb9f3a\"], [0.8888888888888888, \"#fdca26\"], [1.0, \"#f0f921\"]], \"type\": \"histogram2d\"}], \"histogram2dcontour\": [{\"colorbar\": {\"outlinewidth\": 0, \"ticks\": \"\"}, \"colorscale\": [[0.0, \"#0d0887\"], [0.1111111111111111, \"#46039f\"], [0.2222222222222222, \"#7201a8\"], [0.3333333333333333, \"#9c179e\"], [0.4444444444444444, \"#bd3786\"], [0.5555555555555556, \"#d8576b\"], [0.6666666666666666, \"#ed7953\"], [0.7777777777777778, \"#fb9f3a\"], [0.8888888888888888, \"#fdca26\"], [1.0, \"#f0f921\"]], \"type\": \"histogram2dcontour\"}], \"mesh3d\": [{\"colorbar\": {\"outlinewidth\": 0, \"ticks\": \"\"}, \"type\": \"mesh3d\"}], \"parcoords\": [{\"line\": {\"colorbar\": {\"outlinewidth\": 0, \"ticks\": \"\"}}, \"type\": \"parcoords\"}], \"pie\": [{\"automargin\": true, \"type\": \"pie\"}], \"scatter\": [{\"marker\": {\"colorbar\": {\"outlinewidth\": 0, \"ticks\": \"\"}}, \"type\": \"scatter\"}], \"scatter3d\": [{\"line\": {\"colorbar\": {\"outlinewidth\": 0, \"ticks\": \"\"}}, \"marker\": {\"colorbar\": {\"outlinewidth\": 0, \"ticks\": \"\"}}, \"type\": \"scatter3d\"}], \"scattercarpet\": [{\"marker\": {\"colorbar\": {\"outlinewidth\": 0, \"ticks\": \"\"}}, \"type\": \"scattercarpet\"}], \"scattergeo\": [{\"marker\": {\"colorbar\": {\"outlinewidth\": 0, \"ticks\": \"\"}}, \"type\": \"scattergeo\"}], \"scattergl\": [{\"marker\": {\"colorbar\": {\"outlinewidth\": 0, \"ticks\": \"\"}}, \"type\": \"scattergl\"}], \"scattermapbox\": [{\"marker\": {\"colorbar\": {\"outlinewidth\": 0, \"ticks\": \"\"}}, \"type\": \"scattermapbox\"}], \"scatterpolar\": [{\"marker\": {\"colorbar\": {\"outlinewidth\": 0, \"ticks\": \"\"}}, \"type\": \"scatterpolar\"}], \"scatterpolargl\": [{\"marker\": {\"colorbar\": {\"outlinewidth\": 0, \"ticks\": \"\"}}, \"type\": \"scatterpolargl\"}], \"scatterternary\": [{\"marker\": {\"colorbar\": {\"outlinewidth\": 0, \"ticks\": \"\"}}, \"type\": \"scatterternary\"}], \"surface\": [{\"colorbar\": {\"outlinewidth\": 0, \"ticks\": \"\"}, \"colorscale\": [[0.0, \"#0d0887\"], [0.1111111111111111, \"#46039f\"], [0.2222222222222222, \"#7201a8\"], [0.3333333333333333, \"#9c179e\"], [0.4444444444444444, \"#bd3786\"], [0.5555555555555556, \"#d8576b\"], [0.6666666666666666, \"#ed7953\"], [0.7777777777777778, \"#fb9f3a\"], [0.8888888888888888, \"#fdca26\"], [1.0, \"#f0f921\"]], \"type\": \"surface\"}], \"table\": [{\"cells\": {\"fill\": {\"color\": \"#EBF0F8\"}, \"line\": {\"color\": \"white\"}}, \"header\": {\"fill\": {\"color\": \"#C8D4E3\"}, \"line\": {\"color\": \"white\"}}, \"type\": \"table\"}]}, \"layout\": {\"annotationdefaults\": {\"arrowcolor\": \"#2a3f5f\", \"arrowhead\": 0, \"arrowwidth\": 1}, \"autotypenumbers\": \"strict\", \"coloraxis\": {\"colorbar\": {\"outlinewidth\": 0, \"ticks\": \"\"}}, \"colorscale\": {\"diverging\": [[0, \"#8e0152\"], [0.1, \"#c51b7d\"], [0.2, \"#de77ae\"], [0.3, \"#f1b6da\"], [0.4, \"#fde0ef\"], [0.5, \"#f7f7f7\"], [0.6, \"#e6f5d0\"], [0.7, \"#b8e186\"], [0.8, \"#7fbc41\"], [0.9, \"#4d9221\"], [1, \"#276419\"]], \"sequential\": [[0.0, \"#0d0887\"], [0.1111111111111111, \"#46039f\"], [0.2222222222222222, \"#7201a8\"], [0.3333333333333333, \"#9c179e\"], [0.4444444444444444, \"#bd3786\"], [0.5555555555555556, \"#d8576b\"], [0.6666666666666666, \"#ed7953\"], [0.7777777777777778, \"#fb9f3a\"], [0.8888888888888888, \"#fdca26\"], [1.0, \"#f0f921\"]], \"sequentialminus\": [[0.0, \"#0d0887\"], [0.1111111111111111, \"#46039f\"], [0.2222222222222222, \"#7201a8\"], [0.3333333333333333, \"#9c179e\"], [0.4444444444444444, \"#bd3786\"], [0.5555555555555556, \"#d8576b\"], [0.6666666666666666, \"#ed7953\"], [0.7777777777777778, \"#fb9f3a\"], [0.8888888888888888, \"#fdca26\"], [1.0, \"#f0f921\"]]}, \"colorway\": [\"#636efa\", \"#EF553B\", \"#00cc96\", \"#ab63fa\", \"#FFA15A\", \"#19d3f3\", \"#FF6692\", \"#B6E880\", \"#FF97FF\", \"#FECB52\"], \"font\": {\"color\": \"#2a3f5f\"}, \"geo\": {\"bgcolor\": \"white\", \"lakecolor\": \"white\", \"landcolor\": \"#E5ECF6\", \"showlakes\": true, \"showland\": true, \"subunitcolor\": \"white\"}, \"hoverlabel\": {\"align\": \"left\"}, \"hovermode\": \"closest\", \"mapbox\": {\"style\": \"light\"}, \"paper_bgcolor\": \"white\", \"plot_bgcolor\": \"#E5ECF6\", \"polar\": {\"angularaxis\": {\"gridcolor\": \"white\", \"linecolor\": \"white\", \"ticks\": \"\"}, \"bgcolor\": \"#E5ECF6\", \"radialaxis\": {\"gridcolor\": \"white\", \"linecolor\": \"white\", \"ticks\": \"\"}}, \"scene\": {\"xaxis\": {\"backgroundcolor\": \"#E5ECF6\", \"gridcolor\": \"white\", \"gridwidth\": 2, \"linecolor\": \"white\", \"showbackground\": true, \"ticks\": \"\", \"zerolinecolor\": \"white\"}, \"yaxis\": {\"backgroundcolor\": \"#E5ECF6\", \"gridcolor\": \"white\", \"gridwidth\": 2, \"linecolor\": \"white\", \"showbackground\": true, \"ticks\": \"\", \"zerolinecolor\": \"white\"}, \"zaxis\": {\"backgroundcolor\": \"#E5ECF6\", \"gridcolor\": \"white\", \"gridwidth\": 2, \"linecolor\": \"white\", \"showbackground\": true, \"ticks\": \"\", \"zerolinecolor\": \"white\"}}, \"shapedefaults\": {\"line\": {\"color\": \"#2a3f5f\"}}, \"ternary\": {\"aaxis\": {\"gridcolor\": \"white\", \"linecolor\": \"white\", \"ticks\": \"\"}, \"baxis\": {\"gridcolor\": \"white\", \"linecolor\": \"white\", \"ticks\": \"\"}, \"bgcolor\": \"#E5ECF6\", \"caxis\": {\"gridcolor\": \"white\", \"linecolor\": \"white\", \"ticks\": \"\"}}, \"title\": {\"x\": 0.05}, \"xaxis\": {\"automargin\": true, \"gridcolor\": \"white\", \"linecolor\": \"white\", \"ticks\": \"\", \"title\": {\"standoff\": 15}, \"zerolinecolor\": \"white\", \"zerolinewidth\": 2}, \"yaxis\": {\"automargin\": true, \"gridcolor\": \"white\", \"linecolor\": \"white\", \"ticks\": \"\", \"title\": {\"standoff\": 15}, \"zerolinecolor\": \"white\", \"zerolinewidth\": 2}}}, \"width\": 2000, \"xaxis\": {\"linecolor\": \"black\", \"linewidth\": 2, \"showline\": true, \"title\": {\"text\": \"Simpson Diversity (standardized)\"}}, \"yaxis\": {\"linecolor\": \"black\", \"linewidth\": 2, \"showline\": true, \"title\": {\"text\": \"Weight (standardized)\"}}},                        {\"responsive\": true}                    ).then(function(){\n",
       "                            \n",
       "var gd = document.getElementById('b979866e-166a-4c2e-9645-644614748ee6');\n",
       "var x = new MutationObserver(function (mutations, observer) {{\n",
       "        var display = window.getComputedStyle(gd).display;\n",
       "        if (!display || display === 'none') {{\n",
       "            console.log([gd, 'removed!']);\n",
       "            Plotly.purge(gd);\n",
       "            observer.disconnect();\n",
       "        }}\n",
       "}});\n",
       "\n",
       "// Listen for the removal of the full notebook cells\n",
       "var notebookContainer = gd.closest('#notebook-container');\n",
       "if (notebookContainer) {{\n",
       "    x.observe(notebookContainer, {childList: true});\n",
       "}}\n",
       "\n",
       "// Listen for the clearing of the current output cell\n",
       "var outputEl = gd.closest('.output');\n",
       "if (outputEl) {{\n",
       "    x.observe(outputEl, {childList: true});\n",
       "}}\n",
       "\n",
       "                        })                };                });            </script>        </div>"
      ]
     },
     "metadata": {},
     "output_type": "display_data"
    }
   ],
   "source": [
    "fig = plot_diversity_methods(x, y, xstar, xstar_bound, ystar_ols, ystar_2sls, ystar_kiv, results)\n",
    "fig.update_layout(xaxis=dict(title=\"Simpson Diversity (standardized)\"))\n",
    "fig.update_layout(legend=dict(orientation=\"h\",\n",
    "                             yanchor=\"bottom\",\n",
    "                             xanchor=\"right\",\n",
    "                             y=1.02,\n",
    "                             x=1))\n",
    "\n",
    "fig.update_layout(width=2000, height=500)\n",
    "fig.show()\n",
    "fig.write_image(os.path.join(img_path, \"SimpsonDiversity.pdf\"))"
   ]
  },
  {
   "cell_type": "code",
   "execution_count": 51,
   "metadata": {},
   "outputs": [
    {
     "data": {
      "application/vnd.plotly.v1+json": {
       "config": {
        "plotlyServerURL": "https://plot.ly"
       },
       "data": [
        {
         "line": {
          "width": 4
         },
         "marker": {
          "color": "black",
          "line": {
           "width": 2
          },
          "size": 5,
          "symbol": "x-thin"
         },
         "mode": "markers",
         "name": "Data",
         "type": "scatter",
         "x": [
          -0.9026300773873834,
          -0.8686345249814313,
          -0.7335066559347839,
          -1.4583075360231048,
          1.2772846931523776,
          -0.8347245402951796,
          0.11202867725723276,
          -0.633054091581371,
          -0.11008801334392716,
          -0.3362530823696462,
          -0.2712189286751812,
          1.1632998732478705,
          1.611830111812663,
          -1.2473216798409041,
          0.4835003396161585,
          -0.30369432456309525,
          1.6665156770719256,
          1.4459404961132112,
          1.5292297206738208,
          -1.177691185409211,
          1.5015433158923674,
          0.5442816783317241,
          1.4180238803125675,
          0.5745520714237395,
          -1.1430062044643539,
          0.6348528691945565,
          -0.5333633026532125,
          0.2059925602943582,
          -0.6664534638170952,
          0.6648834982439502,
          -1.3524208531643425,
          1.2204475943046698,
          -1.0051314883355391,
          -1.6007214708232722,
          -1.5293380667758323,
          -0.5003017165303549,
          -0.3688953277782169,
          0.8433974963458974,
          -1.6365458639039159,
          -1.0394706617492873,
          1.1058406969164791,
          1.333811996766656,
          1.1919126134762605,
          0.7544976434211609,
          0.08054399764674847,
          -0.936711331984716,
          0.4529891670613257,
          0.17475283979032707,
          0.9899846153445382,
          1.019066116292806,
          0.017328844339301028,
          0.9608246165871697,
          -0.4673242539163388,
          -0.434430786624121,
          -1.3173004835176978,
          -0.9708784237816921,
          -0.5997393607148224
         ],
         "y": [
          0.8434945544537916,
          0.8127533846303474,
          0.32089466745524714,
          1.1509062526882297,
          0.5360828562193536,
          0.9664592337475664,
          -0.14022287989640997,
          1.212388592335117,
          0.07496530886769646,
          0.6283063656896852,
          -0.41689340830740484,
          0.4131181769255777,
          -0.10948171007296681,
          -0.7243051065418429,
          -0.5705992574246239,
          -0.23244638936674158,
          -1.1546814840700557,
          0.7205298751600158,
          -0.07874054024952257,
          -0.4783757479542923,
          -0.878010955659062,
          -1.646540201245157,
          0.9357180639241233,
          -1.646540201245157,
          -1.7387637107154887,
          -1.9846930693030382,
          0.3823770071021345,
          -0.9702344651293936,
          1.3968356112757803,
          -1.8617283900092636,
          -0.14022287989640997,
          0.04422413904425222,
          0.5360828562193536,
          -0.6935639367183987,
          0.1671888183380281,
          0.6897887053365725,
          0.6283063656896852,
          1.3353532716288918,
          0.4438593467490219,
          1.058682743217898,
          0.5668240260427967,
          -0.10948171007296681,
          0.2286711579849155,
          0.9972004035710106,
          0.4438593467490219,
          0.7205298751600158,
          -2.5072929563015838,
          -1.9846930693030382,
          -0.10948171007296681,
          1.0279415733944537,
          -1.7080225408920444,
          0.25941232780835866,
          0.6283063656896852,
          0.9972004035710106,
          -1.2776461633638316,
          0.8742357242772347,
          1.1201650828647853
         ]
        },
        {
         "line": {
          "color": "#EF553B",
          "dash": "dot",
          "width": 4
         },
         "marker": {
          "line": {
           "width": 2
          },
          "size": 5
         },
         "mode": "lines",
         "name": "OLS",
         "type": "scatter",
         "x": [
          -1.6365458965301514,
          -1.5226472616195679,
          -1.4087486267089844,
          -1.2948498725891113,
          -1.1809511184692383,
          -1.0670524835586548,
          -0.9531537890434265,
          -0.8392550945281982,
          -0.7253564596176147,
          -0.6114578247070312,
          -0.497559130191803,
          -0.3836604952812195,
          -0.2697618007659912,
          -0.15586310625076294,
          -0.04196441173553467,
          0.07193422317504883,
          0.1858329176902771,
          0.29973167181015015,
          0.4136301875114441,
          0.5275290012359619,
          0.6414276361465454,
          0.7553262710571289,
          0.8692249059677124,
          0.9831237196922302,
          1.0970224142074585,
          1.2109209299087524,
          1.3248196840286255,
          1.4387184381484985,
          1.552617073059082,
          1.6665157079696655
         ],
         "y": [
          0.24105963110923767,
          0.22428260743618011,
          0.20750559866428375,
          0.190728560090065,
          0.17395152151584625,
          0.1571744978427887,
          0.14039747416973114,
          0.12362044304609299,
          0.10684341937303543,
          0.09006640315055847,
          0.07328937202692032,
          0.05651235207915306,
          0.039735324680805206,
          0.022958295419812202,
          0.006181266158819199,
          -0.010595753788948059,
          -0.027372783049941063,
          -0.044149819761514664,
          -0.06092682108283043,
          -0.07770387083292007,
          -0.09448088705539703,
          -0.11125791072845459,
          -0.12803493440151215,
          -0.1448119729757309,
          -0.16158899664878845,
          -0.17836600542068481,
          -0.19514304399490356,
          -0.21192008256912231,
          -0.22869710624217987,
          -0.24547411501407623
         ]
        },
        {
         "line": {
          "color": "#00CC96",
          "dash": "dash",
          "width": 4
         },
         "marker": {
          "line": {
           "width": 2
          },
          "size": 5
         },
         "mode": "lines",
         "name": "2SLS",
         "type": "scatter",
         "x": [
          -1.6365458965301514,
          -1.5226472616195679,
          -1.4087486267089844,
          -1.2948498725891113,
          -1.1809511184692383,
          -1.0670524835586548,
          -0.9531537890434265,
          -0.8392550945281982,
          -0.7253564596176147,
          -0.6114578247070312,
          -0.497559130191803,
          -0.3836604952812195,
          -0.2697618007659912,
          -0.15586310625076294,
          -0.04196441173553467,
          0.07193422317504883,
          0.1858329176902771,
          0.29973167181015015,
          0.4136301875114441,
          0.5275290012359619,
          0.6414276361465454,
          0.7553262710571289,
          0.8692249059677124,
          0.9831237196922302,
          1.0970224142074585,
          1.2109209299087524,
          1.3248196840286255,
          1.4387184381484985,
          1.552617073059082,
          1.6665157079696655
         ],
         "y": [
          1.9413337707519531,
          1.8062227964401245,
          1.6711119413375854,
          1.5360008478164673,
          1.4008897542953491,
          1.2657787799835205,
          1.130667805671692,
          0.9955567121505737,
          0.8604457974433899,
          0.7253348231315613,
          0.5902237892150879,
          0.45511287450790405,
          0.32000184059143066,
          0.18489082157611847,
          0.049779802560806274,
          -0.08533114939928055,
          -0.22044216096401215,
          -0.3555532693862915,
          -0.4906640648841858,
          -0.6257752180099487,
          -0.7608861923217773,
          -0.8959971070289612,
          -1.031108021736145,
          -1.1662192344665527,
          -1.3013302087783813,
          -1.4364410638809204,
          -1.5715521574020386,
          -1.7066632509231567,
          -1.8417742252349854,
          -1.9768850803375244
         ]
        },
        {
         "line": {
          "color": "#AB63FA",
          "dash": "dashdot",
          "width": 4
         },
         "marker": {
          "line": {
           "width": 2
          },
          "size": 5
         },
         "mode": "lines",
         "name": "KIV",
         "type": "scatter",
         "x": [
          -1.6365458965301514,
          -1.5226472616195679,
          -1.4087486267089844,
          -1.2948498725891113,
          -1.1809511184692383,
          -1.0670524835586548,
          -0.9531537890434265,
          -0.8392550945281982,
          -0.7253564596176147,
          -0.6114578247070312,
          -0.497559130191803,
          -0.3836604952812195,
          -0.2697618007659912,
          -0.15586310625076294,
          -0.04196441173553467,
          0.07193422317504883,
          0.1858329176902771,
          0.29973167181015015,
          0.4136301875114441,
          0.5275290012359619,
          0.6414276361465454,
          0.7553262710571289,
          0.8692249059677124,
          0.9831237196922302,
          1.0970224142074585,
          1.2109209299087524,
          1.3248196840286255,
          1.4387184381484985,
          1.552617073059082,
          1.6665157079696655
         ],
         "y": [
          0.08620562505298021,
          0.1155518352558171,
          0.15263815412347884,
          0.19645164302245993,
          0.24412785420391267,
          0.29109786217763883,
          0.33184346411005966,
          0.36109263252844803,
          0.3750596623785827,
          0.37226775461753137,
          0.3536425667331675,
          0.32187870617610226,
          0.2803976247192824,
          0.23237175108588148,
          0.18020200287939236,
          0.12555658100101644,
          0.06977343709660458,
          0.014261654519955683,
          -0.039399571857106803,
          -0.08972824863662998,
          -0.1357702915915479,
          -0.17736673252539148,
          -0.21500666035380903,
          -0.24926261506548442,
          -0.28006301524757804,
          -0.30618704578412026,
          -0.3252863473690355,
          -0.33449511699711804,
          -0.3314092069144632,
          -0.3150384202622782
         ]
        },
        {
         "line": {
          "color": "#FFA15A",
          "width": 4
         },
         "marker": {
          "color": "#FFA15A",
          "line": {
           "color": "#FFA15A",
           "width": 2
          },
          "size": 5
         },
         "name": "GB lower",
         "type": "scatter",
         "x": [
          -1.2753132581710815,
          -0.9816677570343018,
          -0.688022255897522,
          -0.39437657594680786,
          -0.10073119401931763,
          0.19291448593139648,
          0.48655998706817627,
          0.780205488204956,
          1.0738509893417358,
          1.3674964904785156
         ],
         "y": [
          0.20934076607227325,
          0.08623121678829193,
          -0.07718298584222794,
          -0.27837473154067993,
          -0.4408887028694153,
          -0.6471961736679077,
          -0.9357966184616089,
          -1.271626353263855,
          -1.7137612104415894,
          -2.240229368209839
         ]
        },
        {
         "line": {
          "color": "#19D3F3",
          "width": 4
         },
         "marker": {
          "color": "#19D3F3",
          "line": {
           "color": "#19D3F3",
           "width": 2
          },
          "size": 5
         },
         "name": "GB upper",
         "type": "scatter",
         "x": [
          -1.2753132581710815,
          -0.9816677570343018,
          -0.688022255897522,
          -0.39437657594680786,
          -0.10073119401931763,
          0.19291448593139648,
          0.48655998706817627,
          0.780205488204956,
          1.0738509893417358,
          1.3674964904785156
         ],
         "y": [
          2.030583620071411,
          1.6260333061218262,
          1.287808895111084,
          0.9524120688438416,
          0.6720197200775146,
          0.4577283561229706,
          0.301591694355011,
          0.12118107825517654,
          -0.04830782115459442,
          -0.17841950058937073
         ]
        }
       ],
       "layout": {
        "font": {
         "family": "serif",
         "size": 32
        },
        "margin": {
         "b": 0,
         "l": 0,
         "r": 0,
         "t": 0
        },
        "plot_bgcolor": "rgba(0,0,0,0)",
        "showlegend": false,
        "template": {
         "data": {
          "bar": [
           {
            "error_x": {
             "color": "#2a3f5f"
            },
            "error_y": {
             "color": "#2a3f5f"
            },
            "marker": {
             "line": {
              "color": "#E5ECF6",
              "width": 0.5
             }
            },
            "type": "bar"
           }
          ],
          "barpolar": [
           {
            "marker": {
             "line": {
              "color": "#E5ECF6",
              "width": 0.5
             }
            },
            "type": "barpolar"
           }
          ],
          "carpet": [
           {
            "aaxis": {
             "endlinecolor": "#2a3f5f",
             "gridcolor": "white",
             "linecolor": "white",
             "minorgridcolor": "white",
             "startlinecolor": "#2a3f5f"
            },
            "baxis": {
             "endlinecolor": "#2a3f5f",
             "gridcolor": "white",
             "linecolor": "white",
             "minorgridcolor": "white",
             "startlinecolor": "#2a3f5f"
            },
            "type": "carpet"
           }
          ],
          "choropleth": [
           {
            "colorbar": {
             "outlinewidth": 0,
             "ticks": ""
            },
            "type": "choropleth"
           }
          ],
          "contour": [
           {
            "colorbar": {
             "outlinewidth": 0,
             "ticks": ""
            },
            "colorscale": [
             [
              0,
              "#0d0887"
             ],
             [
              0.1111111111111111,
              "#46039f"
             ],
             [
              0.2222222222222222,
              "#7201a8"
             ],
             [
              0.3333333333333333,
              "#9c179e"
             ],
             [
              0.4444444444444444,
              "#bd3786"
             ],
             [
              0.5555555555555556,
              "#d8576b"
             ],
             [
              0.6666666666666666,
              "#ed7953"
             ],
             [
              0.7777777777777778,
              "#fb9f3a"
             ],
             [
              0.8888888888888888,
              "#fdca26"
             ],
             [
              1,
              "#f0f921"
             ]
            ],
            "type": "contour"
           }
          ],
          "contourcarpet": [
           {
            "colorbar": {
             "outlinewidth": 0,
             "ticks": ""
            },
            "type": "contourcarpet"
           }
          ],
          "heatmap": [
           {
            "colorbar": {
             "outlinewidth": 0,
             "ticks": ""
            },
            "colorscale": [
             [
              0,
              "#0d0887"
             ],
             [
              0.1111111111111111,
              "#46039f"
             ],
             [
              0.2222222222222222,
              "#7201a8"
             ],
             [
              0.3333333333333333,
              "#9c179e"
             ],
             [
              0.4444444444444444,
              "#bd3786"
             ],
             [
              0.5555555555555556,
              "#d8576b"
             ],
             [
              0.6666666666666666,
              "#ed7953"
             ],
             [
              0.7777777777777778,
              "#fb9f3a"
             ],
             [
              0.8888888888888888,
              "#fdca26"
             ],
             [
              1,
              "#f0f921"
             ]
            ],
            "type": "heatmap"
           }
          ],
          "heatmapgl": [
           {
            "colorbar": {
             "outlinewidth": 0,
             "ticks": ""
            },
            "colorscale": [
             [
              0,
              "#0d0887"
             ],
             [
              0.1111111111111111,
              "#46039f"
             ],
             [
              0.2222222222222222,
              "#7201a8"
             ],
             [
              0.3333333333333333,
              "#9c179e"
             ],
             [
              0.4444444444444444,
              "#bd3786"
             ],
             [
              0.5555555555555556,
              "#d8576b"
             ],
             [
              0.6666666666666666,
              "#ed7953"
             ],
             [
              0.7777777777777778,
              "#fb9f3a"
             ],
             [
              0.8888888888888888,
              "#fdca26"
             ],
             [
              1,
              "#f0f921"
             ]
            ],
            "type": "heatmapgl"
           }
          ],
          "histogram": [
           {
            "marker": {
             "colorbar": {
              "outlinewidth": 0,
              "ticks": ""
             }
            },
            "type": "histogram"
           }
          ],
          "histogram2d": [
           {
            "colorbar": {
             "outlinewidth": 0,
             "ticks": ""
            },
            "colorscale": [
             [
              0,
              "#0d0887"
             ],
             [
              0.1111111111111111,
              "#46039f"
             ],
             [
              0.2222222222222222,
              "#7201a8"
             ],
             [
              0.3333333333333333,
              "#9c179e"
             ],
             [
              0.4444444444444444,
              "#bd3786"
             ],
             [
              0.5555555555555556,
              "#d8576b"
             ],
             [
              0.6666666666666666,
              "#ed7953"
             ],
             [
              0.7777777777777778,
              "#fb9f3a"
             ],
             [
              0.8888888888888888,
              "#fdca26"
             ],
             [
              1,
              "#f0f921"
             ]
            ],
            "type": "histogram2d"
           }
          ],
          "histogram2dcontour": [
           {
            "colorbar": {
             "outlinewidth": 0,
             "ticks": ""
            },
            "colorscale": [
             [
              0,
              "#0d0887"
             ],
             [
              0.1111111111111111,
              "#46039f"
             ],
             [
              0.2222222222222222,
              "#7201a8"
             ],
             [
              0.3333333333333333,
              "#9c179e"
             ],
             [
              0.4444444444444444,
              "#bd3786"
             ],
             [
              0.5555555555555556,
              "#d8576b"
             ],
             [
              0.6666666666666666,
              "#ed7953"
             ],
             [
              0.7777777777777778,
              "#fb9f3a"
             ],
             [
              0.8888888888888888,
              "#fdca26"
             ],
             [
              1,
              "#f0f921"
             ]
            ],
            "type": "histogram2dcontour"
           }
          ],
          "mesh3d": [
           {
            "colorbar": {
             "outlinewidth": 0,
             "ticks": ""
            },
            "type": "mesh3d"
           }
          ],
          "parcoords": [
           {
            "line": {
             "colorbar": {
              "outlinewidth": 0,
              "ticks": ""
             }
            },
            "type": "parcoords"
           }
          ],
          "pie": [
           {
            "automargin": true,
            "type": "pie"
           }
          ],
          "scatter": [
           {
            "marker": {
             "colorbar": {
              "outlinewidth": 0,
              "ticks": ""
             }
            },
            "type": "scatter"
           }
          ],
          "scatter3d": [
           {
            "line": {
             "colorbar": {
              "outlinewidth": 0,
              "ticks": ""
             }
            },
            "marker": {
             "colorbar": {
              "outlinewidth": 0,
              "ticks": ""
             }
            },
            "type": "scatter3d"
           }
          ],
          "scattercarpet": [
           {
            "marker": {
             "colorbar": {
              "outlinewidth": 0,
              "ticks": ""
             }
            },
            "type": "scattercarpet"
           }
          ],
          "scattergeo": [
           {
            "marker": {
             "colorbar": {
              "outlinewidth": 0,
              "ticks": ""
             }
            },
            "type": "scattergeo"
           }
          ],
          "scattergl": [
           {
            "marker": {
             "colorbar": {
              "outlinewidth": 0,
              "ticks": ""
             }
            },
            "type": "scattergl"
           }
          ],
          "scattermapbox": [
           {
            "marker": {
             "colorbar": {
              "outlinewidth": 0,
              "ticks": ""
             }
            },
            "type": "scattermapbox"
           }
          ],
          "scatterpolar": [
           {
            "marker": {
             "colorbar": {
              "outlinewidth": 0,
              "ticks": ""
             }
            },
            "type": "scatterpolar"
           }
          ],
          "scatterpolargl": [
           {
            "marker": {
             "colorbar": {
              "outlinewidth": 0,
              "ticks": ""
             }
            },
            "type": "scatterpolargl"
           }
          ],
          "scatterternary": [
           {
            "marker": {
             "colorbar": {
              "outlinewidth": 0,
              "ticks": ""
             }
            },
            "type": "scatterternary"
           }
          ],
          "surface": [
           {
            "colorbar": {
             "outlinewidth": 0,
             "ticks": ""
            },
            "colorscale": [
             [
              0,
              "#0d0887"
             ],
             [
              0.1111111111111111,
              "#46039f"
             ],
             [
              0.2222222222222222,
              "#7201a8"
             ],
             [
              0.3333333333333333,
              "#9c179e"
             ],
             [
              0.4444444444444444,
              "#bd3786"
             ],
             [
              0.5555555555555556,
              "#d8576b"
             ],
             [
              0.6666666666666666,
              "#ed7953"
             ],
             [
              0.7777777777777778,
              "#fb9f3a"
             ],
             [
              0.8888888888888888,
              "#fdca26"
             ],
             [
              1,
              "#f0f921"
             ]
            ],
            "type": "surface"
           }
          ],
          "table": [
           {
            "cells": {
             "fill": {
              "color": "#EBF0F8"
             },
             "line": {
              "color": "white"
             }
            },
            "header": {
             "fill": {
              "color": "#C8D4E3"
             },
             "line": {
              "color": "white"
             }
            },
            "type": "table"
           }
          ]
         },
         "layout": {
          "annotationdefaults": {
           "arrowcolor": "#2a3f5f",
           "arrowhead": 0,
           "arrowwidth": 1
          },
          "autotypenumbers": "strict",
          "coloraxis": {
           "colorbar": {
            "outlinewidth": 0,
            "ticks": ""
           }
          },
          "colorscale": {
           "diverging": [
            [
             0,
             "#8e0152"
            ],
            [
             0.1,
             "#c51b7d"
            ],
            [
             0.2,
             "#de77ae"
            ],
            [
             0.3,
             "#f1b6da"
            ],
            [
             0.4,
             "#fde0ef"
            ],
            [
             0.5,
             "#f7f7f7"
            ],
            [
             0.6,
             "#e6f5d0"
            ],
            [
             0.7,
             "#b8e186"
            ],
            [
             0.8,
             "#7fbc41"
            ],
            [
             0.9,
             "#4d9221"
            ],
            [
             1,
             "#276419"
            ]
           ],
           "sequential": [
            [
             0,
             "#0d0887"
            ],
            [
             0.1111111111111111,
             "#46039f"
            ],
            [
             0.2222222222222222,
             "#7201a8"
            ],
            [
             0.3333333333333333,
             "#9c179e"
            ],
            [
             0.4444444444444444,
             "#bd3786"
            ],
            [
             0.5555555555555556,
             "#d8576b"
            ],
            [
             0.6666666666666666,
             "#ed7953"
            ],
            [
             0.7777777777777778,
             "#fb9f3a"
            ],
            [
             0.8888888888888888,
             "#fdca26"
            ],
            [
             1,
             "#f0f921"
            ]
           ],
           "sequentialminus": [
            [
             0,
             "#0d0887"
            ],
            [
             0.1111111111111111,
             "#46039f"
            ],
            [
             0.2222222222222222,
             "#7201a8"
            ],
            [
             0.3333333333333333,
             "#9c179e"
            ],
            [
             0.4444444444444444,
             "#bd3786"
            ],
            [
             0.5555555555555556,
             "#d8576b"
            ],
            [
             0.6666666666666666,
             "#ed7953"
            ],
            [
             0.7777777777777778,
             "#fb9f3a"
            ],
            [
             0.8888888888888888,
             "#fdca26"
            ],
            [
             1,
             "#f0f921"
            ]
           ]
          },
          "colorway": [
           "#636efa",
           "#EF553B",
           "#00cc96",
           "#ab63fa",
           "#FFA15A",
           "#19d3f3",
           "#FF6692",
           "#B6E880",
           "#FF97FF",
           "#FECB52"
          ],
          "font": {
           "color": "#2a3f5f"
          },
          "geo": {
           "bgcolor": "white",
           "lakecolor": "white",
           "landcolor": "#E5ECF6",
           "showlakes": true,
           "showland": true,
           "subunitcolor": "white"
          },
          "hoverlabel": {
           "align": "left"
          },
          "hovermode": "closest",
          "mapbox": {
           "style": "light"
          },
          "paper_bgcolor": "white",
          "plot_bgcolor": "#E5ECF6",
          "polar": {
           "angularaxis": {
            "gridcolor": "white",
            "linecolor": "white",
            "ticks": ""
           },
           "bgcolor": "#E5ECF6",
           "radialaxis": {
            "gridcolor": "white",
            "linecolor": "white",
            "ticks": ""
           }
          },
          "scene": {
           "xaxis": {
            "backgroundcolor": "#E5ECF6",
            "gridcolor": "white",
            "gridwidth": 2,
            "linecolor": "white",
            "showbackground": true,
            "ticks": "",
            "zerolinecolor": "white"
           },
           "yaxis": {
            "backgroundcolor": "#E5ECF6",
            "gridcolor": "white",
            "gridwidth": 2,
            "linecolor": "white",
            "showbackground": true,
            "ticks": "",
            "zerolinecolor": "white"
           },
           "zaxis": {
            "backgroundcolor": "#E5ECF6",
            "gridcolor": "white",
            "gridwidth": 2,
            "linecolor": "white",
            "showbackground": true,
            "ticks": "",
            "zerolinecolor": "white"
           }
          },
          "shapedefaults": {
           "line": {
            "color": "#2a3f5f"
           }
          },
          "ternary": {
           "aaxis": {
            "gridcolor": "white",
            "linecolor": "white",
            "ticks": ""
           },
           "baxis": {
            "gridcolor": "white",
            "linecolor": "white",
            "ticks": ""
           },
           "bgcolor": "#E5ECF6",
           "caxis": {
            "gridcolor": "white",
            "linecolor": "white",
            "ticks": ""
           }
          },
          "title": {
           "x": 0.05
          },
          "xaxis": {
           "automargin": true,
           "gridcolor": "white",
           "linecolor": "white",
           "ticks": "",
           "title": {
            "standoff": 15
           },
           "zerolinecolor": "white",
           "zerolinewidth": 2
          },
          "yaxis": {
           "automargin": true,
           "gridcolor": "white",
           "linecolor": "white",
           "ticks": "",
           "title": {
            "standoff": 15
           },
           "zerolinecolor": "white",
           "zerolinewidth": 2
          }
         }
        },
        "xaxis": {
         "linecolor": "black",
         "linewidth": 2,
         "showline": true,
         "title": {
          "text": "Simpson Diversity (standardized)"
         }
        },
        "yaxis": {
         "linecolor": "black",
         "linewidth": 2,
         "showline": true,
         "title": {
          "text": "Weight (standardized)"
         }
        }
       }
      },
      "text/html": [
       "<div>                            <div id=\"1b120696-df14-43a2-943b-dbdf142e4ab6\" class=\"plotly-graph-div\" style=\"height:525px; width:100%;\"></div>            <script type=\"text/javascript\">                require([\"plotly\"], function(Plotly) {                    window.PLOTLYENV=window.PLOTLYENV || {};                                    if (document.getElementById(\"1b120696-df14-43a2-943b-dbdf142e4ab6\")) {                    Plotly.newPlot(                        \"1b120696-df14-43a2-943b-dbdf142e4ab6\",                        [{\"line\": {\"width\": 4}, \"marker\": {\"color\": \"black\", \"line\": {\"width\": 2}, \"size\": 5, \"symbol\": \"x-thin\"}, \"mode\": \"markers\", \"name\": \"Data\", \"type\": \"scatter\", \"x\": [-0.9026300773873834, -0.8686345249814313, -0.7335066559347839, -1.4583075360231048, 1.2772846931523776, -0.8347245402951796, 0.11202867725723276, -0.633054091581371, -0.11008801334392716, -0.3362530823696462, -0.2712189286751812, 1.1632998732478705, 1.611830111812663, -1.2473216798409041, 0.4835003396161585, -0.30369432456309525, 1.6665156770719256, 1.4459404961132112, 1.5292297206738208, -1.177691185409211, 1.5015433158923674, 0.5442816783317241, 1.4180238803125675, 0.5745520714237395, -1.1430062044643539, 0.6348528691945565, -0.5333633026532125, 0.2059925602943582, -0.6664534638170952, 0.6648834982439502, -1.3524208531643425, 1.2204475943046698, -1.0051314883355391, -1.6007214708232722, -1.5293380667758323, -0.5003017165303549, -0.3688953277782169, 0.8433974963458974, -1.6365458639039159, -1.0394706617492873, 1.1058406969164791, 1.333811996766656, 1.1919126134762605, 0.7544976434211609, 0.08054399764674847, -0.936711331984716, 0.4529891670613257, 0.17475283979032707, 0.9899846153445382, 1.019066116292806, 0.017328844339301028, 0.9608246165871697, -0.4673242539163388, -0.434430786624121, -1.3173004835176978, -0.9708784237816921, -0.5997393607148224], \"y\": [0.8434945544537916, 0.8127533846303474, 0.32089466745524714, 1.1509062526882297, 0.5360828562193536, 0.9664592337475664, -0.14022287989640997, 1.212388592335117, 0.07496530886769646, 0.6283063656896852, -0.41689340830740484, 0.4131181769255777, -0.10948171007296681, -0.7243051065418429, -0.5705992574246239, -0.23244638936674158, -1.1546814840700557, 0.7205298751600158, -0.07874054024952257, -0.4783757479542923, -0.878010955659062, -1.646540201245157, 0.9357180639241233, -1.646540201245157, -1.7387637107154887, -1.9846930693030382, 0.3823770071021345, -0.9702344651293936, 1.3968356112757803, -1.8617283900092636, -0.14022287989640997, 0.04422413904425222, 0.5360828562193536, -0.6935639367183987, 0.1671888183380281, 0.6897887053365725, 0.6283063656896852, 1.3353532716288918, 0.4438593467490219, 1.058682743217898, 0.5668240260427967, -0.10948171007296681, 0.2286711579849155, 0.9972004035710106, 0.4438593467490219, 0.7205298751600158, -2.5072929563015838, -1.9846930693030382, -0.10948171007296681, 1.0279415733944537, -1.7080225408920444, 0.25941232780835866, 0.6283063656896852, 0.9972004035710106, -1.2776461633638316, 0.8742357242772347, 1.1201650828647853]}, {\"line\": {\"color\": \"#EF553B\", \"dash\": \"dot\", \"width\": 4}, \"marker\": {\"line\": {\"width\": 2}, \"size\": 5}, \"mode\": \"lines\", \"name\": \"OLS\", \"type\": \"scatter\", \"x\": [-1.6365458965301514, -1.5226472616195679, -1.4087486267089844, -1.2948498725891113, -1.1809511184692383, -1.0670524835586548, -0.9531537890434265, -0.8392550945281982, -0.7253564596176147, -0.6114578247070312, -0.497559130191803, -0.3836604952812195, -0.2697618007659912, -0.15586310625076294, -0.04196441173553467, 0.07193422317504883, 0.1858329176902771, 0.29973167181015015, 0.4136301875114441, 0.5275290012359619, 0.6414276361465454, 0.7553262710571289, 0.8692249059677124, 0.9831237196922302, 1.0970224142074585, 1.2109209299087524, 1.3248196840286255, 1.4387184381484985, 1.552617073059082, 1.6665157079696655], \"y\": [0.24105963110923767, 0.22428260743618011, 0.20750559866428375, 0.190728560090065, 0.17395152151584625, 0.1571744978427887, 0.14039747416973114, 0.12362044304609299, 0.10684341937303543, 0.09006640315055847, 0.07328937202692032, 0.05651235207915306, 0.039735324680805206, 0.022958295419812202, 0.006181266158819199, -0.010595753788948059, -0.027372783049941063, -0.044149819761514664, -0.06092682108283043, -0.07770387083292007, -0.09448088705539703, -0.11125791072845459, -0.12803493440151215, -0.1448119729757309, -0.16158899664878845, -0.17836600542068481, -0.19514304399490356, -0.21192008256912231, -0.22869710624217987, -0.24547411501407623]}, {\"line\": {\"color\": \"#00CC96\", \"dash\": \"dash\", \"width\": 4}, \"marker\": {\"line\": {\"width\": 2}, \"size\": 5}, \"mode\": \"lines\", \"name\": \"2SLS\", \"type\": \"scatter\", \"x\": [-1.6365458965301514, -1.5226472616195679, -1.4087486267089844, -1.2948498725891113, -1.1809511184692383, -1.0670524835586548, -0.9531537890434265, -0.8392550945281982, -0.7253564596176147, -0.6114578247070312, -0.497559130191803, -0.3836604952812195, -0.2697618007659912, -0.15586310625076294, -0.04196441173553467, 0.07193422317504883, 0.1858329176902771, 0.29973167181015015, 0.4136301875114441, 0.5275290012359619, 0.6414276361465454, 0.7553262710571289, 0.8692249059677124, 0.9831237196922302, 1.0970224142074585, 1.2109209299087524, 1.3248196840286255, 1.4387184381484985, 1.552617073059082, 1.6665157079696655], \"y\": [1.9413337707519531, 1.8062227964401245, 1.6711119413375854, 1.5360008478164673, 1.4008897542953491, 1.2657787799835205, 1.130667805671692, 0.9955567121505737, 0.8604457974433899, 0.7253348231315613, 0.5902237892150879, 0.45511287450790405, 0.32000184059143066, 0.18489082157611847, 0.049779802560806274, -0.08533114939928055, -0.22044216096401215, -0.3555532693862915, -0.4906640648841858, -0.6257752180099487, -0.7608861923217773, -0.8959971070289612, -1.031108021736145, -1.1662192344665527, -1.3013302087783813, -1.4364410638809204, -1.5715521574020386, -1.7066632509231567, -1.8417742252349854, -1.9768850803375244]}, {\"line\": {\"color\": \"#AB63FA\", \"dash\": \"dashdot\", \"width\": 4}, \"marker\": {\"line\": {\"width\": 2}, \"size\": 5}, \"mode\": \"lines\", \"name\": \"KIV\", \"type\": \"scatter\", \"x\": [-1.6365458965301514, -1.5226472616195679, -1.4087486267089844, -1.2948498725891113, -1.1809511184692383, -1.0670524835586548, -0.9531537890434265, -0.8392550945281982, -0.7253564596176147, -0.6114578247070312, -0.497559130191803, -0.3836604952812195, -0.2697618007659912, -0.15586310625076294, -0.04196441173553467, 0.07193422317504883, 0.1858329176902771, 0.29973167181015015, 0.4136301875114441, 0.5275290012359619, 0.6414276361465454, 0.7553262710571289, 0.8692249059677124, 0.9831237196922302, 1.0970224142074585, 1.2109209299087524, 1.3248196840286255, 1.4387184381484985, 1.552617073059082, 1.6665157079696655], \"y\": [0.08620562505298021, 0.1155518352558171, 0.15263815412347884, 0.19645164302245993, 0.24412785420391267, 0.29109786217763883, 0.33184346411005966, 0.36109263252844803, 0.3750596623785827, 0.37226775461753137, 0.3536425667331675, 0.32187870617610226, 0.2803976247192824, 0.23237175108588148, 0.18020200287939236, 0.12555658100101644, 0.06977343709660458, 0.014261654519955683, -0.039399571857106803, -0.08972824863662998, -0.1357702915915479, -0.17736673252539148, -0.21500666035380903, -0.24926261506548442, -0.28006301524757804, -0.30618704578412026, -0.3252863473690355, -0.33449511699711804, -0.3314092069144632, -0.3150384202622782]}, {\"line\": {\"color\": \"#FFA15A\", \"width\": 4}, \"marker\": {\"color\": \"#FFA15A\", \"line\": {\"color\": \"#FFA15A\", \"width\": 2}, \"size\": 5}, \"name\": \"GB lower\", \"type\": \"scatter\", \"x\": [-1.2753132581710815, -0.9816677570343018, -0.688022255897522, -0.39437657594680786, -0.10073119401931763, 0.19291448593139648, 0.48655998706817627, 0.780205488204956, 1.0738509893417358, 1.3674964904785156], \"y\": [0.20934076607227325, 0.08623121678829193, -0.07718298584222794, -0.27837473154067993, -0.4408887028694153, -0.6471961736679077, -0.9357966184616089, -1.271626353263855, -1.7137612104415894, -2.240229368209839]}, {\"line\": {\"color\": \"#19D3F3\", \"width\": 4}, \"marker\": {\"color\": \"#19D3F3\", \"line\": {\"color\": \"#19D3F3\", \"width\": 2}, \"size\": 5}, \"name\": \"GB upper\", \"type\": \"scatter\", \"x\": [-1.2753132581710815, -0.9816677570343018, -0.688022255897522, -0.39437657594680786, -0.10073119401931763, 0.19291448593139648, 0.48655998706817627, 0.780205488204956, 1.0738509893417358, 1.3674964904785156], \"y\": [2.030583620071411, 1.6260333061218262, 1.287808895111084, 0.9524120688438416, 0.6720197200775146, 0.4577283561229706, 0.301591694355011, 0.12118107825517654, -0.04830782115459442, -0.17841950058937073]}],                        {\"font\": {\"family\": \"serif\", \"size\": 32}, \"margin\": {\"b\": 0, \"l\": 0, \"r\": 0, \"t\": 0}, \"plot_bgcolor\": \"rgba(0,0,0,0)\", \"showlegend\": false, \"template\": {\"data\": {\"bar\": [{\"error_x\": {\"color\": \"#2a3f5f\"}, \"error_y\": {\"color\": \"#2a3f5f\"}, \"marker\": {\"line\": {\"color\": \"#E5ECF6\", \"width\": 0.5}}, \"type\": \"bar\"}], \"barpolar\": [{\"marker\": {\"line\": {\"color\": \"#E5ECF6\", \"width\": 0.5}}, \"type\": \"barpolar\"}], \"carpet\": [{\"aaxis\": {\"endlinecolor\": \"#2a3f5f\", \"gridcolor\": \"white\", \"linecolor\": \"white\", \"minorgridcolor\": \"white\", \"startlinecolor\": \"#2a3f5f\"}, \"baxis\": {\"endlinecolor\": \"#2a3f5f\", \"gridcolor\": \"white\", \"linecolor\": \"white\", \"minorgridcolor\": \"white\", \"startlinecolor\": \"#2a3f5f\"}, \"type\": \"carpet\"}], \"choropleth\": [{\"colorbar\": {\"outlinewidth\": 0, \"ticks\": \"\"}, \"type\": \"choropleth\"}], \"contour\": [{\"colorbar\": {\"outlinewidth\": 0, \"ticks\": \"\"}, \"colorscale\": [[0.0, \"#0d0887\"], [0.1111111111111111, \"#46039f\"], [0.2222222222222222, \"#7201a8\"], [0.3333333333333333, \"#9c179e\"], [0.4444444444444444, \"#bd3786\"], [0.5555555555555556, \"#d8576b\"], [0.6666666666666666, \"#ed7953\"], [0.7777777777777778, \"#fb9f3a\"], [0.8888888888888888, \"#fdca26\"], [1.0, \"#f0f921\"]], \"type\": \"contour\"}], \"contourcarpet\": [{\"colorbar\": {\"outlinewidth\": 0, \"ticks\": \"\"}, \"type\": \"contourcarpet\"}], \"heatmap\": [{\"colorbar\": {\"outlinewidth\": 0, \"ticks\": \"\"}, \"colorscale\": [[0.0, \"#0d0887\"], [0.1111111111111111, \"#46039f\"], [0.2222222222222222, \"#7201a8\"], [0.3333333333333333, \"#9c179e\"], [0.4444444444444444, \"#bd3786\"], [0.5555555555555556, \"#d8576b\"], [0.6666666666666666, \"#ed7953\"], [0.7777777777777778, \"#fb9f3a\"], [0.8888888888888888, \"#fdca26\"], [1.0, \"#f0f921\"]], \"type\": \"heatmap\"}], \"heatmapgl\": [{\"colorbar\": {\"outlinewidth\": 0, \"ticks\": \"\"}, \"colorscale\": [[0.0, \"#0d0887\"], [0.1111111111111111, \"#46039f\"], [0.2222222222222222, \"#7201a8\"], [0.3333333333333333, \"#9c179e\"], [0.4444444444444444, \"#bd3786\"], [0.5555555555555556, \"#d8576b\"], [0.6666666666666666, \"#ed7953\"], [0.7777777777777778, \"#fb9f3a\"], [0.8888888888888888, \"#fdca26\"], [1.0, \"#f0f921\"]], \"type\": \"heatmapgl\"}], \"histogram\": [{\"marker\": {\"colorbar\": {\"outlinewidth\": 0, \"ticks\": \"\"}}, \"type\": \"histogram\"}], \"histogram2d\": [{\"colorbar\": {\"outlinewidth\": 0, \"ticks\": \"\"}, \"colorscale\": [[0.0, \"#0d0887\"], [0.1111111111111111, \"#46039f\"], [0.2222222222222222, \"#7201a8\"], [0.3333333333333333, \"#9c179e\"], [0.4444444444444444, \"#bd3786\"], [0.5555555555555556, \"#d8576b\"], [0.6666666666666666, \"#ed7953\"], [0.7777777777777778, \"#fb9f3a\"], [0.8888888888888888, \"#fdca26\"], [1.0, \"#f0f921\"]], \"type\": \"histogram2d\"}], \"histogram2dcontour\": [{\"colorbar\": {\"outlinewidth\": 0, \"ticks\": \"\"}, \"colorscale\": [[0.0, \"#0d0887\"], [0.1111111111111111, \"#46039f\"], [0.2222222222222222, \"#7201a8\"], [0.3333333333333333, \"#9c179e\"], [0.4444444444444444, \"#bd3786\"], [0.5555555555555556, \"#d8576b\"], [0.6666666666666666, \"#ed7953\"], [0.7777777777777778, \"#fb9f3a\"], [0.8888888888888888, \"#fdca26\"], [1.0, \"#f0f921\"]], \"type\": \"histogram2dcontour\"}], \"mesh3d\": [{\"colorbar\": {\"outlinewidth\": 0, \"ticks\": \"\"}, \"type\": \"mesh3d\"}], \"parcoords\": [{\"line\": {\"colorbar\": {\"outlinewidth\": 0, \"ticks\": \"\"}}, \"type\": \"parcoords\"}], \"pie\": [{\"automargin\": true, \"type\": \"pie\"}], \"scatter\": [{\"marker\": {\"colorbar\": {\"outlinewidth\": 0, \"ticks\": \"\"}}, \"type\": \"scatter\"}], \"scatter3d\": [{\"line\": {\"colorbar\": {\"outlinewidth\": 0, \"ticks\": \"\"}}, \"marker\": {\"colorbar\": {\"outlinewidth\": 0, \"ticks\": \"\"}}, \"type\": \"scatter3d\"}], \"scattercarpet\": [{\"marker\": {\"colorbar\": {\"outlinewidth\": 0, \"ticks\": \"\"}}, \"type\": \"scattercarpet\"}], \"scattergeo\": [{\"marker\": {\"colorbar\": {\"outlinewidth\": 0, \"ticks\": \"\"}}, \"type\": \"scattergeo\"}], \"scattergl\": [{\"marker\": {\"colorbar\": {\"outlinewidth\": 0, \"ticks\": \"\"}}, \"type\": \"scattergl\"}], \"scattermapbox\": [{\"marker\": {\"colorbar\": {\"outlinewidth\": 0, \"ticks\": \"\"}}, \"type\": \"scattermapbox\"}], \"scatterpolar\": [{\"marker\": {\"colorbar\": {\"outlinewidth\": 0, \"ticks\": \"\"}}, \"type\": \"scatterpolar\"}], \"scatterpolargl\": [{\"marker\": {\"colorbar\": {\"outlinewidth\": 0, \"ticks\": \"\"}}, \"type\": \"scatterpolargl\"}], \"scatterternary\": [{\"marker\": {\"colorbar\": {\"outlinewidth\": 0, \"ticks\": \"\"}}, \"type\": \"scatterternary\"}], \"surface\": [{\"colorbar\": {\"outlinewidth\": 0, \"ticks\": \"\"}, \"colorscale\": [[0.0, \"#0d0887\"], [0.1111111111111111, \"#46039f\"], [0.2222222222222222, \"#7201a8\"], [0.3333333333333333, \"#9c179e\"], [0.4444444444444444, \"#bd3786\"], [0.5555555555555556, \"#d8576b\"], [0.6666666666666666, \"#ed7953\"], [0.7777777777777778, \"#fb9f3a\"], [0.8888888888888888, \"#fdca26\"], [1.0, \"#f0f921\"]], \"type\": \"surface\"}], \"table\": [{\"cells\": {\"fill\": {\"color\": \"#EBF0F8\"}, \"line\": {\"color\": \"white\"}}, \"header\": {\"fill\": {\"color\": \"#C8D4E3\"}, \"line\": {\"color\": \"white\"}}, \"type\": \"table\"}]}, \"layout\": {\"annotationdefaults\": {\"arrowcolor\": \"#2a3f5f\", \"arrowhead\": 0, \"arrowwidth\": 1}, \"autotypenumbers\": \"strict\", \"coloraxis\": {\"colorbar\": {\"outlinewidth\": 0, \"ticks\": \"\"}}, \"colorscale\": {\"diverging\": [[0, \"#8e0152\"], [0.1, \"#c51b7d\"], [0.2, \"#de77ae\"], [0.3, \"#f1b6da\"], [0.4, \"#fde0ef\"], [0.5, \"#f7f7f7\"], [0.6, \"#e6f5d0\"], [0.7, \"#b8e186\"], [0.8, \"#7fbc41\"], [0.9, \"#4d9221\"], [1, \"#276419\"]], \"sequential\": [[0.0, \"#0d0887\"], [0.1111111111111111, \"#46039f\"], [0.2222222222222222, \"#7201a8\"], [0.3333333333333333, \"#9c179e\"], [0.4444444444444444, \"#bd3786\"], [0.5555555555555556, \"#d8576b\"], [0.6666666666666666, \"#ed7953\"], [0.7777777777777778, \"#fb9f3a\"], [0.8888888888888888, \"#fdca26\"], [1.0, \"#f0f921\"]], \"sequentialminus\": [[0.0, \"#0d0887\"], [0.1111111111111111, \"#46039f\"], [0.2222222222222222, \"#7201a8\"], [0.3333333333333333, \"#9c179e\"], [0.4444444444444444, \"#bd3786\"], [0.5555555555555556, \"#d8576b\"], [0.6666666666666666, \"#ed7953\"], [0.7777777777777778, \"#fb9f3a\"], [0.8888888888888888, \"#fdca26\"], [1.0, \"#f0f921\"]]}, \"colorway\": [\"#636efa\", \"#EF553B\", \"#00cc96\", \"#ab63fa\", \"#FFA15A\", \"#19d3f3\", \"#FF6692\", \"#B6E880\", \"#FF97FF\", \"#FECB52\"], \"font\": {\"color\": \"#2a3f5f\"}, \"geo\": {\"bgcolor\": \"white\", \"lakecolor\": \"white\", \"landcolor\": \"#E5ECF6\", \"showlakes\": true, \"showland\": true, \"subunitcolor\": \"white\"}, \"hoverlabel\": {\"align\": \"left\"}, \"hovermode\": \"closest\", \"mapbox\": {\"style\": \"light\"}, \"paper_bgcolor\": \"white\", \"plot_bgcolor\": \"#E5ECF6\", \"polar\": {\"angularaxis\": {\"gridcolor\": \"white\", \"linecolor\": \"white\", \"ticks\": \"\"}, \"bgcolor\": \"#E5ECF6\", \"radialaxis\": {\"gridcolor\": \"white\", \"linecolor\": \"white\", \"ticks\": \"\"}}, \"scene\": {\"xaxis\": {\"backgroundcolor\": \"#E5ECF6\", \"gridcolor\": \"white\", \"gridwidth\": 2, \"linecolor\": \"white\", \"showbackground\": true, \"ticks\": \"\", \"zerolinecolor\": \"white\"}, \"yaxis\": {\"backgroundcolor\": \"#E5ECF6\", \"gridcolor\": \"white\", \"gridwidth\": 2, \"linecolor\": \"white\", \"showbackground\": true, \"ticks\": \"\", \"zerolinecolor\": \"white\"}, \"zaxis\": {\"backgroundcolor\": \"#E5ECF6\", \"gridcolor\": \"white\", \"gridwidth\": 2, \"linecolor\": \"white\", \"showbackground\": true, \"ticks\": \"\", \"zerolinecolor\": \"white\"}}, \"shapedefaults\": {\"line\": {\"color\": \"#2a3f5f\"}}, \"ternary\": {\"aaxis\": {\"gridcolor\": \"white\", \"linecolor\": \"white\", \"ticks\": \"\"}, \"baxis\": {\"gridcolor\": \"white\", \"linecolor\": \"white\", \"ticks\": \"\"}, \"bgcolor\": \"#E5ECF6\", \"caxis\": {\"gridcolor\": \"white\", \"linecolor\": \"white\", \"ticks\": \"\"}}, \"title\": {\"x\": 0.05}, \"xaxis\": {\"automargin\": true, \"gridcolor\": \"white\", \"linecolor\": \"white\", \"ticks\": \"\", \"title\": {\"standoff\": 15}, \"zerolinecolor\": \"white\", \"zerolinewidth\": 2}, \"yaxis\": {\"automargin\": true, \"gridcolor\": \"white\", \"linecolor\": \"white\", \"ticks\": \"\", \"title\": {\"standoff\": 15}, \"zerolinecolor\": \"white\", \"zerolinewidth\": 2}}}, \"xaxis\": {\"linecolor\": \"black\", \"linewidth\": 2, \"showline\": true, \"title\": {\"text\": \"Simpson Diversity (standardized)\"}}, \"yaxis\": {\"linecolor\": \"black\", \"linewidth\": 2, \"showline\": true, \"title\": {\"text\": \"Weight (standardized)\"}}},                        {\"responsive\": true}                    ).then(function(){\n",
       "                            \n",
       "var gd = document.getElementById('1b120696-df14-43a2-943b-dbdf142e4ab6');\n",
       "var x = new MutationObserver(function (mutations, observer) {{\n",
       "        var display = window.getComputedStyle(gd).display;\n",
       "        if (!display || display === 'none') {{\n",
       "            console.log([gd, 'removed!']);\n",
       "            Plotly.purge(gd);\n",
       "            observer.disconnect();\n",
       "        }}\n",
       "}});\n",
       "\n",
       "// Listen for the removal of the full notebook cells\n",
       "var notebookContainer = gd.closest('#notebook-container');\n",
       "if (notebookContainer) {{\n",
       "    x.observe(notebookContainer, {childList: true});\n",
       "}}\n",
       "\n",
       "// Listen for the clearing of the current output cell\n",
       "var outputEl = gd.closest('.output');\n",
       "if (outputEl) {{\n",
       "    x.observe(outputEl, {childList: true});\n",
       "}}\n",
       "\n",
       "                        })                };                });            </script>        </div>"
      ]
     },
     "metadata": {},
     "output_type": "display_data"
    }
   ],
   "source": [
    "fig = plot_diversity_methods(x, y, xstar, xstar_bound, ystar_ols, ystar_2sls, ystar_kiv, results)\n",
    "fig.update_layout(xaxis=dict(title=\"Simpson Diversity (standardized)\"))\n",
    "fig.update_layout(showlegend=False)\n",
    "fig.show()\n",
    "fig.write_image(os.path.join(img_path, \"SimpsonDiversity_withoutLegend.pdf\"))"
   ]
  },
  {
   "cell_type": "code",
   "execution_count": null,
   "metadata": {},
   "outputs": [],
   "source": []
  }
 ],
 "metadata": {
  "kernelspec": {
   "display_name": "Python 3",
   "language": "python",
   "name": "python3"
  },
  "language_info": {
   "codemirror_mode": {
    "name": "ipython",
    "version": 3
   },
   "file_extension": ".py",
   "mimetype": "text/x-python",
   "name": "python",
   "nbconvert_exporter": "python",
   "pygments_lexer": "ipython3",
   "version": "3.7.0"
  }
 },
 "nbformat": 4,
 "nbformat_minor": 4
}
